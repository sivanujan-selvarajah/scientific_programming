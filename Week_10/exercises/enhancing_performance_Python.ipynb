{
 "cells": [
  {
   "attachments": {},
   "cell_type": "markdown",
   "metadata": {},
   "source": [
    "# Enhancing performance with Python"
   ]
  },
  {
   "attachments": {},
   "cell_type": "markdown",
   "metadata": {},
   "source": [
    "## Libraries and settings"
   ]
  },
  {
   "cell_type": "code",
   "execution_count": 1,
   "metadata": {},
   "outputs": [
    {
     "name": "stdout",
     "output_type": "stream",
     "text": [
      "/Users/sivanujanselvarajah/Documents/zhaw/4.Semester/Scientific programming/scientific_programming/Week_10/exercises\n"
     ]
    }
   ],
   "source": [
    "# Libraries\n",
    "import os\n",
    "import csv\n",
    "import random\n",
    "import numpy as np\n",
    "import pandas as pd\n",
    "\n",
    "# Ignore warnings\n",
    "import warnings\n",
    "warnings.filterwarnings('ignore')\n",
    "\n",
    "# Show current working directory\n",
    "print(os.getcwd())"
   ]
  },
  {
   "attachments": {},
   "cell_type": "markdown",
   "metadata": {},
   "source": [
    "## Create data set with simulated apartment data"
   ]
  },
  {
   "cell_type": "code",
   "execution_count": 2,
   "metadata": {},
   "outputs": [
    {
     "name": "stdout",
     "output_type": "stream",
     "text": [
      "              id      price       area     rooms\n",
      "count  100000.00  100000.00  100000.00  100000.0\n",
      "mean    50000.50    4067.06     137.92       4.0\n",
      "std     28867.66    2211.97      73.46       2.0\n",
      "min         1.00     625.00      25.00       1.0\n",
      "25%     25000.75    2232.00      78.00       2.0\n",
      "50%     50000.50    3915.00     132.00       4.0\n",
      "75%     75000.25    5670.00     192.00       6.0\n",
      "max    100000.00   10472.00     308.00       7.0\n"
     ]
    },
    {
     "data": {
      "text/html": [
       "<div>\n",
       "<style scoped>\n",
       "    .dataframe tbody tr th:only-of-type {\n",
       "        vertical-align: middle;\n",
       "    }\n",
       "\n",
       "    .dataframe tbody tr th {\n",
       "        vertical-align: top;\n",
       "    }\n",
       "\n",
       "    .dataframe thead th {\n",
       "        text-align: right;\n",
       "    }\n",
       "</style>\n",
       "<table border=\"1\" class=\"dataframe\">\n",
       "  <thead>\n",
       "    <tr style=\"text-align: right;\">\n",
       "      <th></th>\n",
       "      <th>id</th>\n",
       "      <th>price</th>\n",
       "      <th>area</th>\n",
       "      <th>rooms</th>\n",
       "    </tr>\n",
       "  </thead>\n",
       "  <tbody>\n",
       "    <tr>\n",
       "      <th>0</th>\n",
       "      <td>1</td>\n",
       "      <td>2706</td>\n",
       "      <td>82</td>\n",
       "      <td>2</td>\n",
       "    </tr>\n",
       "    <tr>\n",
       "      <th>1</th>\n",
       "      <td>2</td>\n",
       "      <td>6708</td>\n",
       "      <td>258</td>\n",
       "      <td>6</td>\n",
       "    </tr>\n",
       "    <tr>\n",
       "      <th>2</th>\n",
       "      <td>3</td>\n",
       "      <td>1850</td>\n",
       "      <td>74</td>\n",
       "      <td>2</td>\n",
       "    </tr>\n",
       "    <tr>\n",
       "      <th>3</th>\n",
       "      <td>4</td>\n",
       "      <td>4080</td>\n",
       "      <td>136</td>\n",
       "      <td>4</td>\n",
       "    </tr>\n",
       "    <tr>\n",
       "      <th>4</th>\n",
       "      <td>5</td>\n",
       "      <td>3500</td>\n",
       "      <td>125</td>\n",
       "      <td>5</td>\n",
       "    </tr>\n",
       "    <tr>\n",
       "      <th>...</th>\n",
       "      <td>...</td>\n",
       "      <td>...</td>\n",
       "      <td>...</td>\n",
       "      <td>...</td>\n",
       "    </tr>\n",
       "    <tr>\n",
       "      <th>99995</th>\n",
       "      <td>99996</td>\n",
       "      <td>5676</td>\n",
       "      <td>172</td>\n",
       "      <td>4</td>\n",
       "    </tr>\n",
       "    <tr>\n",
       "      <th>99996</th>\n",
       "      <td>99997</td>\n",
       "      <td>4785</td>\n",
       "      <td>165</td>\n",
       "      <td>5</td>\n",
       "    </tr>\n",
       "    <tr>\n",
       "      <th>99997</th>\n",
       "      <td>99998</td>\n",
       "      <td>8064</td>\n",
       "      <td>252</td>\n",
       "      <td>6</td>\n",
       "    </tr>\n",
       "    <tr>\n",
       "      <th>99998</th>\n",
       "      <td>99999</td>\n",
       "      <td>1287</td>\n",
       "      <td>39</td>\n",
       "      <td>1</td>\n",
       "    </tr>\n",
       "    <tr>\n",
       "      <th>99999</th>\n",
       "      <td>100000</td>\n",
       "      <td>6560</td>\n",
       "      <td>205</td>\n",
       "      <td>5</td>\n",
       "    </tr>\n",
       "  </tbody>\n",
       "</table>\n",
       "<p>100000 rows × 4 columns</p>\n",
       "</div>"
      ],
      "text/plain": [
       "           id  price  area  rooms\n",
       "0           1   2706    82      2\n",
       "1           2   6708   258      6\n",
       "2           3   1850    74      2\n",
       "3           4   4080   136      4\n",
       "4           5   3500   125      5\n",
       "...       ...    ...   ...    ...\n",
       "99995   99996   5676   172      4\n",
       "99996   99997   4785   165      5\n",
       "99997   99998   8064   252      6\n",
       "99998   99999   1287    39      1\n",
       "99999  100000   6560   205      5\n",
       "\n",
       "[100000 rows x 4 columns]"
      ]
     },
     "execution_count": 2,
     "metadata": {},
     "output_type": "execute_result"
    }
   ],
   "source": [
    "def apmt_sim(n_records):\n",
    "    \"\"\"Simulates an apartment data set\"\"\"\n",
    "\n",
    "    rooms = np.random.randint(1, 8, size=n_records).astype(int)\n",
    "    area = (rooms * np.random.randint(25, 45, size=n_records)).astype(int)\n",
    "    price = (area * np.random.randint(25, 35, size=n_records)).astype(int)\n",
    "\n",
    "    df = pd.DataFrame(\n",
    "        {\n",
    "            \"id\": list(range(1, n_records+1, 1)),\n",
    "            \"price\": price,\n",
    "            \"area\": area,\n",
    "            \"rooms\": rooms\n",
    "        }\n",
    "    )\n",
    "\n",
    "    return df\n",
    "\n",
    "# Create data frame with 100'000 records\n",
    "df = apmt_sim(n_records=10**5)\n",
    "\n",
    "# Save data to file\n",
    "df.to_csv('apartment_data_simulated.csv', sep=';', encoding='utf-8')\n",
    "\n",
    "# Statistics to check values \n",
    "print(df.iloc[:,:].describe().round(2))\n",
    "\n",
    "# Show data frame\n",
    "df"
   ]
  },
  {
   "attachments": {},
   "cell_type": "markdown",
   "metadata": {},
   "source": [
    "## Function to calculate the price per m2"
   ]
  },
  {
   "cell_type": "code",
   "execution_count": 3,
   "metadata": {},
   "outputs": [],
   "source": [
    "# Function\n",
    "def ppm2(price, area):\n",
    "    \"\"\"Calculates the price per m2\"\"\"\n",
    "    \n",
    "    return price / area"
   ]
  },
  {
   "attachments": {},
   "cell_type": "markdown",
   "metadata": {},
   "source": [
    "## Compare the performance\n",
    "Note that, in the code below, the magic command <b style=\"color:blue\">%%timeit</b> measures the mean execution time of a cell (-r 1 means 1 run)"
   ]
  },
  {
   "attachments": {},
   "cell_type": "markdown",
   "metadata": {},
   "source": [
    "### Using a for loop"
   ]
  },
  {
   "cell_type": "code",
   "execution_count": 15,
   "metadata": {},
   "outputs": [
    {
     "name": "stdout",
     "output_type": "stream",
     "text": [
      "1.89 s ± 0 ns per loop (mean ± std. dev. of 1 run, 1 loop each)\n"
     ]
    }
   ],
   "source": [
    "%%timeit -r 1\n",
    "\n",
    "# Foor loop with df.iterrows()\n",
    "price_m2 = []\n",
    "for index, row in df.iterrows():\n",
    "    price_m2.append(ppm2(row['price'], row['area']))\n",
    "\n",
    "# Write new variable to df\n",
    "df['price_per_m2'] = price_m2"
   ]
  },
  {
   "attachments": {},
   "cell_type": "markdown",
   "metadata": {},
   "source": [
    "### Using column division"
   ]
  },
  {
   "cell_type": "code",
   "execution_count": 5,
   "metadata": {},
   "outputs": [
    {
     "name": "stdout",
     "output_type": "stream",
     "text": [
      "197 µs ± 0 ns per loop (mean ± std. dev. of 1 run, 1,000 loops each)\n"
     ]
    }
   ],
   "source": [
    "%%timeit -r 1\n",
    "\n",
    "df['price_per_m2'] = df['price'] / df['area']"
   ]
  },
  {
   "attachments": {},
   "cell_type": "markdown",
   "metadata": {},
   "source": [
    "### Using .apply() and lambda"
   ]
  },
  {
   "cell_type": "code",
   "execution_count": 6,
   "metadata": {},
   "outputs": [
    {
     "name": "stdout",
     "output_type": "stream",
     "text": [
      "507 ms ± 0 ns per loop (mean ± std. dev. of 1 run, 1 loop each)\n"
     ]
    }
   ],
   "source": [
    "%%timeit -r 1\n",
    "\n",
    "df['price_per_m2'] = df.apply(lambda row: ppm2(row['price'], row['area']), axis=1)"
   ]
  },
  {
   "attachments": {},
   "cell_type": "markdown",
   "metadata": {},
   "source": [
    "### Using .map() and lambda"
   ]
  },
  {
   "cell_type": "code",
   "execution_count": 7,
   "metadata": {},
   "outputs": [
    {
     "name": "stdout",
     "output_type": "stream",
     "text": [
      "21.7 ms ± 0 ns per loop (mean ± std. dev. of 1 run, 10 loops each)\n"
     ]
    }
   ],
   "source": [
    "%%timeit -r 1\n",
    "\n",
    "df['price_per_m2'] = list(map(ppm2, df['price'], df['area']))"
   ]
  },
  {
   "attachments": {},
   "cell_type": "markdown",
   "metadata": {},
   "source": [
    "## Enhancing performance when reading and writing data from/to a file"
   ]
  },
  {
   "attachments": {},
   "cell_type": "markdown",
   "metadata": {},
   "source": [
    "### Reading data frame from a file using pd.read_csv()"
   ]
  },
  {
   "cell_type": "code",
   "execution_count": 8,
   "metadata": {},
   "outputs": [
    {
     "name": "stdout",
     "output_type": "stream",
     "text": [
      "22.1 ms ± 0 ns per loop (mean ± std. dev. of 1 run, 10 loops each)\n"
     ]
    }
   ],
   "source": [
    "%%timeit -r 1\n",
    "\n",
    "df_in = pd.read_csv('apartment_data_simulated.csv', sep=';', encoding='utf-8')"
   ]
  },
  {
   "attachments": {},
   "cell_type": "markdown",
   "metadata": {},
   "source": [
    "### Reading data frame from a file using open() and csv.reader()"
   ]
  },
  {
   "cell_type": "code",
   "execution_count": 9,
   "metadata": {},
   "outputs": [
    {
     "name": "stdout",
     "output_type": "stream",
     "text": [
      "19.5 µs ± 0 ns per loop (mean ± std. dev. of 1 run, 100,000 loops each)\n"
     ]
    }
   ],
   "source": [
    "%%timeit -r 1\n",
    "\n",
    "# Open the file for reading\n",
    "with open(\"apartment_data_simulated.csv\", 'r') as file:\n",
    "    csv_reader = csv.reader(file, delimiter=\";\")\n",
    "\n",
    "    # This requires that your process rows as you produce them, e.g.:\n",
    "    #line_count = 0\n",
    "    #for row in csv_reader:\n",
    "    #    if line_count == 0:\n",
    "    #        print(f'Column names are {\", \".join(row)}')\n",
    "    #        line_count += 1\n",
    "    #    line_count += 1\n",
    "    #print(f'Number of lines processed: {line_count}.')\n"
   ]
  },
  {
   "attachments": {},
   "cell_type": "markdown",
   "metadata": {},
   "source": [
    "### Writing the data frame to a .csv file using pd.to_csv()"
   ]
  },
  {
   "cell_type": "code",
   "execution_count": 10,
   "metadata": {},
   "outputs": [
    {
     "name": "stdout",
     "output_type": "stream",
     "text": [
      "138 ms ± 0 ns per loop (mean ± std. dev. of 1 run, 10 loops each)\n"
     ]
    }
   ],
   "source": [
    "%%timeit -r 1\n",
    "\n",
    "df.to_csv('apartment_data_exported.csv', sep=';', encoding='utf-8')"
   ]
  },
  {
   "attachments": {},
   "cell_type": "markdown",
   "metadata": {},
   "source": [
    "### Writing data to a .csv file using open() and csv.writer()"
   ]
  },
  {
   "cell_type": "code",
   "execution_count": 11,
   "metadata": {},
   "outputs": [
    {
     "data": {
      "text/plain": [
       "[[1.0, 2706.0, 82.0, 2.0, 33.0],\n",
       " [2.0, 6708.0, 258.0, 6.0, 26.0],\n",
       " [3.0, 1850.0, 74.0, 2.0, 25.0],\n",
       " [4.0, 4080.0, 136.0, 4.0, 30.0],\n",
       " [5.0, 3500.0, 125.0, 5.0, 28.0]]"
      ]
     },
     "execution_count": 11,
     "metadata": {},
     "output_type": "execute_result"
    }
   ],
   "source": [
    "# Convert data frame to list\n",
    "lst = df.values.tolist()\n",
    "lst[:5]"
   ]
  },
  {
   "cell_type": "code",
   "execution_count": 12,
   "metadata": {},
   "outputs": [
    {
     "name": "stdout",
     "output_type": "stream",
     "text": [
      "121 ms ± 0 ns per loop (mean ± std. dev. of 1 run, 10 loops each)\n"
     ]
    }
   ],
   "source": [
    "%%timeit -r 1\n",
    "\n",
    "# Column names\n",
    "column_names = ['id', 'price', 'area', 'rooms', 'price_per_m2']\n",
    "\n",
    "# Open a file for writing\n",
    "with open('apartment_data_exported.csv', 'w', newline='') as file:\n",
    "\n",
    "    # Create a CSV writer object with a semicolon delimiter\n",
    "    writer = csv.writer(file, delimiter=';')\n",
    "\n",
    "    # Write the column names as the first row in the CSV file\n",
    "    writer.writerow(column_names)\n",
    "\n",
    "    # Write each sub-list as a row to the CSV file\n",
    "    for row in lst:\n",
    "        writer.writerow(row)"
   ]
  },
  {
   "attachments": {},
   "cell_type": "markdown",
   "metadata": {},
   "source": [
    "### Jupyter notebook --footer info-- (please always provide this at the end of each notebook)"
   ]
  },
  {
   "cell_type": "code",
   "execution_count": 13,
   "metadata": {},
   "outputs": [
    {
     "name": "stdout",
     "output_type": "stream",
     "text": [
      "-----------------------------------\n",
      "POSIX\n",
      "Darwin | 23.3.0\n",
      "Datetime: 2024-04-24 16:43:32\n",
      "Python Version: 3.10.13\n",
      "-----------------------------------\n"
     ]
    }
   ],
   "source": [
    "import os\n",
    "import platform\n",
    "import socket\n",
    "from platform import python_version\n",
    "from datetime import datetime\n",
    "\n",
    "print('-----------------------------------')\n",
    "print(os.name.upper())\n",
    "print(platform.system(), '|', platform.release())\n",
    "print('Datetime:', datetime.now().strftime(\"%Y-%m-%d %H:%M:%S\"))\n",
    "print('Python Version:', python_version())\n",
    "print('-----------------------------------')"
   ]
  }
 ],
 "metadata": {
  "kernelspec": {
   "display_name": "spenv",
   "language": "python",
   "name": "python3"
  },
  "language_info": {
   "codemirror_mode": {
    "name": "ipython",
    "version": 3
   },
   "file_extension": ".py",
   "mimetype": "text/x-python",
   "name": "python",
   "nbconvert_exporter": "python",
   "pygments_lexer": "ipython3",
   "version": "3.10.13"
  },
  "orig_nbformat": 4
 },
 "nbformat": 4,
 "nbformat_minor": 2
}
