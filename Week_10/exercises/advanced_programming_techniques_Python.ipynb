{
 "cells": [
  {
   "cell_type": "markdown",
   "id": "186e23db",
   "metadata": {},
   "source": [
    "# Advanced programming techniques in Python"
   ]
  },
  {
   "attachments": {},
   "cell_type": "markdown",
   "id": "22304964",
   "metadata": {},
   "source": [
    "## Libraries and settings"
   ]
  },
  {
   "cell_type": "code",
   "execution_count": 1,
   "id": "b182bdc1",
   "metadata": {},
   "outputs": [
    {
     "name": "stdout",
     "output_type": "stream",
     "text": [
      "/Users/sivanujanselvarajah/Documents/zhaw/4.Semester/Scientific programming/scientific_programming/Week_10/exercises\n"
     ]
    }
   ],
   "source": [
    "# Libraries\n",
    "import os\n",
    "import re\n",
    "import numpy as np\n",
    "import pandas as pd\n",
    "from requests import get\n",
    "from functools import reduce\n",
    "from bs4 import BeautifulSoup\n",
    "\n",
    "# Ignore warnings\n",
    "import warnings\n",
    "warnings.filterwarnings('ignore')\n",
    "\n",
    "# Show current working directory\n",
    "print(os.getcwd())"
   ]
  },
  {
   "attachments": {},
   "cell_type": "markdown",
   "id": "878576a1",
   "metadata": {},
   "source": [
    "## Lambda"
   ]
  },
  {
   "cell_type": "code",
   "execution_count": 2,
   "id": "c4a5113c",
   "metadata": {},
   "outputs": [
    {
     "name": "stdout",
     "output_type": "stream",
     "text": [
      "84\n",
      "42\n"
     ]
    }
   ],
   "source": [
    "# Regular function\n",
    "def add_xy(x, y):\n",
    "    return x + y\n",
    "\n",
    "print(add_xy(42, 42))\n",
    "\n",
    "# Lambda function\n",
    "add_xy = lambda x, y: x + y\n",
    "print(add_xy(41, 1))"
   ]
  },
  {
   "cell_type": "code",
   "execution_count": 4,
   "id": "aa18678b",
   "metadata": {},
   "outputs": [
    {
     "name": "stdout",
     "output_type": "stream",
     "text": [
      "84\n",
      "50\n",
      "42\n"
     ]
    }
   ],
   "source": [
    "# Regular function\n",
    "def add_xy(x, y):\n",
    "    return x + y\n",
    "\n",
    "print(add_xy(42, 42))\n",
    "\n",
    "# Lambda function\n",
    "add_xy = lambda x, y : x + y\n",
    "print(add_xy(20, 30))\n",
    "\n",
    "# Lambda function\n",
    "var = lambda a, b, c : a + b + c\n",
    "print(var(20,20,2))"
   ]
  },
  {
   "cell_type": "code",
   "execution_count": 4,
   "id": "ccf43b98",
   "metadata": {},
   "outputs": [
    {
     "data": {
      "text/html": [
       "<div>\n",
       "<style scoped>\n",
       "    .dataframe tbody tr th:only-of-type {\n",
       "        vertical-align: middle;\n",
       "    }\n",
       "\n",
       "    .dataframe tbody tr th {\n",
       "        vertical-align: top;\n",
       "    }\n",
       "\n",
       "    .dataframe thead th {\n",
       "        text-align: right;\n",
       "    }\n",
       "</style>\n",
       "<table border=\"1\" class=\"dataframe\">\n",
       "  <thead>\n",
       "    <tr style=\"text-align: right;\">\n",
       "      <th></th>\n",
       "      <th>Field_1</th>\n",
       "      <th>Field_2</th>\n",
       "      <th>Field_3</th>\n",
       "      <th>Product</th>\n",
       "    </tr>\n",
       "  </thead>\n",
       "  <tbody>\n",
       "    <tr>\n",
       "      <th>a</th>\n",
       "      <td>1.50</td>\n",
       "      <td>2.50</td>\n",
       "      <td>10.0</td>\n",
       "      <td>37.5000</td>\n",
       "    </tr>\n",
       "    <tr>\n",
       "      <th>b</th>\n",
       "      <td>4.00</td>\n",
       "      <td>20.25</td>\n",
       "      <td>25.0</td>\n",
       "      <td>2025.0000</td>\n",
       "    </tr>\n",
       "    <tr>\n",
       "      <th>c</th>\n",
       "      <td>2.50</td>\n",
       "      <td>5.20</td>\n",
       "      <td>8.0</td>\n",
       "      <td>104.0000</td>\n",
       "    </tr>\n",
       "    <tr>\n",
       "      <th>d</th>\n",
       "      <td>4.50</td>\n",
       "      <td>5.80</td>\n",
       "      <td>4.8</td>\n",
       "      <td>125.2800</td>\n",
       "    </tr>\n",
       "    <tr>\n",
       "      <th>e</th>\n",
       "      <td>4.00</td>\n",
       "      <td>6.30</td>\n",
       "      <td>70.0</td>\n",
       "      <td>1764.0000</td>\n",
       "    </tr>\n",
       "    <tr>\n",
       "      <th>f</th>\n",
       "      <td>16.81</td>\n",
       "      <td>40.96</td>\n",
       "      <td>81.0</td>\n",
       "      <td>55771.5456</td>\n",
       "    </tr>\n",
       "    <tr>\n",
       "      <th>g</th>\n",
       "      <td>5.10</td>\n",
       "      <td>2.30</td>\n",
       "      <td>11.1</td>\n",
       "      <td>130.2030</td>\n",
       "    </tr>\n",
       "  </tbody>\n",
       "</table>\n",
       "</div>"
      ],
      "text/plain": [
       "   Field_1  Field_2  Field_3     Product\n",
       "a     1.50     2.50     10.0     37.5000\n",
       "b     4.00    20.25     25.0   2025.0000\n",
       "c     2.50     5.20      8.0    104.0000\n",
       "d     4.50     5.80      4.8    125.2800\n",
       "e     4.00     6.30     70.0   1764.0000\n",
       "f    16.81    40.96     81.0  55771.5456\n",
       "g     5.10     2.30     11.1    130.2030"
      ]
     },
     "execution_count": 4,
     "metadata": {},
     "output_type": "execute_result"
    }
   ],
   "source": [
    "# Creating a pandas dataframe\n",
    "df = pd.DataFrame(data=[[1.5, 2.5, 10.0], [2.0, 4.5, 5.0], [2.5, 5.2, 8.0],\n",
    "                        [4.5, 5.8, 4.8], [4.0, 6.3, 70], [4.1, 6.4, 9.0],\n",
    "                        [5.1, 2.3, 11.1]],\n",
    "                  columns=['Field_1', 'Field_2', 'Field_3'],\n",
    "                  index=['a', 'b', 'c', 'd', 'e', 'f', 'g'])\n",
    " \n",
    " \n",
    "# Apply function numpy.square() to square rows with index name 'b' and 'f'\n",
    "df = df.apply(lambda x: np.square(x) if x.name in ['b', 'f'] else x, axis=1)\n",
    " \n",
    "# Applying lambda function to find product of 3 columns\n",
    "df = df.assign(Product=lambda x: (x['Field_1'] * x['Field_2'] * x['Field_3']))\n",
    "df"
   ]
  },
  {
   "cell_type": "markdown",
   "id": "7c825053",
   "metadata": {},
   "source": [
    "## Map"
   ]
  },
  {
   "cell_type": "code",
   "execution_count": 5,
   "id": "d0e60b62",
   "metadata": {},
   "outputs": [
    {
     "name": "stdout",
     "output_type": "stream",
     "text": [
      "[1, 4, 9, 16, 25]\n",
      "[1, 4, 9, 16, 25]\n"
     ]
    }
   ],
   "source": [
    "# List\n",
    "numbers = [1, 2, 3, 4, 5]\n",
    "squared = []\n",
    "\n",
    "# Regular Function\n",
    "def square(number):\n",
    "    return number ** 2\n",
    "\n",
    "# Regular for loop\n",
    "for num in numbers:\n",
    "    squared.append(num**2)\n",
    "\n",
    "print(squared)\n",
    "\n",
    "# Using the map() function\n",
    "squared = map(square, numbers)\n",
    "print(list(squared))"
   ]
  },
  {
   "cell_type": "code",
   "execution_count": 6,
   "id": "6b19f09e",
   "metadata": {},
   "outputs": [
    {
     "name": "stdout",
     "output_type": "stream",
     "text": [
      "[2, 1, 0, 1, 2]\n",
      "[-2.0, -1.0, 0.0, 1.0, 2.0]\n",
      "[7, 2, 4, 6]\n"
     ]
    }
   ],
   "source": [
    "numbers = [-2, -1, 0, 1, 2]\n",
    "\n",
    "# Using map() to calculate absolute values\n",
    "abs_values = list(map(abs, numbers))\n",
    "print(abs_values)\n",
    "\n",
    "# Using map() to change data types\n",
    "print(list(map(float, numbers)))\n",
    "\n",
    "# Using map() to get the length of strings\n",
    "words = [\"Welcome\", \"to\", \"Real\", \"Python\"]\n",
    "print(list(map(len, words)))"
   ]
  },
  {
   "cell_type": "code",
   "execution_count": 7,
   "id": "b5cbf775",
   "metadata": {},
   "outputs": [
    {
     "name": "stdout",
     "output_type": "stream",
     "text": [
      "[1, 4, 9, 16, 25]\n"
     ]
    }
   ],
   "source": [
    "# Combining map() and lambda\n",
    "numbers = [1, 2, 3, 4, 5]\n",
    "squared = map(lambda num: num**2, numbers)\n",
    "\n",
    "print(list(squared))"
   ]
  },
  {
   "cell_type": "markdown",
   "id": "16e0cb00",
   "metadata": {},
   "source": [
    "## Filter"
   ]
  },
  {
   "cell_type": "code",
   "execution_count": 1,
   "id": "de078093",
   "metadata": {},
   "outputs": [
    {
     "name": "stdout",
     "output_type": "stream",
     "text": [
      "[1, 2]\n",
      "[1, 2]\n"
     ]
    }
   ],
   "source": [
    "numbers = [-2, -1, 0, 1, 2]\n",
    "\n",
    "# Filtering using a regular function\n",
    "def extract_pos(numbers):\n",
    "    pos_numbers = []\n",
    "    for number in numbers:\n",
    "        # Filtering condition\n",
    "        if number > 0:\n",
    "            pos_numbers.append(number)\n",
    "    return pos_numbers\n",
    "\n",
    "print(extract_pos(numbers))\n",
    "\n",
    "# The same as above but with filter() and lambda\n",
    "pos_numbers = filter(lambda n: n > 0, numbers)\n",
    "print(list(pos_numbers))"
   ]
  },
  {
   "cell_type": "markdown",
   "id": "361f1a6b",
   "metadata": {},
   "source": [
    "## Reduce"
   ]
  },
  {
   "cell_type": "code",
   "execution_count": 9,
   "id": "b7014430",
   "metadata": {},
   "outputs": [
    {
     "name": "stdout",
     "output_type": "stream",
     "text": [
      "[1, 2, 3, 4, 5, 6, 7, 8, 9, 10, 11, 12, 13, 14, 15, 16, 17, 18, 19, 20] \n",
      "\n",
      "1 + 2 = 3\n",
      "3 + 3 = 6\n",
      "6 + 4 = 10\n",
      "10 + 5 = 15\n",
      "15 + 6 = 21\n",
      "21 + 7 = 28\n",
      "28 + 8 = 36\n",
      "36 + 9 = 45\n",
      "45 + 10 = 55\n",
      "55 + 11 = 66\n",
      "66 + 12 = 78\n",
      "78 + 13 = 91\n",
      "91 + 14 = 105\n",
      "105 + 15 = 120\n",
      "120 + 16 = 136\n",
      "136 + 17 = 153\n",
      "153 + 18 = 171\n",
      "171 + 19 = 190\n",
      "190 + 20 = 210\n"
     ]
    },
    {
     "data": {
      "text/plain": [
       "210"
      ]
     },
     "execution_count": 9,
     "metadata": {},
     "output_type": "execute_result"
    }
   ],
   "source": [
    "# Create a list\n",
    "numbers = list(range(1,21,1))\n",
    "print(numbers, \"\\n\")\n",
    "\n",
    "# Define a function\n",
    "def my_add(a, b):\n",
    "    result = a + b\n",
    "    print(f\"{a} + {b} = {result}\")\n",
    "    return result\n",
    "\n",
    "# Using reduce() to apply the function\n",
    "reduce(my_add, numbers)"
   ]
  },
  {
   "cell_type": "code",
   "execution_count": 10,
   "id": "019198cf",
   "metadata": {},
   "outputs": [
    {
     "name": "stdout",
     "output_type": "stream",
     "text": [
      "6\n",
      "2450\n",
      "0\n",
      "784\n"
     ]
    }
   ],
   "source": [
    "# Function to calculate the sum of even numbers only\n",
    "def sum_even(it):\n",
    "    return reduce(lambda x, y: \n",
    "                  x + y if not y % 2 else x, it, 0)\n",
    "\n",
    "# Call the function\n",
    "print(sum_even([1, 2, 3, 4, 5]))\n",
    "print(sum_even(list(range(100))))\n",
    "print(sum_even(list(range(1, 100, 2))))\n",
    "print(sum_even(list(range(1, 100, 3))))"
   ]
  },
  {
   "cell_type": "code",
   "execution_count": 11,
   "id": "596ed58d",
   "metadata": {},
   "outputs": [
    {
     "name": "stdout",
     "output_type": "stream",
     "text": [
      "15\n",
      "25\n"
     ]
    }
   ],
   "source": [
    "from functools import reduce\n",
    "\n",
    "numbers = [1, 2, 3, 4, 5]\n",
    "\n",
    "# Without initializer\n",
    "result = reduce(lambda x, y: x + y, numbers)\n",
    "print(result) # Output: 15\n",
    "\n",
    "# With initializer\n",
    "result = reduce(lambda x, y: x + y, numbers, 10)\n",
    "print(result) # Output: 25"
   ]
  },
  {
   "attachments": {},
   "cell_type": "markdown",
   "id": "f1855eeb",
   "metadata": {},
   "source": [
    "## List comprehension"
   ]
  },
  {
   "cell_type": "code",
   "execution_count": 12,
   "id": "866453cd",
   "metadata": {},
   "outputs": [
    {
     "name": "stdout",
     "output_type": "stream",
     "text": [
      "[4, 16, 36, 64, 100]\n"
     ]
    }
   ],
   "source": [
    "original_list = [1, 2, 3, 4, 5, 6, 7, 8, 9, 10]\n",
    "\n",
    "# Using list comprehension to create a new list of squared even numbers\n",
    "even_numbers = [num**2 for num in original_list if num % 2 == 0]\n",
    "\n",
    "print(even_numbers)\n"
   ]
  },
  {
   "cell_type": "code",
   "execution_count": 13,
   "id": "0e34ad4e",
   "metadata": {},
   "outputs": [
    {
     "name": "stdout",
     "output_type": "stream",
     "text": [
      "[4, 16, 36, 64, 100]\n"
     ]
    }
   ],
   "source": [
    "original_list = [1, 2, 3, 4, 5, 6, 7, 8, 9, 10]\n",
    "\n",
    "# Using list comprehension with lambda function to create a new list of squared even numbers\n",
    "squares_of_even_numbers = [(lambda x: x**2)(num) for num in original_list if num % 2 == 0]\n",
    "\n",
    "print(squares_of_even_numbers)"
   ]
  },
  {
   "attachments": {},
   "cell_type": "markdown",
   "id": "f6cd5dc6",
   "metadata": {},
   "source": [
    "## Dictionary comprehension"
   ]
  },
  {
   "cell_type": "code",
   "execution_count": 14,
   "id": "71ec8e9a",
   "metadata": {},
   "outputs": [
    {
     "name": "stdout",
     "output_type": "stream",
     "text": [
      "{'Alice': 5, 'Bob': 3, 'Charlie': 7, 'David': 5}\n",
      "{'Bob': 3, 'Charlie': 7}\n"
     ]
    }
   ],
   "source": [
    "people = {'Alice': 25, 'Bob': 35, 'Charlie': 40, 'David': 30}\n",
    "\n",
    "# Using dictionary comprehension to create a new dictionary of names and name lengths\n",
    "names_and_lengths = {name: len(name) for name, age in people.items()}\n",
    "\n",
    "print(names_and_lengths)\n",
    "\n",
    "# ... same as above but with if condition\n",
    "names_and_lengths = {name: len(name) for name, age in people.items() if age > 30}\n",
    "\n",
    "print(names_and_lengths)"
   ]
  },
  {
   "cell_type": "code",
   "execution_count": 15,
   "id": "7692cf7c",
   "metadata": {},
   "outputs": [
    {
     "name": "stdout",
     "output_type": "stream",
     "text": [
      "{'Alice': 5, 'Bob': 3, 'Charlie': 7, 'David': 5}\n",
      "{'Bob': 3, 'Charlie': 7}\n"
     ]
    }
   ],
   "source": [
    "people = {'Alice': 25, 'Bob': 35, 'Charlie': 40, 'David': 30}\n",
    "\n",
    "# Using dictionary comprehension with lambda function to create a new dictionary of names and name lengths\n",
    "names_and_lengths = {name: (lambda x: len(x))(name) for name, age in people.items()}\n",
    "\n",
    "print(names_and_lengths)\n",
    "\n",
    "# ... same as obove but with if condition\n",
    "names_and_lengths = {name: (lambda x: len(x))(name) for name, age in people.items() if age > 30}\n",
    "\n",
    "print(names_and_lengths)\n"
   ]
  },
  {
   "cell_type": "markdown",
   "id": "fe606dfc",
   "metadata": {},
   "source": [
    "## Exception handling"
   ]
  },
  {
   "cell_type": "code",
   "execution_count": 16,
   "id": "f727d6d6",
   "metadata": {},
   "outputs": [
    {
     "name": "stdout",
     "output_type": "stream",
     "text": [
      "An exception occurred!\n"
     ]
    }
   ],
   "source": [
    "# Because x is not defined print(x) rises an error\n",
    "# print(x)\n",
    "\n",
    "# Try and except block to handle the exception\n",
    "try:\n",
    "    print(x)\n",
    "except:\n",
    "    print(\"An exception occurred!\")\n",
    "\n",
    "# Try and except block with pass (no output)\n",
    "try:\n",
    "    print(x)\n",
    "except:\n",
    "    pass"
   ]
  },
  {
   "cell_type": "code",
   "execution_count": 17,
   "id": "4fe38347",
   "metadata": {},
   "outputs": [
    {
     "name": "stdout",
     "output_type": "stream",
     "text": [
      "The entry is a\n",
      "Oops! <class 'ValueError'> occurred.\n",
      "Next entry.\n",
      "\n",
      "The entry is 0\n",
      "Oops! <class 'ZeroDivisionError'> occurred.\n",
      "Next entry.\n",
      "\n",
      "The entry is 2\n",
      "The reciprocal of 2 is 0.5\n"
     ]
    }
   ],
   "source": [
    "# Import module sys to get the type of exception\n",
    "import sys\n",
    "\n",
    "randomList = ['a', 0, 2]\n",
    "for entry in randomList:\n",
    "    try:\n",
    "        print(\"The entry is\", entry)\n",
    "        r = 1/int(entry)\n",
    "        break\n",
    "    except:\n",
    "        print(\"Oops!\", sys.exc_info()[0], \"occurred.\")\n",
    "        print(\"Next entry.\")\n",
    "        print()\n",
    "\n",
    "print(\"The reciprocal of\", entry, \"is\", r)"
   ]
  },
  {
   "cell_type": "code",
   "execution_count": 18,
   "id": "c8cf0781",
   "metadata": {},
   "outputs": [
    {
     "name": "stdout",
     "output_type": "stream",
     "text": [
      "Dorothy lived in the midst of the great Kansas prairies, with Uncle Henry, who was a farmer, and Aunt Em, who was the farmer’s wife. Their house was small, for the lumber to build it had to be carried by wagon many miles. There were four walls, a floor and a roof, which made one room; and this room contained a rusty looking cookstove, a cupboard for the dishes, a table, three or four chairs, and the beds. Uncle Henry and Aunt Em had a big bed in one corner, and Dorothy a little bed in another corner. There was no garret at all, and no cellar—except a small hole dug in the ground, called a cyclone cellar, where the family could go in case one of those great whirlwinds arose, mighty enough to crush any building in its path. It was reached by a trap door in the middle of the floor, from which a ladder led down into the small, dark hole.\n"
     ]
    }
   ],
   "source": [
    "# Using try and finally\n",
    "try:\n",
    "    f = open(\"test.txt\", encoding = 'utf-8')\n",
    "    \n",
    "    # Print text from file\n",
    "    print(f.read())\n",
    "    \n",
    "finally:\n",
    "    \n",
    "    f.close()"
   ]
  },
  {
   "cell_type": "markdown",
   "id": "b311a09c",
   "metadata": {},
   "source": [
    "## Regular expressions"
   ]
  },
  {
   "cell_type": "markdown",
   "id": "a1b029cd",
   "metadata": {},
   "source": [
    "Bevor using a regex in a Python programm, it should be tested using additional tools, e.g.: https://regex101.com"
   ]
  },
  {
   "cell_type": "code",
   "execution_count": 19,
   "id": "e92f05d9",
   "metadata": {},
   "outputs": [
    {
     "name": "stdout",
     "output_type": "stream",
     "text": [
      "['12', '89', '34']\n",
      "[12, 89, 34]\n"
     ]
    }
   ],
   "source": [
    "# String\n",
    "string = 'Hello 12! Hi 89! Howdy 34!'\n",
    "\n",
    "# Using findall() from the 're' library to extract all numbers\n",
    "result = re.findall('\\d+', string)\n",
    "print(result)\n",
    "\n",
    "# Use map to convert strings to numerical values\n",
    "result_final = list(map(int, result))\n",
    "print(result_final)"
   ]
  },
  {
   "cell_type": "code",
   "execution_count": 20,
   "id": "d708ea27",
   "metadata": {},
   "outputs": [
    {
     "name": "stdout",
     "output_type": "stream",
     "text": [
      "peter.meier@gmx.com\n",
      "mary.mueller@gmail.com\n",
      "urs.ursin@zhaw.ch\n",
      "anne.peter@eth-zurich.ch\n"
     ]
    }
   ],
   "source": [
    "# Example string with email addresses\n",
    "str = '''a string with peter.meier@gmx.com \n",
    "         some emails mary.mueller@gmail.com \n",
    "         inside and some more emails\n",
    "         urs.ursin@zhaw.ch and one additional  \n",
    "         email anne.peter@eth-zurich.ch'''\n",
    "\n",
    "# re.findall() returns email strings\n",
    "emails = re.findall(r'[\\w\\.-]+@[\\w\\.-]+', str)\n",
    "for email in emails:\n",
    "    print(email)"
   ]
  },
  {
   "attachments": {},
   "cell_type": "markdown",
   "id": "26c7217c",
   "metadata": {},
   "source": [
    "#### Praxis example: Get all email addresses from a web page"
   ]
  },
  {
   "cell_type": "code",
   "execution_count": 3,
   "id": "0da2f90e",
   "metadata": {},
   "outputs": [
    {
     "data": {
      "text/plain": [
       "['ebikon@emilfrey.ch',\n",
       " 'info@garagestock.ch',\n",
       " 'info@sportgarage-pachler.ch',\n",
       " 'info@1a-autoservice.ch',\n",
       " 'office@2mmotorsport.biz',\n",
       " 'e58act@gmail.com',\n",
       " 'mujdinarifi@msn.com',\n",
       " 'info@garagemaeder.com',\n",
       " 'abiszautocenter@gmail.com',\n",
       " 'info@ammotorsport.ch',\n",
       " 'garage_a.sokoli@hotmail.ch',\n",
       " 'info@garage-bizzozero.ch',\n",
       " 'shop@a-buergi.ch',\n",
       " 'info@garage-doerig.ch',\n",
       " 'a.gruetter@garage-gruetter.ch',\n",
       " 'info@talackergarage.ch',\n",
       " 'info@ameyerag.ch',\n",
       " 'sekretariat@a-reinhard.ch',\n",
       " 'garage.schoeni@bluewin.ch',\n",
       " 'info@a1autoservice.ch',\n",
       " 'info@aautilitaire.ch',\n",
       " 'a.idrizi@aare-automobile.ch',\n",
       " 'info@aare-touring.ch',\n",
       " 'iwan.mueller@aaretal-garage.com',\n",
       " 'info@ad-aaretal.ch',\n",
       " 'aaz_autohaus@bluewin.ch',\n",
       " 'rechnung@abag.ch',\n",
       " 'stefan.rolli@abag.ch',\n",
       " 'info@abc-mecanique.ch',\n",
       " 'info@abcgarage-davos.ch',\n",
       " 'info@abpgarage.ch',\n",
       " 'info@abs-autoservice.ch',\n",
       " 'info@abs-autoservice.ch',\n",
       " 'info.liestal@abtautomobile.ch',\n",
       " 'info.muttenz@abtautomobile.ch',\n",
       " 'info.reinach@abtautomobile.ch',\n",
       " 'm.steiner@alu-car.ch',\n",
       " 'info@aca-amriswil.ch',\n",
       " 'mail@acklinzug.ch',\n",
       " 'info@auto-centre-moutier.ch']"
      ]
     },
     "execution_count": 3,
     "metadata": {},
     "output_type": "execute_result"
    }
   ],
   "source": [
    "# Practical example based on content from the AGVS website\n",
    "response = get('https://www.agvs-upsa.ch/de/verband/mitgliederverzeichnis/liste')\n",
    "soup = BeautifulSoup(response.content, \"html.parser\")\n",
    "for child in soup.body.children:\n",
    "    if child.name == 'script':\n",
    "        child.decompose() \n",
    "txt = soup.body.get_text()\n",
    "\n",
    "# re.findall() returns email strings\n",
    "def email_extract(txt):\n",
    "    emails = re.findall(r'[\\w\\.-]+@[\\w\\.-]+', txt)\n",
    "    return(emails)\n",
    "\n",
    "# Call the function\n",
    "my_emails = email_extract(txt)\n",
    "my_emails"
   ]
  },
  {
   "attachments": {},
   "cell_type": "markdown",
   "id": "2ca257af",
   "metadata": {},
   "source": [
    "### Jupyter notebook --footer info-- (please always provide this at the end of each notebook)"
   ]
  },
  {
   "cell_type": "code",
   "execution_count": 4,
   "id": "b9134ae6",
   "metadata": {},
   "outputs": [
    {
     "name": "stdout",
     "output_type": "stream",
     "text": [
      "-----------------------------------\n",
      "POSIX\n",
      "Darwin | 23.3.0\n",
      "Datetime: 2024-06-05 14:11:06\n",
      "Python Version: 3.10.13\n",
      "-----------------------------------\n"
     ]
    }
   ],
   "source": [
    "import os\n",
    "import platform\n",
    "import socket\n",
    "from platform import python_version\n",
    "from datetime import datetime\n",
    "\n",
    "print('-----------------------------------')\n",
    "print(os.name.upper())\n",
    "print(platform.system(), '|', platform.release())\n",
    "print('Datetime:', datetime.now().strftime(\"%Y-%m-%d %H:%M:%S\"))\n",
    "print('Python Version:', python_version())\n",
    "print('-----------------------------------')"
   ]
  },
  {
   "cell_type": "code",
   "execution_count": 32,
   "id": "4ae72932",
   "metadata": {},
   "outputs": [
    {
     "name": "stdout",
     "output_type": "stream",
     "text": [
      "          Rating    Length\n",
      "Rating  1.000000  0.173446\n",
      "Length  0.173446  1.000000\n"
     ]
    },
    {
     "data": {
      "text/html": [
       "<div>\n",
       "<style scoped>\n",
       "    .dataframe tbody tr th:only-of-type {\n",
       "        vertical-align: middle;\n",
       "    }\n",
       "\n",
       "    .dataframe tbody tr th {\n",
       "        vertical-align: top;\n",
       "    }\n",
       "\n",
       "    .dataframe thead th {\n",
       "        text-align: right;\n",
       "    }\n",
       "</style>\n",
       "<table border=\"1\" class=\"dataframe\">\n",
       "  <thead>\n",
       "    <tr style=\"text-align: right;\">\n",
       "      <th></th>\n",
       "      <th>Review</th>\n",
       "      <th>Rating</th>\n",
       "      <th>Tokens</th>\n",
       "      <th>Length</th>\n",
       "    </tr>\n",
       "  </thead>\n",
       "  <tbody>\n",
       "    <tr>\n",
       "      <th>0</th>\n",
       "      <td>nice hotel expensive parking got good deal sta...</td>\n",
       "      <td>4</td>\n",
       "      <td>[good, great]</td>\n",
       "      <td>2</td>\n",
       "    </tr>\n",
       "    <tr>\n",
       "      <th>1</th>\n",
       "      <td>ok nothing special charge diamond member hilto...</td>\n",
       "      <td>2</td>\n",
       "      <td>[good, good, great, good, good]</td>\n",
       "      <td>5</td>\n",
       "    </tr>\n",
       "    <tr>\n",
       "      <th>2</th>\n",
       "      <td>nice rooms not 4* experience hotel monaco seat...</td>\n",
       "      <td>3</td>\n",
       "      <td>[good, great, great, great]</td>\n",
       "      <td>4</td>\n",
       "    </tr>\n",
       "    <tr>\n",
       "      <th>3</th>\n",
       "      <td>unique, great stay, wonderful time hotel monac...</td>\n",
       "      <td>5</td>\n",
       "      <td>[great, excellent, great, great, excellent]</td>\n",
       "      <td>5</td>\n",
       "    </tr>\n",
       "    <tr>\n",
       "      <th>4</th>\n",
       "      <td>great stay great stay, went seahawk game aweso...</td>\n",
       "      <td>5</td>\n",
       "      <td>[great, great, great, great, great, good]</td>\n",
       "      <td>6</td>\n",
       "    </tr>\n",
       "    <tr>\n",
       "      <th>...</th>\n",
       "      <td>...</td>\n",
       "      <td>...</td>\n",
       "      <td>...</td>\n",
       "      <td>...</td>\n",
       "    </tr>\n",
       "    <tr>\n",
       "      <th>20486</th>\n",
       "      <td>best kept secret 3rd time staying charm, not 5...</td>\n",
       "      <td>5</td>\n",
       "      <td>[great]</td>\n",
       "      <td>1</td>\n",
       "    </tr>\n",
       "    <tr>\n",
       "      <th>20487</th>\n",
       "      <td>great location price view hotel great quick pl...</td>\n",
       "      <td>4</td>\n",
       "      <td>[great, great, great, great]</td>\n",
       "      <td>4</td>\n",
       "    </tr>\n",
       "    <tr>\n",
       "      <th>20488</th>\n",
       "      <td>ok just looks nice modern outside, desk staff ...</td>\n",
       "      <td>2</td>\n",
       "      <td>[good]</td>\n",
       "      <td>1</td>\n",
       "    </tr>\n",
       "    <tr>\n",
       "      <th>20489</th>\n",
       "      <td>hotel theft ruined vacation hotel opened sept ...</td>\n",
       "      <td>1</td>\n",
       "      <td>[beautiful, excellent, great, good]</td>\n",
       "      <td>4</td>\n",
       "    </tr>\n",
       "    <tr>\n",
       "      <th>20490</th>\n",
       "      <td>people talking, ca n't believe excellent ratin...</td>\n",
       "      <td>2</td>\n",
       "      <td>[excellent]</td>\n",
       "      <td>1</td>\n",
       "    </tr>\n",
       "  </tbody>\n",
       "</table>\n",
       "<p>20491 rows × 4 columns</p>\n",
       "</div>"
      ],
      "text/plain": [
       "                                                  Review  Rating  \\\n",
       "0      nice hotel expensive parking got good deal sta...       4   \n",
       "1      ok nothing special charge diamond member hilto...       2   \n",
       "2      nice rooms not 4* experience hotel monaco seat...       3   \n",
       "3      unique, great stay, wonderful time hotel monac...       5   \n",
       "4      great stay great stay, went seahawk game aweso...       5   \n",
       "...                                                  ...     ...   \n",
       "20486  best kept secret 3rd time staying charm, not 5...       5   \n",
       "20487  great location price view hotel great quick pl...       4   \n",
       "20488  ok just looks nice modern outside, desk staff ...       2   \n",
       "20489  hotel theft ruined vacation hotel opened sept ...       1   \n",
       "20490  people talking, ca n't believe excellent ratin...       2   \n",
       "\n",
       "                                            Tokens  Length  \n",
       "0                                    [good, great]       2  \n",
       "1                  [good, good, great, good, good]       5  \n",
       "2                      [good, great, great, great]       4  \n",
       "3      [great, excellent, great, great, excellent]       5  \n",
       "4        [great, great, great, great, great, good]       6  \n",
       "...                                            ...     ...  \n",
       "20486                                      [great]       1  \n",
       "20487                 [great, great, great, great]       4  \n",
       "20488                                       [good]       1  \n",
       "20489          [beautiful, excellent, great, good]       4  \n",
       "20490                                  [excellent]       1  \n",
       "\n",
       "[20491 rows x 4 columns]"
      ]
     },
     "execution_count": 32,
     "metadata": {},
     "output_type": "execute_result"
    }
   ],
   "source": [
    "import re\n",
    "import pandas as pd\n",
    "import json\n",
    "\n",
    "# API credentials for Kaggle\n",
    "with open('kaggle.json') as f:\n",
    "    data = json.load(f)\n",
    "\n",
    "os.environ['KAGGLE_USERNAME'] = data['username']\n",
    "os.environ['KAGGLE_KEY'] = data['key']\n",
    "from kaggle.api.kaggle_api_extended import KaggleApi\n",
    "\n",
    "    # Initialize API\n",
    "api = KaggleApi()\n",
    "api.authenticate()\n",
    "\n",
    "    # Download file\n",
    "api.dataset_download_file('andrewmvd/trip-advisor-hotel-reviews',\n",
    "                            'tripadvisor_hotel_reviews.csv')\n",
    "\n",
    "    # Read data to pandas data frame\n",
    "df = pd.read_csv('tripadvisor_hotel_reviews.csv.zip')\n",
    "df\n",
    "\n",
    "    # Extract values using the lambda function in combination with regex\n",
    "pattern = \"(great|excellent|good|beautiful)\"\n",
    "df['Tokens'] = df['Review'].apply(lambda x: re.findall(pattern, x))\n",
    "df['Length'] = df['Tokens'].apply(lambda x: len(x))\n",
    "\n",
    "    # Correlation of Rating with Length\n",
    "print(df[['Rating', 'Length']].corr())\n",
    "\n",
    "    # Show data\n",
    "df"
   ]
  }
 ],
 "metadata": {
  "kernelspec": {
   "display_name": "spenv",
   "language": "python",
   "name": "python3"
  },
  "language_info": {
   "codemirror_mode": {
    "name": "ipython",
    "version": 3
   },
   "file_extension": ".py",
   "mimetype": "text/x-python",
   "name": "python",
   "nbconvert_exporter": "python",
   "pygments_lexer": "ipython3",
   "version": "3.10.13"
  }
 },
 "nbformat": 4,
 "nbformat_minor": 5
}
