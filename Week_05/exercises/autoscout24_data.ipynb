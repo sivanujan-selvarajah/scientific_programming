{
 "cells": [
  {
   "attachments": {},
   "cell_type": "markdown",
   "id": "71fbb210",
   "metadata": {},
   "source": [
    "# Data types and built-in data structures using the example of car data"
   ]
  },
  {
   "attachments": {},
   "cell_type": "markdown",
   "id": "5c399ad5",
   "metadata": {},
   "source": [
    "## Libraries and settings"
   ]
  },
  {
   "cell_type": "code",
   "execution_count": null,
   "id": "1bf1b3a1",
   "metadata": {},
   "outputs": [],
   "source": [
    "# Libraries\n",
    "import os\n",
    "import re\n",
    "import pandas as pd\n",
    "import seaborn as sns\n",
    "import matplotlib.pyplot as plt\n",
    "\n",
    "# Set background color of graphics to dark\n",
    "# plt.style.use('dark_background')\n",
    "\n",
    "# Ignore warnings\n",
    "import warnings\n",
    "warnings.filterwarnings('ignore')\n",
    "\n",
    "# Show current working directory\n",
    "print(os.getcwd())"
   ]
  },
  {
   "attachments": {},
   "cell_type": "markdown",
   "id": "534a3531",
   "metadata": {},
   "source": [
    "# Import car data"
   ]
  },
  {
   "cell_type": "code",
   "execution_count": null,
   "id": "ca0eb1e8",
   "metadata": {},
   "outputs": [],
   "source": [
    "# Read the data\n",
    "df_orig = pd.read_csv('autoscout24_data.csv', sep=\";\")\n",
    "\n",
    "# Show the number of rows and columns\n",
    "print(df_orig.shape)\n",
    "\n",
    "# Print the first 10 rows and a selected number of columns\n",
    "df_orig.iloc[:10,1:12]"
   ]
  },
  {
   "attachments": {},
   "cell_type": "markdown",
   "id": "d40f63b5",
   "metadata": {},
   "source": [
    "## Show data types"
   ]
  },
  {
   "cell_type": "code",
   "execution_count": null,
   "id": "e5001463",
   "metadata": {},
   "outputs": [],
   "source": [
    "# Show data types\n",
    "print(df_orig.dtypes)"
   ]
  },
  {
   "attachments": {},
   "cell_type": "markdown",
   "id": "f552bc66",
   "metadata": {},
   "source": [
    "## Count and remove missing values"
   ]
  },
  {
   "cell_type": "code",
   "execution_count": null,
   "id": "c9dc1e0c",
   "metadata": {},
   "outputs": [],
   "source": [
    "# Count missing values\n",
    "print('Count missing values')\n",
    "print(df_orig.isna().sum())\n",
    "\n",
    "# Remove missing values\n",
    "print('\\nCheck whether missing values were successfully removed')\n",
    "df_clean_01 = df_orig.dropna()\n",
    "df_clean_01.isna().sum()"
   ]
  },
  {
   "attachments": {},
   "cell_type": "markdown",
   "id": "eec9312e",
   "metadata": {},
   "source": [
    "## Count and remove duplicated values"
   ]
  },
  {
   "cell_type": "code",
   "execution_count": null,
   "id": "c6095e62",
   "metadata": {},
   "outputs": [],
   "source": [
    "# Count duplicated values\n",
    "print('Count duplicated values')\n",
    "print(df_clean_01.duplicated().sum())\n",
    "\n",
    "# Remove duplicated values\n",
    "print('\\nCheck whether duplicated values were successfully removed')\n",
    "df = df_clean_01.drop_duplicates()\n",
    "print(df_clean_01.duplicated().sum())"
   ]
  },
  {
   "attachments": {},
   "cell_type": "markdown",
   "id": "9cfaa828",
   "metadata": {},
   "source": [
    "## Create additional variables using string-manipulation functions"
   ]
  },
  {
   "attachments": {},
   "cell_type": "markdown",
   "id": "4cf542ae",
   "metadata": {},
   "source": [
    "### Extract make from car type"
   ]
  },
  {
   "cell_type": "code",
   "execution_count": null,
   "id": "da5d294a",
   "metadata": {},
   "outputs": [],
   "source": [
    "# Extract the first word from each string\n",
    "df['Make'] = df['Type'].str.split().str[0]\n",
    "\n",
    "# Explanation:\n",
    "# .split() splits a string, e.g.\n",
    "# txt = 'AUDI A5 Sportback 3.0 TDI quattro S-tronic'\n",
    "# txt.split()\n",
    "# ['AUDI', 'A5', 'Sportback', '3.0', 'TDI', 'quattro', 'S-tronic']\n",
    "# .str[0] returns the 1st item of the list which is 'AUDI'\n",
    "\n",
    "# Show result\n",
    "df[['Type', 'Make']]\n",
    "\n",
    "# Count the number of cars per 'Make'\n",
    "df['Make'].value_counts()"
   ]
  },
  {
   "attachments": {},
   "cell_type": "markdown",
   "id": "811b4b9a",
   "metadata": {},
   "source": [
    "### Crosstab Make versus Fuel Type"
   ]
  },
  {
   "cell_type": "code",
   "execution_count": null,
   "id": "bd082fb7",
   "metadata": {},
   "outputs": [],
   "source": [
    "# Makes with highest number of cars\n",
    "top_ten = list(df['Make'].value_counts().index[:10])\n",
    "\n",
    "# Create subset of the data\n",
    "df_sub = df.loc[(df['Make'].isin(top_ten)) &\n",
    "                (df['Fuel_Type'].isin(['Diesel', 'Benzin']))]\n",
    "\n",
    "# Cross table\n",
    "pd.crosstab(df_sub.Make, df_sub.Fuel_Type)"
   ]
  },
  {
   "attachments": {},
   "cell_type": "markdown",
   "id": "85a6c350",
   "metadata": {},
   "source": [
    "### Extract numerical values from 'Mileage'"
   ]
  },
  {
   "cell_type": "code",
   "execution_count": null,
   "id": "989aa5dd",
   "metadata": {},
   "outputs": [],
   "source": [
    "# Extract values using the lambda function in combination with a regular expression\n",
    "df['Mileage_num'] = df['Mileage'].apply(lambda x: int(re.sub('[^\\d]', '', x)))\n",
    "\n",
    "# Explanation:\n",
    "# The lambda function iterates over df['Mileage'] in which x is a single element \n",
    "# The regular expression '[^\\d]' identifies all non numerical characters in x\n",
    "# The .sub() method replaces the non numerical characters like 'CHF' with ''\n",
    "# The int() converts the resulting string to an integer\n",
    "\n",
    "# Show result\n",
    "df[['Mileage', 'Mileage_num']]"
   ]
  },
  {
   "attachments": {},
   "cell_type": "markdown",
   "id": "b2466669",
   "metadata": {},
   "source": [
    "### Histogram of Mileage"
   ]
  },
  {
   "cell_type": "code",
   "execution_count": null,
   "id": "65a3bdef",
   "metadata": {},
   "outputs": [],
   "source": [
    "# Histogram\n",
    "plt.figure(figsize=(6,4))\n",
    "df['Mileage_num'].plot.hist(grid=True, \n",
    "                        bins=20, \n",
    "                        rwidth=0.9,\n",
    "                        color='lightseagreen')\n",
    "plt.title('Mileage')\n",
    "plt.xlabel('Mileage (km)')\n",
    "plt.ylabel('Frequency')\n",
    "plt.grid(linestyle='-', linewidth=0.1)"
   ]
  },
  {
   "attachments": {},
   "cell_type": "markdown",
   "id": "28ce3323",
   "metadata": {},
   "source": [
    "### Extract numerical values from Horse Power"
   ]
  },
  {
   "cell_type": "code",
   "execution_count": null,
   "id": "1db7d409",
   "metadata": {},
   "outputs": [],
   "source": [
    "# Extract values using the lambda function in combination with a regular expression\n",
    "df['HP_num'] = df['HP'].apply(lambda x: int(re.sub('[^\\d]', '', x)))\n",
    "\n",
    "# Show result\n",
    "df[['HP', 'HP_num']]"
   ]
  },
  {
   "attachments": {},
   "cell_type": "markdown",
   "id": "0604a2ed",
   "metadata": {},
   "source": [
    "### Histogram of Horsepower"
   ]
  },
  {
   "cell_type": "code",
   "execution_count": null,
   "id": "2cd7ab1d",
   "metadata": {},
   "outputs": [],
   "source": [
    "# Histogram\n",
    "plt.figure(figsize=(6,4))\n",
    "df['HP_num'].plot.hist(grid=True, \n",
    "                        bins=20, \n",
    "                        rwidth=0.9,\n",
    "                        color='lightseagreen')\n",
    "plt.title('Horsepower')\n",
    "plt.xlabel('HP')\n",
    "plt.ylabel('Frequency')\n",
    "plt.grid(linestyle='-', linewidth=0.1)"
   ]
  },
  {
   "attachments": {},
   "cell_type": "markdown",
   "id": "f3108b6a",
   "metadata": {},
   "source": [
    "### Extract numerical values from Price"
   ]
  },
  {
   "cell_type": "code",
   "execution_count": null,
   "id": "86bc9e1c",
   "metadata": {},
   "outputs": [],
   "source": [
    "# Extract values using the lambda function in combination with a regular expression\n",
    "df['Price_num'] = df['Price'].apply(lambda x: int(re.sub('[^\\d]', '', x)))\n",
    "\n",
    "# Show result\n",
    "df[['Price', 'Price_num']]"
   ]
  },
  {
   "attachments": {},
   "cell_type": "markdown",
   "id": "6b111174",
   "metadata": {},
   "source": [
    "### Boxplot of price"
   ]
  },
  {
   "cell_type": "code",
   "execution_count": null,
   "id": "a246f100",
   "metadata": {},
   "outputs": [],
   "source": [
    "# Boxplot\n",
    "plt.figure(figsize=(7,1.2))\n",
    "plt.ticklabel_format(style='plain')\n",
    "sns.boxplot(x=df['Price_num'], color=\"lightseagreen\")"
   ]
  },
  {
   "attachments": {},
   "cell_type": "markdown",
   "id": "aae565c5",
   "metadata": {},
   "source": [
    "## Create additional variables through calculations"
   ]
  },
  {
   "attachments": {},
   "cell_type": "markdown",
   "id": "d938144c",
   "metadata": {},
   "source": [
    "### Calculate the Price per Horsepower"
   ]
  },
  {
   "cell_type": "code",
   "execution_count": null,
   "id": "0f74006a",
   "metadata": {},
   "outputs": [],
   "source": [
    "# Calculate prices\n",
    "df['Price_per_HP'] = round(df['Price_num'] / df['HP_num'], 1)\n",
    "\n",
    "# Show result\n",
    "df[['Price_num', 'HP_num', 'Price_per_HP']]"
   ]
  },
  {
   "attachments": {},
   "cell_type": "markdown",
   "id": "213e5a2b",
   "metadata": {},
   "source": [
    "### Boxplot of Price per Horsepower"
   ]
  },
  {
   "cell_type": "code",
   "execution_count": null,
   "id": "211ffa4d",
   "metadata": {},
   "outputs": [],
   "source": [
    "# Boxplot of price per horsepower\n",
    "plt.figure(figsize=(7,1.2))\n",
    "plt.ticklabel_format(style='plain')\n",
    "sns.boxplot(x=df['Price_per_HP'], color=\"lightseagreen\")"
   ]
  },
  {
   "attachments": {},
   "cell_type": "markdown",
   "id": "033847fe",
   "metadata": {},
   "source": [
    "## Show data types of original and new variables"
   ]
  },
  {
   "cell_type": "code",
   "execution_count": null,
   "id": "f84f9abd",
   "metadata": {},
   "outputs": [],
   "source": [
    "# Show data types (note that an 'object' is a string in pandas)\n",
    "print(df.dtypes)"
   ]
  },
  {
   "attachments": {},
   "cell_type": "markdown",
   "id": "71116f59",
   "metadata": {},
   "source": [
    "## Show summary statistics of numerical variables"
   ]
  },
  {
   "cell_type": "code",
   "execution_count": null,
   "id": "8945408c",
   "metadata": {},
   "outputs": [],
   "source": [
    "# Summary statistics of numeric variables\n",
    "df.describe()\n",
    "\n",
    "# Explanation:\n",
    "# count = number of observations\n",
    "# mean = mean\n",
    "# min = minimum\n",
    "# std = standard deviation\n",
    "# 25% = 1st quartile\n",
    "# 50% = median\n",
    "# 75% = 3rd quartile\n",
    "# max = maximum\n"
   ]
  },
  {
   "attachments": {},
   "cell_type": "markdown",
   "id": "29d40339",
   "metadata": {},
   "source": [
    "## Use a list to store values from a calulation"
   ]
  },
  {
   "cell_type": "code",
   "execution_count": null,
   "id": "7fa292e4",
   "metadata": {},
   "outputs": [],
   "source": [
    "# Define a function to calculate the value added tax for a given price\n",
    "def value_added_tax(price, tax_rate=0.077):\n",
    "    return price * tax_rate\n",
    "\n",
    "# Calculate the value added tax using list comprehension\n",
    "tax_results = [value_added_tax(price) for price in df['Price_num']]\n",
    "\n",
    "# Show first 10 values of the list\n",
    "print(tax_results[:10])\n",
    "\n",
    "# Note that, if you have a data frame, you can also use .apply(), e.g.:\n",
    "# df['Tax_results'] = df['Price_num'].apply(value_added_tax)\n",
    "# print(df['Tax_results'])\n"
   ]
  },
  {
   "attachments": {},
   "cell_type": "markdown",
   "id": "43898483",
   "metadata": {},
   "source": [
    "## Create a dictionary with all prices per make"
   ]
  },
  {
   "cell_type": "code",
   "execution_count": null,
   "id": "ae3e337a",
   "metadata": {},
   "outputs": [],
   "source": [
    "# Use set and dictionary comprehension to create a dictionary\n",
    "car_dict = {make: df.loc[df['Make'] == make, 'Price_num'].tolist() \\\n",
    "            for make in set(df['Make'])}\n",
    "\n",
    "# Print the resulting dictionary keys and values\n",
    "print('Dictionary with keys and values:')\n",
    "print(car_dict)\n",
    "\n",
    "# Print the resulting dictionary keys\n",
    "print('\\nDictionary keys:')\n",
    "print(car_dict.keys())\n",
    "\n",
    "# Print the resulting dictionary values\n",
    "print('\\nDictionary values')\n",
    "print(car_dict.values())"
   ]
  },
  {
   "attachments": {},
   "cell_type": "markdown",
   "id": "b0c1947c",
   "metadata": {},
   "source": [
    "## Access elements of the dictionary with all prices per make"
   ]
  },
  {
   "cell_type": "code",
   "execution_count": null,
   "id": "8f8393e2",
   "metadata": {},
   "outputs": [],
   "source": [
    "# Define the key\n",
    "mykey = 'FERRARI'\n",
    "\n",
    "# Check whether FERRARI is a key in car_dict\n",
    "if mykey in car_dict:\n",
    "    print(f'The key {mykey} exists!')\n",
    "\n",
    "# Get all values from the key\n",
    "print(f'\\nHere are the available prices of the key {mykey}:')\n",
    "print(car_dict.get(mykey))"
   ]
  },
  {
   "attachments": {},
   "cell_type": "markdown",
   "id": "32387c41",
   "metadata": {},
   "source": [
    "## Use a set to create a list of unique makes"
   ]
  },
  {
   "cell_type": "code",
   "execution_count": null,
   "id": "65972e2d",
   "metadata": {},
   "outputs": [],
   "source": [
    "# Create a set with unique values\n",
    "unique_makes_set = set(df['Make'])\n",
    "\n",
    "# Create a list from the set\n",
    "unique_makes_list = list(unique_makes_set)\n",
    "\n",
    "# Sort the list\n",
    "unique_makes_list_sorted = sorted(unique_makes_list)\n",
    "\n",
    "# Print the result\n",
    "print(unique_makes_list_sorted)"
   ]
  },
  {
   "attachments": {},
   "cell_type": "markdown",
   "id": "1926ca28",
   "metadata": {},
   "source": [
    "### Jupyter notebook --footer info-- (please always provide this at the end of each notebook)"
   ]
  },
  {
   "cell_type": "code",
   "execution_count": null,
   "id": "522aee39",
   "metadata": {},
   "outputs": [],
   "source": [
    "import os\n",
    "import platform\n",
    "import socket\n",
    "from platform import python_version\n",
    "from datetime import datetime\n",
    "\n",
    "print('-----------------------------------')\n",
    "print(os.name.upper())\n",
    "print(platform.system(), '|', platform.release())\n",
    "print('Datetime:', datetime.now().strftime(\"%Y-%m-%d %H:%M:%S\"))\n",
    "print('Python Version:', python_version())\n",
    "print('-----------------------------------')"
   ]
  }
 ],
 "metadata": {
  "kernelspec": {
   "display_name": "spenv",
   "language": "python",
   "name": "python3"
  },
  "language_info": {
   "codemirror_mode": {
    "name": "ipython",
    "version": 3
   },
   "file_extension": ".py",
   "mimetype": "text/x-python",
   "name": "python",
   "nbconvert_exporter": "python",
   "pygments_lexer": "ipython3",
   "version": "3.10.13"
  },
  "vscode": {
   "interpreter": {
    "hash": "e88d0147854d95637bfda66d71c1971db493e0eba7c923c8e835cc4382a02720"
   }
  }
 },
 "nbformat": 4,
 "nbformat_minor": 5
}
