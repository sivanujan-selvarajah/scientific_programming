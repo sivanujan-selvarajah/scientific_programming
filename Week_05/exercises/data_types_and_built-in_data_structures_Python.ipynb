{
 "cells": [
  {
   "attachments": {},
   "cell_type": "markdown",
   "metadata": {},
   "source": [
    "# Data Types and Built-in Data Structures in Python"
   ]
  },
  {
   "attachments": {},
   "cell_type": "markdown",
   "metadata": {},
   "source": [
    "## Web Resources\n",
    "<a href='https://docs.python.org/3/tutorial/introduction.html#strings'>Docs.python.org - Strings</a>\n",
    "<br><a href='https://docs.python.org/3/tutorial/introduction.html#numbers'>Docs.python.org - Numbers (int, float, ...)</a>\n",
    "<br><a href='https://docs.python.org/3/tutorial/introduction.html#lists'>Docs.python.org - Lists</a>\n",
    "<br><a href='https://docs.python.org/3/library/stdtypes.html?highlight=tuple'>Docs.python.org - Tuples</a>\n",
    "<br><a href='https://docs.python.org/3/tutorial/datastructures.html#dictionaries'>Docs.python.org - Dictionaries</a>\n",
    "<br><a href='https://docs.python.org/3/tutorial/datastructures.html#sets'>Docs.python.org - Sets</a>"
   ]
  },
  {
   "attachments": {},
   "cell_type": "markdown",
   "metadata": {},
   "source": [
    "## Libraries and settings"
   ]
  },
  {
   "cell_type": "code",
   "execution_count": null,
   "metadata": {},
   "outputs": [],
   "source": [
    "# Libraries\n",
    "import os\n",
    "\n",
    "# Ignore warnings\n",
    "import warnings\n",
    "warnings.filterwarnings('ignore')\n",
    "\n",
    "# Show current working directory\n",
    "print(os.getcwd())"
   ]
  },
  {
   "attachments": {},
   "cell_type": "markdown",
   "metadata": {},
   "source": [
    "<h2>Strings (str)</h2>\n",
    "<hr style=\"height:1px; width:100%; border-width:0; color:black; background-color:black\">\n",
    "\n",
    "#### What is a String?\n",
    "A string is a data type that is used to represent text rather than numbers and is composed of a set of characters and can also contain spaces and numbers.\n",
    "<br>\n",
    "#### Why do we use Strings?\n",
    "Strings are useful when storing small or large bodies from single words to full sentences. \n",
    "<br>\n",
    "#### How do we use Strings?\n",
    "Strings are assigned to variables using a single equals and are surrounded by triple quotes `\"\"\" \"\"\"`, double quotes `\" \"` or single quotes `' '`."
   ]
  },
  {
   "cell_type": "markdown",
   "metadata": {},
   "source": [
    "### Creating a String ###"
   ]
  },
  {
   "cell_type": "code",
   "execution_count": null,
   "metadata": {},
   "outputs": [],
   "source": [
    "string_1 = \"\"\"AUDI RS3 2.5 TSI quattro S-tronic (Limousine)\"\"\"   # triple quote\n",
    "string_2 = \"DODGE Challenger GT AWD (Coupé)\"                     # double quote\n",
    "string_3 = 'BMW X4 xDrive 30d Steptronic (SUV / Geländewagen)'   # single quote\n",
    "\n",
    "print(string_1)\n",
    "print(string_2)\n",
    "print(string_3)\n",
    "print('------------')\n",
    "print(type(string_1))\n",
    "print(type(string_2))\n",
    "print(type(string_3))"
   ]
  },
  {
   "cell_type": "markdown",
   "metadata": {},
   "source": [
    "### Indexing a String ###\n",
    "It is possible to index a string by referencing the position (or index) of a single character, or by referencing a range with a start and end position. Note: indexes start at where the first element is 0."
   ]
  },
  {
   "cell_type": "code",
   "execution_count": null,
   "metadata": {},
   "outputs": [],
   "source": [
    "string_1 = \"\"\"VW Golf 2.0 TSI\"\"\"\n",
    "print(string_1)\n",
    "print(string_1[0:2])\n",
    "print(string_1[3:-1])"
   ]
  },
  {
   "cell_type": "markdown",
   "metadata": {},
   "source": [
    "<h2>Integers (int)</h2>\n",
    "<hr style=\"height:1px; width:100%; border-width:0; color:black; background-color:black\">\n",
    "\n",
    "#### What is an Integer?\n",
    "An integer is a whole number (not a fraction) that can be positive, negative or zero.\n",
    "<br>\n",
    "#### Why do we use Integers?\n",
    "Integers are a commonly used data type in programming as they are efficient to store and are generally used in loops and indexing strings or lists. \n",
    "<br>\n",
    "#### How do we use Integers?\n",
    "Integers are assigned to variables using a single equals and are standalone numbers without a decimal point or an operation that does not return a whole number."
   ]
  },
  {
   "cell_type": "code",
   "execution_count": null,
   "metadata": {},
   "outputs": [],
   "source": [
    "int_1 = 42000\n",
    "int_2 = -42000\n",
    "int_3 = int(250000 / 2)\n",
    "int_4 = 10**6\n",
    "\n",
    "print(int_1, int_2, int_3, int_4)\n",
    "print(type(int_1))\n",
    "print(type(int_2))\n",
    "print(type(int_3))\n",
    "print(type(int_4))"
   ]
  },
  {
   "attachments": {},
   "cell_type": "markdown",
   "metadata": {},
   "source": [
    "<h2>Floating-point numbers (float)</h2>\n",
    "<hr style=\"height:1px; width:100%; border-width:0; color:black; background-color:black\">\n",
    "\n",
    "#### What is a Float?\n",
    "A float is a floating-point number that contains a decimal point. Compared to Integers, they require more space in memory as you will have two integers separated by a decimal point.\n",
    "<br>\n",
    "#### Why do we use Floats?\n",
    "Computers recognize real numbers that contain fractions as floating point numbers. Floats are useful for numbers that require a great deal of precision, such as calculations in engineering or microchip manufacturing.\n",
    "<br>\n",
    "#### How do we use Floats?\n",
    "Floats are assigned to variables using a single equals and are standalone numbers that contain a decimal point or the result of an operation that returns a decimal number."
   ]
  },
  {
   "cell_type": "code",
   "execution_count": null,
   "metadata": {},
   "outputs": [],
   "source": [
    "float_1 = 42000.0\n",
    "float_2 = 42000 / 1\n",
    "print(float_1, float_2)\n",
    "print(type(float_1))\n",
    "print(type(float_2))"
   ]
  },
  {
   "attachments": {},
   "cell_type": "markdown",
   "metadata": {},
   "source": [
    "# Built-in Data Structures in Python\n",
    "Now that we have covered single variables being strings, ints and floats, there is another class of variables which store one or more single variables.\n",
    "\n",
    "These are lists, tuples, dictionaries and sets. More information can be found in the python documentation: <br>\n",
    "https://docs.python.org/3/tutorial/datastructures.html"
   ]
  },
  {
   "attachments": {},
   "cell_type": "markdown",
   "metadata": {},
   "source": [
    "<h2>Lists</h2>\n",
    "<hr style=\"height:1px; width:100%; border-width:0; color:black; background-color:black\">\n",
    "\n",
    "#### What is a List?\n",
    "Lists are data structures that contain an ordered collection of items. These items can have different data types and can contain items such as single data types through to more complex data structures such as other lists or dictionaries.\n",
    "<br>\n",
    "#### Why do we use Lists?\n",
    "Lists are commonly used in programming to store and organize data so it can be easily sorted, indexed or searched.\n",
    "<br>\n",
    "#### How do we use Lists?\n",
    "Lists are assigned to variables using a single equals, are denoted by square brackets, and use a comma to separate elements `[a,b]`.\n",
    "<br>\n",
    "#### Creating a List\n",
    "There are two main ways of creating a list. First is to use square brackets, `a=[]` and the second is to use the list constructor `b=list()`."
   ]
  },
  {
   "cell_type": "code",
   "execution_count": null,
   "metadata": {},
   "outputs": [],
   "source": [
    "list_1 = ['PORSCHE 911 Carrera', 'JEEP Grand Cherokee 3.0']\n",
    "print(type(list_1), '\\n')\n",
    "print(list_1)"
   ]
  },
  {
   "cell_type": "markdown",
   "metadata": {},
   "source": [
    "### Adding an item to a List ###\n",
    "Now that we have our list, you can add another element using the python's inbuilt `.append()` method."
   ]
  },
  {
   "cell_type": "code",
   "execution_count": null,
   "metadata": {},
   "outputs": [],
   "source": [
    "list_1.append('JAGUAR E-Pace 2.0')\n",
    "print(list_1)"
   ]
  },
  {
   "cell_type": "markdown",
   "metadata": {},
   "source": [
    "### Changing an item in a List ###\n",
    "When changing an item in a list, you need to know the position of the item denoted by the index."
   ]
  },
  {
   "cell_type": "code",
   "execution_count": null,
   "metadata": {},
   "outputs": [],
   "source": [
    "list_1[1] = 'SKODA Octavia 2.0 Turbo'\n",
    "print(list_1)"
   ]
  },
  {
   "cell_type": "markdown",
   "metadata": {},
   "source": [
    "### Removing an item from a List ###\n",
    "To remove an item from a list, use the `.pop()` method."
   ]
  },
  {
   "cell_type": "code",
   "execution_count": null,
   "metadata": {},
   "outputs": [],
   "source": [
    "list_1.pop(0)\n",
    "print(list_1)"
   ]
  },
  {
   "cell_type": "markdown",
   "metadata": {},
   "source": [
    "### Merging two Lists ###\n",
    "There are two ways you can merge two lists. First is to append using `.append(element)` which will add the new elements to the end of the old list."
   ]
  },
  {
   "cell_type": "code",
   "execution_count": null,
   "metadata": {},
   "outputs": [],
   "source": [
    "list_2 = ['SUBARU Justy J12i 4WD', 'VW Polo 1.6 16V']\n",
    "list_1.append(list_2)\n",
    "print(list_1)"
   ]
  },
  {
   "cell_type": "markdown",
   "metadata": {},
   "source": [
    "The other way is to insert a list as an element within the list (note: not append but inject) using the `.insert(index, element)` method."
   ]
  },
  {
   "cell_type": "code",
   "execution_count": null,
   "metadata": {},
   "outputs": [],
   "source": [
    "list_3 = ['PORSCHE', 'JEEP', 'JAGUAR', 'FORD']\n",
    "list_4 = ['SUBARU', 'VW']\n",
    "list_3.insert(2,list_4)\n",
    "print(list_3)"
   ]
  },
  {
   "cell_type": "markdown",
   "metadata": {},
   "source": [
    "### Accessing items in a List ###\n",
    "You can access list items by referring to the index number of the item. Note: Lists start with an index of 0. \n",
    "\n",
    "You can also use negative indexing to access items from back to front. E.g. -1 is the last item in the list and -2 is second last."
   ]
  },
  {
   "cell_type": "code",
   "execution_count": null,
   "metadata": {},
   "outputs": [],
   "source": [
    "list_5 = ['PORSCHE', 'JEEP', 'JAGUAR', 'FORD', 'VW', 'BMW', 'AUDI']\n",
    "print(list_5)\n",
    "print(list_5[0])\n",
    "print(list_5[2])\n",
    "print(list_5[-1])\n",
    "print(list_5[-3])\n"
   ]
  },
  {
   "cell_type": "markdown",
   "metadata": {},
   "source": [
    "You can also reference index ranges by using the colon between indexes which refer to the start and end of the range e.g. `[start:end]` or if you omit a number on either start (or end), it will include everything from the start (or end) up until the end (or start) e.g. `[:end]` will include the first item until the end index item."
   ]
  },
  {
   "cell_type": "code",
   "execution_count": null,
   "metadata": {},
   "outputs": [],
   "source": [
    "print(list_5[0:3])\n",
    "print(list_5[2:])"
   ]
  },
  {
   "cell_type": "markdown",
   "metadata": {},
   "source": [
    "### List of Dictionaries ###\n",
    "The below example illustrates how to create a list of dictionaries (a more complex data structure that will be covered below)."
   ]
  },
  {
   "cell_type": "code",
   "execution_count": null,
   "metadata": {},
   "outputs": [],
   "source": [
    "# Create dictionaries\n",
    "dict_a = {'AUDI':250,\n",
    "          'BMW':420}\n",
    "\n",
    "dict_b = {'FORD':180,\n",
    "          'JEEP':240}\n",
    "\n",
    "# Create list of dictionaries\n",
    "list_a = [dict_a, dict_b]\n",
    "print(list_a)\n",
    "type(list_a)"
   ]
  },
  {
   "cell_type": "markdown",
   "metadata": {},
   "source": [
    "We can also index this list to get the dictionary."
   ]
  },
  {
   "cell_type": "code",
   "execution_count": null,
   "metadata": {},
   "outputs": [],
   "source": [
    "print(list_a[0])\n",
    "type(list_a[0])"
   ]
  },
  {
   "cell_type": "markdown",
   "metadata": {},
   "source": [
    "### List Comprehension ###\n",
    "List comprehensions provide a concise way to create lists where each new element is the result of some operation applied to each member of another sequence or iterable. "
   ]
  },
  {
   "cell_type": "code",
   "execution_count": null,
   "metadata": {},
   "outputs": [],
   "source": [
    "car_list = ['PORSCHE', 'JEEP', 'JAGUAR', 'FORD', 'VW', 'BMW', 'AUDI']\n",
    "\n",
    "# Use list comprehension to get the first letter of each make\n",
    "first_letter = [x[0] for x in car_list]\n",
    "print(first_letter)\n",
    "\n",
    "# Use list comprehension to get the last letter of each make\n",
    "first_letter = [x[-1] for x in car_list]\n",
    "print(first_letter)"
   ]
  },
  {
   "cell_type": "markdown",
   "metadata": {},
   "source": [
    "<h2>Tuples</h2>\n",
    "<hr style=\"height:1px; width:100%; border-width:0; color:black; background-color:black\">\n",
    "\n",
    "#### What is a Tuple?\n",
    "A tuple is a data structure that contains an ordered collection of elements that are immutable (unchangeable). These elements are generally of the same type and can contain elements such as single data types through to more complex data structures such as other lists or dictionaries.\n",
    "<br>\n",
    "#### Why do we use Tuples?\n",
    "Tuples are commonly used in programming to store and organize data so it can be easily sorted, indexed or searched. Since tuples are immutable, we cannot add, change or remove elements.\n",
    "<br>\n",
    "#### How do we use Tuples?\n",
    "Tuples are assigned to variables using a single equals and are denoted by round brackets and use a comma to separate elements `(a,b,c)`.\n",
    "<br>\n",
    "<br>\n",
    "### Creating a Tuple"
   ]
  },
  {
   "cell_type": "code",
   "execution_count": null,
   "metadata": {},
   "outputs": [],
   "source": [
    "# Create tuple (note the round brackets)\n",
    "tuple_1 = (\"FIAT\", \"BMW\", \"OPEL\", \"FORD\")\n",
    "print(tuple_1)\n",
    "print(type(tuple_1))\n",
    "\n",
    "# Create tuple (note the tuple constructor)\n",
    "tuple_2 = tuple((\"FIAT\", \"BMW\", \"OPEL\", \"FORD\"))\n",
    "print(tuple_2)\n",
    "print(type(tuple_2))\n",
    "\n",
    "# Tuples allow duplicate values\n",
    "tuple_3 = (\"FIAT\", \"BMW\", \"OPEL\", \"FORD\", \"FORD\")\n",
    "print(tuple_3)\n",
    "\n",
    "# A tuple can contain different data types\n",
    "tuple_4 = (\"FIAT\", 120, True, \"VW\", \"TSI 1.4\")\n",
    "print(tuple_4)"
   ]
  },
  {
   "cell_type": "markdown",
   "metadata": {},
   "source": [
    "### Modifying items of a Tuple"
   ]
  },
  {
   "cell_type": "code",
   "execution_count": null,
   "metadata": {},
   "outputs": [],
   "source": [
    "# A tuple is immutable but can be deleted or overwritten\n",
    "tuple_01 = (\"FIAT\", \"BMW\", \"OPEL\", \"FORD\")\n",
    "print(tuple_01)\n",
    "# tuple_01[0] = \"BMW\" # would provide a TypeError\n",
    "\n",
    "# Overwrite the existing tuple\n",
    "tuple_01 = (\"FIAT\", \"FIAT\", \"OPEL\", \"FORD\")\n",
    "print(tuple_01)\n",
    "\n",
    "# Delete the tuple\n",
    "# Check if tuple_01 exists\n",
    "if 'tuple_01' in locals():\n",
    "    print(\"\"\"tuple_01 exists\"\"\")\n",
    "else:\n",
    "    print(\"\"\"tuple_01 does not exist\"\"\")\n",
    "\n",
    "# Delete tuple_01\n",
    "del tuple_01\n",
    "\n",
    "# Check if tuple_01 exists\n",
    "if 'tuple_01' in locals():\n",
    "    print(\"\"\"tuple_01 exists\"\"\")\n",
    "else:\n",
    "    print(\"\"\"tuple_01 sucessfully deleted\"\"\")"
   ]
  },
  {
   "cell_type": "markdown",
   "metadata": {},
   "source": [
    "### Accessing items in a Tuple"
   ]
  },
  {
   "cell_type": "code",
   "execution_count": null,
   "metadata": {},
   "outputs": [],
   "source": [
    "# Use indices to access values of a tuple\n",
    "tuple_01 = (\"FIAT\", \"BMW\", \"OPEL\", \"FORD\", \"VW\")\n",
    "\n",
    "print(tuple_01[0])\n",
    "print(tuple_01[:4])\n",
    "print(tuple_01[0:2])\n",
    "print(tuple_01[-3:-1])"
   ]
  },
  {
   "attachments": {},
   "cell_type": "markdown",
   "metadata": {},
   "source": [
    "<h2>Dictionaries</h2>\n",
    "<hr style=\"height:1px; width:100%; border-width:0; color:black; background-color:black\">\n",
    "\n",
    "#### What is a Dictionary?\n",
    "Dictionaries are data structures that contain a collection of \"key\" and \"value\" pairs where each key needs to be a unique string and the value can range from a single variable, to other data structures (such as another dictionary, or a list). If you attempt to add a new key1:value pair when the key1 already exists in the Dictionary, you should get a KeyExists error or risk overwriting the existing data. Since dictionaries can store single or complex data types as values, you can store two identical types in a list or dictionary structure. For example, a key with three identical values in a list key1:[value1,value1,value1] can be stored in a Dictionary.\n",
    "<br>\n",
    "#### Why do we use a Dictionary?\n",
    "Dictionaries are commonly used in programming to store and organize data so it can be easily sorted, indexed or searched. Since dictionaries are mutable, we can add, change, or remove elements.\n",
    "<br>\n",
    "#### How do we use a Dictionary?\n",
    "Dictionaries are assigned to variables using a single equals and are denoted by curly brackets and use a colon to separate key and value, and a comma to separate elements `{key1: value1, key2: value2}`.\n",
    "<br>\n",
    "<br>\n",
    "### Creating a Dictionary\n",
    "There are two ways to create an empty dictionary: `my_dict = dict()` or `my_dict = {}`. \n",
    "The following example illustrates how to create a dictionary with keys and values."
   ]
  },
  {
   "cell_type": "code",
   "execution_count": null,
   "metadata": {},
   "outputs": [],
   "source": [
    "dict_1 = {'MAKE':[\"FIAT\", \"BMW\", \"OPEL\"], 'HP':[120, 240, 140]}\n",
    "print(dict_1)\n",
    "type(dict_1)"
   ]
  },
  {
   "cell_type": "markdown",
   "metadata": {},
   "source": [
    "### Adding items to a Dictionary\n",
    "Once we have created the dictionary data structure object, the below example shows how to add a new key, value pair where the value is a list from the above example."
   ]
  },
  {
   "cell_type": "code",
   "execution_count": null,
   "metadata": {},
   "outputs": [],
   "source": [
    "dict_1 = {'MAKE':[\"FIAT\", \"BMW\", \"OPEL\"], 'HP':[120, 240, 140]}\n",
    "dict_1['PRICE'] = [12000, 35000, 24000]\n",
    "print(dict_1)"
   ]
  },
  {
   "cell_type": "markdown",
   "metadata": {},
   "source": [
    "### Removing items from a Dictionary\n",
    "To remove items from a dictionary you can use the `.pop()` method."
   ]
  },
  {
   "cell_type": "code",
   "execution_count": null,
   "metadata": {},
   "outputs": [],
   "source": [
    "dict_1 = {'MAKE':[\"FIAT\", \"BMW\", \"OPEL\"], 'HP':[120, 240, 140]}\n",
    "dict_1['PRICE'] = [12000, 35000, 24000]\n",
    "print(dict_1)\n",
    "\n",
    "dict_1.pop('PRICE')\n",
    "print(dict_1)"
   ]
  },
  {
   "cell_type": "markdown",
   "metadata": {},
   "source": [
    "### Accessing items in a Dictionary\n",
    "To access a value in a dictionary you can use the `.get()` method, which is preferred because if it cannot find the key it will return a `None`.\n",
    "\n",
    "The second method does work but is not considered best practice since python throws `KeyError` and will block a program from continuing."
   ]
  },
  {
   "cell_type": "code",
   "execution_count": null,
   "metadata": {},
   "outputs": [],
   "source": [
    "dict_1 = {'MAKE':[\"FIAT\", \"BMW\", \"OPEL\"], 'HP':[120, 240, 140]}\n",
    "dict_1['PRICE'] = [12000, 35000, 24000]\n",
    "\n",
    "# To access the item of a dictionary by its key use the .get() method\n",
    "print(dict_1.get('MAKE'))\n",
    "print(dict_1.get('HP'))\n",
    "print('-----------------------')\n",
    "    \n",
    "# Another way\n",
    "print(dict_1['MAKE'])\n",
    "print(dict_1['HP'])"
   ]
  },
  {
   "cell_type": "markdown",
   "metadata": {},
   "source": [
    "### Accessing all keys or items of a Dictionary\n",
    "It is also possible to output all keys or items to a list."
   ]
  },
  {
   "cell_type": "code",
   "execution_count": null,
   "metadata": {},
   "outputs": [],
   "source": [
    "dict_1 = {'MAKE':[\"FIAT\", \"BMW\", \"OPEL\"], 'HP':[120, 240, 140]}\n",
    "\n",
    "# Get all keys\n",
    "print(dict_1.keys())\n",
    "print(list(dict_1.keys()))\n",
    "print('-----------------')\n",
    "\n",
    "# Get all values\n",
    "print(dict_1.values())\n",
    "print(list(dict_1.values()))"
   ]
  },
  {
   "cell_type": "markdown",
   "metadata": {},
   "source": [
    "### Check if key exists in a Dictionary\n",
    "It is always helpful to see if the dictionary contains a specific key."
   ]
  },
  {
   "cell_type": "code",
   "execution_count": null,
   "metadata": {},
   "outputs": [],
   "source": [
    "dict_1 = {'MAKE':[\"FIAT\", \"BMW\", \"OPEL\"], 'HP':[120, 240, 140]}\n",
    "\n",
    "# Check if key exists\n",
    "if 'MAKE' in dict_1: \n",
    "    print(\"MAKE exists!\")"
   ]
  },
  {
   "cell_type": "code",
   "execution_count": null,
   "metadata": {},
   "outputs": [],
   "source": [
    "dict_1 = {'MAKE':[\"FIAT\", \"BMW\", \"OPEL\"], 'HP':[120, 240, 140]}\n",
    "\n",
    "# Check if key exists\n",
    "if 'MILEAGE' in dict_1: \n",
    "    print(\"MILEAGE exists!\")\n",
    "else:\n",
    "    print('MILEAGE does not exist')"
   ]
  },
  {
   "attachments": {},
   "cell_type": "markdown",
   "metadata": {},
   "source": [
    "### Dictionary Comprehension\n",
    "Dictionary comprehension is a concise and readable way to create dictionaries in Python. It provides a way to create a new dictionary from an iterable object."
   ]
  },
  {
   "cell_type": "code",
   "execution_count": null,
   "metadata": {},
   "outputs": [],
   "source": [
    "# Price in CHF\n",
    "price_chf = {'FIAT': 12000, 'BMW': 35000, 'OPEL': 24000}\n",
    "\n",
    "# Price in $\n",
    "dollar_to_chf = 0.91\n",
    "price_dollar = {key: value*dollar_to_chf for (key, value) in price_chf.items()}\n",
    "print(price_dollar)"
   ]
  },
  {
   "cell_type": "markdown",
   "metadata": {},
   "source": [
    "### Create a dictionary with lists as the values"
   ]
  },
  {
   "cell_type": "code",
   "execution_count": null,
   "metadata": {},
   "outputs": [],
   "source": [
    "# Create a dictionary where multiple values are associated with a key\n",
    "car_dict = {'MAKE':[\"FIAT\", \"BMW\", \"OPEL\"],\n",
    "            'HP':[120, 240, 140],\n",
    "            'PRICE': [12000, 35000, 24000]}\n",
    "print(car_dict)"
   ]
  },
  {
   "cell_type": "markdown",
   "metadata": {},
   "source": [
    "### Get multiple values of a key in the dictionary"
   ]
  },
  {
   "cell_type": "code",
   "execution_count": null,
   "metadata": {},
   "outputs": [],
   "source": [
    "# Create a dictionary where multiple values are associated with a key\n",
    "car_dict = {'MAKE':[\"FIAT\", \"BMW\", \"OPEL\"],\n",
    "            'HP':[120, 240, 140],\n",
    "            'PRICE': [12000, 35000, 24000]}\n",
    "\n",
    "# Get multiple values of a key as list\n",
    "value_list = car_dict['MAKE']\n",
    "print('Values of key \"MAKE\" are:', value_list)"
   ]
  },
  {
   "attachments": {},
   "cell_type": "markdown",
   "metadata": {},
   "source": [
    "### Search for keys containing a specific value"
   ]
  },
  {
   "cell_type": "code",
   "execution_count": null,
   "metadata": {},
   "outputs": [],
   "source": [
    "# Create a dictionary where multiple values are associated with a key\n",
    "car_dict = {'MAKE':[\"FIAT\", \"BMW\", \"OPEL\"],\n",
    "            'HP':[120, 240, 140],\n",
    "            'PRICE': [12000, 35000, 24000]}\n",
    "\n",
    "# Check if a value exist in dictionary with multiple values\n",
    "value = 35000\n",
    "\n",
    "# Get list of keys that contains the given value\n",
    "list_of_keys = [key\n",
    "                for key, list_of_values in car_dict.items()\n",
    "                if value in list_of_values]\n",
    "if list_of_keys:\n",
    "    print(list_of_keys)\n",
    "else:\n",
    "    print('Value does not exist in the dictionary!')"
   ]
  },
  {
   "cell_type": "markdown",
   "metadata": {},
   "source": [
    "<h2>Sets</h2>\n",
    "<hr style=\"height:1px; width:100%; border-width:0; color:black; background-color:black\">\n",
    "\n",
    "#### What is a Set?\n",
    "Python also includes a data type for sets. A set is an unordered collection with no duplicate elements. Basic uses include membership testing and eliminating duplicate entries. Set objects also support mathematical operations like union, intersection, difference, and symmetric difference.\n",
    "<br>\n",
    "#### Why do we use a Set?\n",
    "Grouping items into a set is useful in programming. Sets are distinguished from other data structures by the unique operations that can be performed on them. Many of the operations that can be used for Python’s other data strucures don’t make sense for sets. For example, sets can’t be indexed or sliced. However, Python provides a whole host of operations on set objects that generally mimic the operations that are defined for mathematical sets.\n",
    "<br>\n",
    "#### How do we use a Set?\n",
    "Set operations in Python can be performed in two different ways: by operator or by method.\n",
    "<br>\n",
    "<br>\n",
    "### Creating a Set\n",
    "Curly braces or the set() method can be used to create sets. Note: to create an empty set you have to use set(), not {}; the latter creates an empty dictionary."
   ]
  },
  {
   "cell_type": "code",
   "execution_count": null,
   "metadata": {},
   "outputs": [],
   "source": [
    "# Create set by using curly brackets (a set does not include duplicated values)\n",
    "set1 = {\"FIAT\", \"BMW\", \"OPEL\", \"FIAT\", \"FIAT\"}\n",
    "print(set1)\n",
    "\n",
    "# Create set by using set constructor (a set does not include duplicated values)\n",
    "set1 = set((\"FIAT\", \"BMW\", \"OPEL\", \"FIAT\", \"FIAT\"))\n",
    "print(set1)"
   ]
  },
  {
   "cell_type": "markdown",
   "metadata": {},
   "source": [
    "### Adding items to a Set"
   ]
  },
  {
   "cell_type": "code",
   "execution_count": null,
   "metadata": {},
   "outputs": [],
   "source": [
    "# Create set\n",
    "set1 = {\"FIAT\", \"BMW\", \"OPEL\", \"FIAT\", \"FIAT\"}\n",
    "print(set1)\n",
    "\n",
    "# Add values\n",
    "set1.add(\"VW\")\n",
    "print(set1)"
   ]
  },
  {
   "cell_type": "markdown",
   "metadata": {},
   "source": [
    "### Removing items from a Set"
   ]
  },
  {
   "cell_type": "code",
   "execution_count": null,
   "metadata": {},
   "outputs": [],
   "source": [
    "# Create set\n",
    "set1 = {\"FIAT\", \"BMW\", \"OPEL\"}\n",
    "\n",
    "# Add values\n",
    "set1.add(\"VW\")\n",
    "print(set1)\n",
    "\n",
    "# Remove values\n",
    "set1.remove(\"FIAT\")\n",
    "print(set1)\n",
    "\n",
    "# Update values \n",
    "set2 = set([\"FIAT\", \"BMW\", \"OPEL\"])\n",
    "set3 = set([\"JEEP\", \"FORD\", \"JAGUAR\"])\n",
    "set2.update(set3)\n",
    "print(set2)"
   ]
  },
  {
   "cell_type": "markdown",
   "metadata": {},
   "source": [
    "### Accessing items in a Set"
   ]
  },
  {
   "cell_type": "code",
   "execution_count": null,
   "metadata": {},
   "outputs": [],
   "source": [
    "# Loop through the set, and print the values\n",
    "set1 = {'FIAT', 'OPEL', 'JAGUAR', 'JEEP', 'FORD', 'BMW'}\n",
    "\n",
    "# Print elements of the set\n",
    "for x in set1:\n",
    "    print(x)\n",
    "\n",
    "# Check if 'Fiat' is in the set\n",
    "print(\"FIAT\" in set1)"
   ]
  },
  {
   "cell_type": "markdown",
   "metadata": {},
   "source": [
    "### Set operations"
   ]
  },
  {
   "cell_type": "code",
   "execution_count": null,
   "metadata": {},
   "outputs": [],
   "source": [
    "# Create sets\n",
    "set1 = {'FIAT', 'OPEL', 'JAGUAR'}\n",
    "set2 = {'JEEP', 'FORD', 'BMW'}\n",
    "\n",
    "# Union by operator\n",
    "set1 = {'FIAT', 'OPEL', 'FIAT'}\n",
    "set2 = {'JEEP', 'FIAT', 'BMW'}\n",
    "set3 = set1 | set2\n",
    "print(set3)\n",
    "\n",
    "# Union by method\n",
    "set4 = {'FIAT', 'OPEL', 'CHRYSLER'}\n",
    "print(set3.union(set4))"
   ]
  },
  {
   "attachments": {},
   "cell_type": "markdown",
   "metadata": {},
   "source": [
    "### Jupyter notebook --footer info-- (please always provide this at the end of each notebook)"
   ]
  },
  {
   "cell_type": "code",
   "execution_count": null,
   "metadata": {},
   "outputs": [],
   "source": [
    "import os\n",
    "import platform\n",
    "import socket\n",
    "from platform import python_version\n",
    "from datetime import datetime\n",
    "\n",
    "print('-----------------------------------')\n",
    "print(os.name.upper())\n",
    "print(platform.system(), '|', platform.release())\n",
    "print('Datetime:', datetime.now().strftime(\"%Y-%m-%d %H:%M:%S\"))\n",
    "print('Python Version:', python_version())\n",
    "print('-----------------------------------')"
   ]
  }
 ],
 "metadata": {
  "kernelspec": {
   "display_name": "spenv",
   "language": "python",
   "name": "python3"
  },
  "language_info": {
   "codemirror_mode": {
    "name": "ipython",
    "version": 3
   },
   "file_extension": ".py",
   "mimetype": "text/x-python",
   "name": "python",
   "nbconvert_exporter": "python",
   "pygments_lexer": "ipython3",
   "version": "3.10.13"
  },
  "vscode": {
   "interpreter": {
    "hash": "e88d0147854d95637bfda66d71c1971db493e0eba7c923c8e835cc4382a02720"
   }
  }
 },
 "nbformat": 4,
 "nbformat_minor": 4
}
