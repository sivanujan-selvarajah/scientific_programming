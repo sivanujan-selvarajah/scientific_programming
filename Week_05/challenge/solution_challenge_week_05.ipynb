{
 "cells": [
  {
   "attachments": {},
   "cell_type": "markdown",
   "metadata": {},
   "source": [
    "# Preparation and exploration of bicycle / bicycle-product data from tutti.ch"
   ]
  },
  {
   "attachments": {},
   "cell_type": "markdown",
   "metadata": {},
   "source": [
    "## Libraries and settings"
   ]
  },
  {
   "cell_type": "code",
   "execution_count": null,
   "metadata": {},
   "outputs": [],
   "source": [
    "# Libraries\n",
    "import os\n",
    "import re\n",
    "import numpy as np\n",
    "import pandas as pd\n",
    "import matplotlib.pyplot as plt\n",
    "\n",
    "# Ignore warnings\n",
    "import warnings\n",
    "warnings.filterwarnings('ignore')\n",
    "\n",
    "# Show current working directory\n",
    "print(os.getcwd())"
   ]
  },
  {
   "attachments": {},
   "cell_type": "markdown",
   "metadata": {},
   "source": [
    "## Import bicycle data"
   ]
  },
  {
   "cell_type": "code",
   "execution_count": null,
   "metadata": {},
   "outputs": [],
   "source": [
    "# Read the data\n",
    "df_orig = pd.read_csv('bicycles.csv', sep=\",\")\n",
    "\n",
    "# Show the number of rows and columns\n",
    "print(df_orig.shape)\n",
    "\n",
    "# Print the first 10 rows and a selected number of columns\n",
    "df_orig.iloc[:10,]"
   ]
  },
  {
   "attachments": {},
   "cell_type": "markdown",
   "metadata": {},
   "source": [
    "## Show data types"
   ]
  },
  {
   "cell_type": "code",
   "execution_count": null,
   "metadata": {},
   "outputs": [],
   "source": [
    "# Show data types\n",
    "print(df_orig.dtypes)"
   ]
  },
  {
   "attachments": {},
   "cell_type": "markdown",
   "metadata": {},
   "source": [
    "## Count and remove missing values"
   ]
  },
  {
   "cell_type": "code",
   "execution_count": null,
   "metadata": {},
   "outputs": [],
   "source": [
    "# Count missing values\n",
    "print('Count missing values')\n",
    "print(df_orig.isna().sum())\n",
    "\n",
    "# Remove missing values\n",
    "print('\\nCheck whether missing values were successfully removed')\n",
    "df_clean_01 = df_orig.dropna()\n",
    "df_clean_01.isna().sum()"
   ]
  },
  {
   "attachments": {},
   "cell_type": "markdown",
   "metadata": {},
   "source": [
    "## Count and remove duplicated values"
   ]
  },
  {
   "cell_type": "code",
   "execution_count": null,
   "metadata": {},
   "outputs": [],
   "source": [
    "# Count duplicated values\n",
    "print('Count duplicated values')\n",
    "print(df_clean_01.duplicated().sum())\n",
    "\n",
    "# Remove duplicated values\n",
    "print('\\nCheck whether duplicated values were successfully removed')\n",
    "df = df_clean_01.drop_duplicates()\n",
    "print(df.duplicated().sum())"
   ]
  },
  {
   "attachments": {},
   "cell_type": "markdown",
   "metadata": {},
   "source": [
    "## Create a new variable 'price' with an 'int' as data type"
   ]
  },
  {
   "cell_type": "code",
   "execution_count": null,
   "metadata": {},
   "outputs": [],
   "source": [
    "# Extract values using the lambda function\n",
    "df['price'] = df['price_raw'].apply(lambda x: re.sub('[^\\d]', '', x))\n",
    "\n",
    "# Remove records with no prices\n",
    "df_sub = df[df['price'] != '']\n",
    "\n",
    "# Change data type to int\n",
    "df_sub['price'] = df_sub['price'].astype('int32')\n",
    "\n",
    "# Check data type\n",
    "print(df_sub['price'].dtypes)"
   ]
  },
  {
   "attachments": {},
   "cell_type": "markdown",
   "metadata": {},
   "source": [
    "## Create a subset of the data frame with prices between 200.- and 2000.- CHF"
   ]
  },
  {
   "cell_type": "code",
   "execution_count": null,
   "metadata": {},
   "outputs": [],
   "source": [
    "df_sub_02 = df_sub.loc[(df_sub['price'] >= 200) & (df_sub['price'] <= 2000)]\n",
    "df_sub_02"
   ]
  },
  {
   "attachments": {},
   "cell_type": "markdown",
   "metadata": {},
   "source": [
    "## Histogramm of bicycle prices"
   ]
  },
  {
   "cell_type": "code",
   "execution_count": null,
   "metadata": {},
   "outputs": [],
   "source": [
    "# Histogram\n",
    "plt.figure(figsize=(6,4))\n",
    "df_sub_02['price'].plot.hist(grid=True, \n",
    "                        bins=20, \n",
    "                        rwidth=0.9,\n",
    "                        color='lightseagreen')\n",
    "plt.title('Bicycle prices')\n",
    "plt.xlabel('Price (CHF)')\n",
    "plt.ylabel('Frequency')\n",
    "plt.grid(linestyle='-', linewidth=0.1)"
   ]
  },
  {
   "attachments": {},
   "cell_type": "markdown",
   "metadata": {},
   "source": [
    "##  Save the name of the city / canton from the address string in a new variable"
   ]
  },
  {
   "cell_type": "code",
   "execution_count": null,
   "metadata": {},
   "outputs": [],
   "source": [
    "# Extract city / canton (note the split(',') which considering commas)\n",
    "df_sub_02['location'] = df['address_raw'].str.split(',').str[0]\n",
    "\n",
    "# Show result\n",
    "df_sub_02[['address_raw', 'location']]"
   ]
  },
  {
   "attachments": {},
   "cell_type": "markdown",
   "metadata": {},
   "source": [
    "## Create a dictionary with all prices per city / canton"
   ]
  },
  {
   "cell_type": "code",
   "execution_count": null,
   "metadata": {},
   "outputs": [],
   "source": [
    "# Use set and dictionary comprehension to create a dictionary\n",
    "bicycle_dict = {x: df_sub_02.loc[df_sub_02['location'] == x, 'price'].tolist() \\\n",
    "               for x in set(df_sub_02['location'])}\n",
    "\n",
    "# Print the resulting dictionary keys and values\n",
    "print('Dictionary with keys and values:')\n",
    "print(bicycle_dict)\n",
    "\n",
    "# Print the resulting dictionary keys\n",
    "print('\\nDictionary keys:')\n",
    "print(bicycle_dict.keys())\n",
    "\n",
    "# Print the resulting dictionary values\n",
    "print('\\nDictionary values')\n",
    "print(bicycle_dict.values())"
   ]
  },
  {
   "attachments": {},
   "cell_type": "markdown",
   "metadata": {},
   "source": [
    "## Access elements of the dictionary with all prices in the city of Zürich"
   ]
  },
  {
   "cell_type": "code",
   "execution_count": null,
   "metadata": {},
   "outputs": [],
   "source": [
    "# Define the key\n",
    "mykey = 'Zürich'\n",
    "\n",
    "# Check whether FERRARI is a key in car_dict\n",
    "if mykey in bicycle_dict:\n",
    "    print(f'The key {mykey} exists!')\n",
    "\n",
    "# Get all values from the key\n",
    "print(f'\\nHere are the available prices of the key {mykey}:')\n",
    "print(bicycle_dict.get(mykey))"
   ]
  },
  {
   "attachments": {},
   "cell_type": "markdown",
   "metadata": {},
   "source": [
    "### Jupyter notebook --footer info-- (please always provide this at the end of each notebook)"
   ]
  },
  {
   "cell_type": "code",
   "execution_count": null,
   "metadata": {},
   "outputs": [],
   "source": [
    "import os\n",
    "import platform\n",
    "import socket\n",
    "from platform import python_version\n",
    "from datetime import datetime\n",
    "\n",
    "print('-----------------------------------')\n",
    "print(os.name.upper())\n",
    "print(platform.system(), '|', platform.release())\n",
    "print('Datetime:', datetime.now().strftime(\"%Y-%m-%d %H:%M:%S\"))\n",
    "print('Python Version:', python_version())\n",
    "print('-----------------------------------')"
   ]
  }
 ],
 "metadata": {
  "kernelspec": {
   "display_name": "spenv",
   "language": "python",
   "name": "python3"
  },
  "language_info": {
   "codemirror_mode": {
    "name": "ipython",
    "version": 3
   },
   "file_extension": ".py",
   "mimetype": "text/x-python",
   "name": "python",
   "nbconvert_exporter": "python",
   "pygments_lexer": "ipython3",
   "version": "3.10.13"
  },
  "orig_nbformat": 4
 },
 "nbformat": 4,
 "nbformat_minor": 2
}
