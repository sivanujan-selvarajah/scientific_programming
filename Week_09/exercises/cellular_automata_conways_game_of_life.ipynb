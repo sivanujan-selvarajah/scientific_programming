{
 "cells": [
  {
   "attachments": {},
   "cell_type": "markdown",
   "id": "a224f580",
   "metadata": {},
   "source": [
    "# Cellular Automata: Conway's Game of Life\n",
    "\n",
    "For details and alternative rules see: https://scientific-python.readthedocs.io/en/latest/notebooks_rst/0_Python/10_Examples/GameOfLife.html"
   ]
  },
  {
   "attachments": {},
   "cell_type": "markdown",
   "id": "93b13396",
   "metadata": {},
   "source": [
    "## Libraries and settings"
   ]
  },
  {
   "cell_type": "code",
   "execution_count": 1,
   "id": "7a1ab34e",
   "metadata": {},
   "outputs": [
    {
     "name": "stdout",
     "output_type": "stream",
     "text": [
      "/Users/sivanujanselvarajah/Documents/zhaw/4.Semester/Scientific programming/scientific_programming/Week_09/exercises\n"
     ]
    }
   ],
   "source": [
    "# This exercise requires the 'ipympl' library\n",
    "\n",
    "# Libraries\n",
    "import os\n",
    "import numpy as np\n",
    "import pandas as pd\n",
    "import matplotlib.pyplot as plt\n",
    "from matplotlib import animation, rc, cm\n",
    "\n",
    "%matplotlib widget\n",
    "\n",
    "# Ignore warnings\n",
    "import warnings\n",
    "warnings.filterwarnings('ignore')\n",
    "\n",
    "# Show current working directory\n",
    "print(os.getcwd())"
   ]
  },
  {
   "cell_type": "code",
   "execution_count": 2,
   "id": "4b327e97",
   "metadata": {},
   "outputs": [],
   "source": [
    "class LLCA:\n",
    "    \"\"\"\n",
    "    A Life Like Cellular Automaton (LLCA)\n",
    "\n",
    "    Inputs:\n",
    "    * C: a binary matrix representing the cells where 1 stands for alive and 0 for dead.\n",
    "    * rule: the rule of the in the format 'BXSY' where X and Y are the birth and survival conditions.\n",
    "            Example: GOL rule is \"B3S23\".\n",
    "    \"\"\"\n",
    "    def __init__(self, C = np.random.rand(50, 50), rule = \"B3S23\"):\n",
    "        self.C = np.array(C).astype(bool)\n",
    "        self.rule = rule\n",
    "\n",
    "    def parse_rule(self):\n",
    "        \"\"\"\n",
    "        Parses the rule string\n",
    "        \"\"\"\n",
    "        r = self.rule.upper().split(\"S\")\n",
    "        B = np.array([int(i) for i in r[0][1:] ]).astype(np.int64)\n",
    "        S = np.array([int(i) for i in r[1] ]).astype(np.int64)\n",
    "        return B, S\n",
    "\n",
    "    def neighbors(self):\n",
    "        \"\"\"\n",
    "        Returns the number of living neigbors of each cell.\n",
    "        \"\"\"\n",
    "        C = self.C\n",
    "        N = np.zeros(C.shape, dtype = np.int8) # Neighbors matrix\n",
    "        N[ :-1,  :  ]  += C[1:  , :  ] # Living cells south\n",
    "        N[ :  ,  :-1]  += C[ :  ,1:  ] # Living cells east\n",
    "        N[1:  ,  :  ]  += C[ :-1, :  ] # Living cells north\n",
    "        N[ :  , 1:  ]  += C[ :  , :-1] # Living cells west\n",
    "        N[ :-1,  :-1]  += C[1:  ,1:  ] # Living cells south east\n",
    "        N[1:  ,  :-1]  += C[ :-1,1:  ] # Living cells north east\n",
    "        N[1:  , 1:  ]  += C[ :-1, :-1] # Living cells north west\n",
    "        N[ :-1, 1:  ]  += C[1:  , :-1] # Living cells south west\n",
    "        return N\n",
    "\n",
    "    def iterate(self):\n",
    "        \"\"\"\n",
    "        Iterates one time.\n",
    "        \"\"\"\n",
    "        B, S = self.parse_rule()\n",
    "        N = self.neighbors()\n",
    "        C = self.C\n",
    "        C1 = np.zeros(C.shape, dtype = np.int8)\n",
    "        for b in B: C1 += ((C == False) & (N == b))\n",
    "        for s in S: C1 += (C & (N == s))\n",
    "        self.C[:] = C1 > 0"
   ]
  },
  {
   "cell_type": "code",
   "execution_count": 5,
   "id": "5047a1b4",
   "metadata": {},
   "outputs": [
    {
     "data": {
      "application/vnd.jupyter.widget-view+json": {
       "model_id": "bddd42a1bc7e4b70b71709516f8e0569",
       "version_major": 2,
       "version_minor": 0
      },
      "image/png": "[encoded data removed]",
      "text/html": [
       "\n",
       "            <div style=\"display: inline-block;\">\n",
       "                <div class=\"jupyter-widgets widget-label\" style=\"text-align: center;\">\n",
       "                    Figure\n",
       "                </div>\n",
       "                <img src='data:image/png;base64,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' width=600.0/>\n",
       "            </div>\n",
       "        "
      ],
      "text/plain": [
       "Canvas(toolbar=Toolbar(toolitems=[('Home', 'Reset original view', 'home', 'home'), ('Back', 'Back to previous …"
      ]
     },
     "metadata": {},
     "output_type": "display_data"
    }
   ],
   "source": [
    "# Initial Configuration\n",
    "N = 50\n",
    "t = np.linspace(0., 1., N+1)\n",
    "X, Y = np.meshgrid(t, t)\n",
    "f = 4\n",
    "C0 = np.sin(2. * np.pi * f * X ) * np.sin(2. * np.pi * 2 * f * Y )  > -.1\n",
    "\n",
    "# Original rule (B2S23 means birth if 2 living neighbours and survival if 2 or 3 living neighbours)\n",
    "g = LLCA(C0, rule = \"B2S23\")\n",
    "\n",
    "# Alternative rules\n",
    "#g = LLCA(C0, rule = \"B2S125\")\n",
    "#g = LLCA(C0, rule = \"B2S130\")\n",
    "#g = LLCA(C0, rule = \"B1S1305\")\n",
    "#g = LLCA(C0, rule = \"B3678S34678\")\n",
    "#g = LLCA(C0, rule = \"B0123478S01234678\") # black/white reversal\n",
    "\n",
    "# Function to update the figure\n",
    "def updatefig(*args):\n",
    "    g.iterate()\n",
    "    im.set_array(g.C)\n",
    "    return im,\n",
    "\n",
    "fig, ax = plt.subplots(figsize=(6,6))\n",
    "ax.axis('on')\n",
    "im = plt.imshow(g.C, interpolation = \"nearest\", cmap = cm.binary, animated=True)\n",
    "anim = animation.FuncAnimation(fig, updatefig, frames=200, interval=50, blit=True)\n",
    "\n",
    "#plt.show()"
   ]
  },
  {
   "attachments": {},
   "cell_type": "markdown",
   "id": "f92bdc25",
   "metadata": {},
   "source": [
    "### Jupyter notebook --footer info-- (please always provide this at the end of each notebook)"
   ]
  },
  {
   "cell_type": "code",
   "execution_count": 4,
   "id": "40b80a64",
   "metadata": {},
   "outputs": [
    {
     "name": "stdout",
     "output_type": "stream",
     "text": [
      "-----------------------------------\n",
      "POSIX\n",
      "Darwin | 23.3.0\n",
      "Datetime: 2024-06-04 16:58:55\n",
      "Python Version: 3.10.13\n",
      "-----------------------------------\n"
     ]
    }
   ],
   "source": [
    "import os\n",
    "import platform\n",
    "import socket\n",
    "from platform import python_version\n",
    "from datetime import datetime\n",
    "\n",
    "print('-----------------------------------')\n",
    "print(os.name.upper())\n",
    "print(platform.system(), '|', platform.release())\n",
    "print('Datetime:', datetime.now().strftime(\"%Y-%m-%d %H:%M:%S\"))\n",
    "print('Python Version:', python_version())\n",
    "print('-----------------------------------')"
   ]
  },
  {
   "cell_type": "code",
   "execution_count": 13,
   "id": "6d98ed5d",
   "metadata": {},
   "outputs": [
    {
     "ename": "IndentationError",
     "evalue": "unexpected indent (3425242418.py, line 2)",
     "output_type": "error",
     "traceback": [
      "\u001b[0;36m  Cell \u001b[0;32mIn[13], line 2\u001b[0;36m\u001b[0m\n\u001b[0;31m    t = np.linspace(0., 1., N+1)\u001b[0m\n\u001b[0m    ^\u001b[0m\n\u001b[0;31mIndentationError\u001b[0m\u001b[0;31m:\u001b[0m unexpected indent\n"
     ]
    }
   ],
   "source": [
    "N = 50\n",
    "    t = np.linspace(0., 1., N+1)\n",
    "    X, Y = np.meshgrid(t, t)\n",
    "    f = 4\n",
    "    C0 = np.sin(2. * np.pi * f * X ) * np.sin(2. * np.pi * 2 * f * Y ) > -.1\n",
    "    g = LLCA(C0, rule = \"B2S23\")\n",
    "\n",
    "    # Run defined number of iterations\n",
    "    for i in range(100):\n",
    "        g.iterate()\n",
    "\n",
    "    # Plot graphic\n",
    "    fig, ax = plt.subplots(figsize=(6,6))\n",
    "    ax.axis('on')\n",
    "    im = plt.imshow(g.C, interpolation = \"nearest\", cmap = cm.binary)\n",
    "\n",
    "    # Export the numpy array\n",
    "    np.savetxt('game_of_life.txt', g.C, fmt='%d')"
   ]
  }
 ],
 "metadata": {
  "kernelspec": {
   "display_name": "Python 3 (ipykernel)",
   "language": "python",
   "name": "python3"
  },
  "language_info": {
   "codemirror_mode": {
    "name": "ipython",
    "version": 3
   },
   "file_extension": ".py",
   "mimetype": "text/x-python",
   "name": "python",
   "nbconvert_exporter": "python",
   "pygments_lexer": "ipython3",
   "version": "3.10.13"
  }
 },
 "nbformat": 4,
 "nbformat_minor": 5
}
