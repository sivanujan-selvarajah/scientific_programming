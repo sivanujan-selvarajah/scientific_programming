{
 "cells": [
  {
   "attachments": {},
   "cell_type": "markdown",
   "metadata": {},
   "source": [
    "# Conditional statements, loops & loop control statements"
   ]
  },
  {
   "attachments": {},
   "cell_type": "markdown",
   "metadata": {},
   "source": [
    "## Libraries and settings"
   ]
  },
  {
   "cell_type": "code",
   "execution_count": null,
   "metadata": {},
   "outputs": [],
   "source": [
    "# Libraries\n",
    "import os\n",
    "import re\n",
    "import json\n",
    "import pandas as pd\n",
    "import matplotlib.pyplot as plt\n",
    "\n",
    "# Background color of graphics\n",
    "# plt.style.use('dark_background')\n",
    "\n",
    "# Ignore warnings\n",
    "import warnings\n",
    "warnings.filterwarnings('ignore')\n",
    "\n",
    "# Show current working directory\n",
    "print(os.getcwd())"
   ]
  },
  {
   "cell_type": "markdown",
   "metadata": {},
   "source": [
    "## Conditional statements"
   ]
  },
  {
   "cell_type": "markdown",
   "metadata": {},
   "source": [
    "### if"
   ]
  },
  {
   "cell_type": "code",
   "execution_count": null,
   "metadata": {},
   "outputs": [],
   "source": [
    "# Example if-statement\n",
    "number = 6\n",
    "if number > 5:\n",
    "    print(number**2)"
   ]
  },
  {
   "cell_type": "code",
   "execution_count": null,
   "metadata": {},
   "outputs": [],
   "source": [
    "# Example if-statement\n",
    "number = 20\n",
    "if number <= 5 or number >= 9:\n",
    "    print(number**2)"
   ]
  },
  {
   "cell_type": "code",
   "execution_count": null,
   "metadata": {},
   "outputs": [],
   "source": [
    "# Example if-statement\n",
    "mylist1 = [\"dog\", \"cat\", \"mouse\", \"bird\", \"cow\"]\n",
    "mylist2 = [\"dog\", \"cat\", \"mouse\", \"parrot\", \"cow\"]\n",
    "\n",
    "# Comparing the length of lists\n",
    "if len(mylist1) == len(mylist2):\n",
    "    print(\"The lenght of both lists is equal\")"
   ]
  },
  {
   "cell_type": "markdown",
   "metadata": {},
   "source": [
    "### if-else"
   ]
  },
  {
   "cell_type": "code",
   "execution_count": null,
   "metadata": {},
   "outputs": [],
   "source": [
    "# Example if-else statement\n",
    "number = 6\n",
    "if number <= 5:\n",
    "    print(number**2)\n",
    "else:\n",
    "    print(number**5)"
   ]
  },
  {
   "cell_type": "code",
   "execution_count": null,
   "metadata": {},
   "outputs": [],
   "source": [
    "# Example if-else statement\n",
    "number = 42\n",
    "if number <= 5 or number >= 10:\n",
    "    print(number**2)\n",
    "else:\n",
    "    print(number**5)"
   ]
  },
  {
   "cell_type": "code",
   "execution_count": null,
   "metadata": {},
   "outputs": [],
   "source": [
    "# Example if-statement\n",
    "mylist1 = [\"dog\", \"cat\", \"mouse\", \"bird\", \"cow\"]\n",
    "mylist2 = [\"dog\", \"cat\", \"mouse\", \"parrot\", \"cow\"]\n",
    "\n",
    "# Comparing the length of lists\n",
    "if len(mylist1) == len(mylist2):\n",
    "    print(\"The lenght of both lists is equal\")\n",
    "else:\n",
    "    print(\"The lenght of both lists is not equal\")\n",
    "\n",
    "# Compare the list content\n",
    "if mylist1 == mylist2:\n",
    "    print(\"List elements are equal\")\n",
    "else:\n",
    "    print(\"List elements are not equal\")"
   ]
  },
  {
   "cell_type": "markdown",
   "metadata": {},
   "source": [
    "### if...elif...else"
   ]
  },
  {
   "cell_type": "code",
   "execution_count": null,
   "metadata": {},
   "outputs": [],
   "source": [
    "# if...elif...else example\n",
    "num = 42\n",
    "\n",
    "if num >= 0 and num <= 20:\n",
    "    print(\"num is in the range from 0 to 20\")\n",
    "elif num >= 21 and num <= 40:\n",
    "    print(\"num is in the range from 21 to 40\")\n",
    "elif num >= 41 and num <= 50:\n",
    "    print(\"num is in the range from 41 to 50\")\n",
    "else:\n",
    "    print(\"num is in another range\")"
   ]
  },
  {
   "cell_type": "code",
   "execution_count": null,
   "metadata": {},
   "outputs": [],
   "source": [
    "# if...elif...else example\n",
    "mylist1 = [\"dog\", \"cat\", \"mouse\", \"bird\", \"cow\"]\n",
    "mylist2 = [\"dog\", \"cat\", \"mouse\", \"birds\", \"cow\"]\n",
    "\n",
    "# Comparing the length of lists\n",
    "if mylist1[0] != mylist2[0]:\n",
    "    print(\"List elements 1 are not equal\")\n",
    "elif mylist1[1] != mylist2[1]:\n",
    "    print(\"List elements 2 are not equal\") \n",
    "elif mylist1[2] != mylist2[2]:\n",
    "    print(\"List elements 3 are not equal\")\n",
    "elif mylist1[3] != mylist2[3]:\n",
    "    print(\"List elements 4 are not equal\") \n",
    "elif mylist1[4] != mylist2[4]:\n",
    "    print(\"List elements 5 are not equal\") \n",
    "else:\n",
    "    print(\"List elements are equal\")"
   ]
  },
  {
   "cell_type": "markdown",
   "metadata": {},
   "source": [
    "## Loops"
   ]
  },
  {
   "cell_type": "markdown",
   "metadata": {},
   "source": [
    "### for-loops"
   ]
  },
  {
   "cell_type": "code",
   "execution_count": null,
   "metadata": {},
   "outputs": [],
   "source": [
    "# for-loop example\n",
    "count = list(range(1,11))\n",
    "print(count, '\\n')\n",
    "\n",
    "# Loop\n",
    "for i in count:\n",
    "    print(f\"{i}**2 is: {i**2}\")"
   ]
  },
  {
   "cell_type": "code",
   "execution_count": null,
   "metadata": {},
   "outputs": [],
   "source": [
    "# Program to find the sum of all numbers in a list\n",
    "numbers = list(range(1,101))\n",
    "print(numbers[:5], '...', numbers[-5:])\n",
    "\n",
    "# variable to store the sum\n",
    "sum = 0\n",
    "\n",
    "# Iterate over the list\n",
    "for val in numbers:\n",
    "    sum = sum+val\n",
    "\n",
    "# Note the '\\' which is used to break long lines of code\n",
    "print(f\"The sum of all numbers from {min(numbers)} \\\n",
    "      to {max(numbers)} \\\n",
    "      is:\", sum)"
   ]
  },
  {
   "cell_type": "markdown",
   "metadata": {},
   "source": [
    "### while-loops"
   ]
  },
  {
   "cell_type": "code",
   "execution_count": null,
   "metadata": {},
   "outputs": [],
   "source": [
    "# Program to illustrate while loop\n",
    "count = 0\n",
    "while (count < 5):   \n",
    "    count = count + 1\n",
    "    print(\"Congrats, this while loop works!\")"
   ]
  },
  {
   "cell_type": "code",
   "execution_count": null,
   "metadata": {},
   "outputs": [],
   "source": [
    "# Program to illustrate while loop\n",
    "count = 0\n",
    "while (count < 20):   \n",
    "    count += 2\n",
    "    print(f\"The value of count is: {count}\")"
   ]
  },
  {
   "cell_type": "code",
   "execution_count": null,
   "metadata": {},
   "outputs": [],
   "source": [
    "# Program to illustrate combining else with while\n",
    "count = 0\n",
    "while (count < 5):   \n",
    "    count += 1\n",
    "    print(f\"The value of count is: {count}\")\n",
    "else:\n",
    "    print(\"Jumped to else block\")"
   ]
  },
  {
   "cell_type": "code",
   "execution_count": null,
   "metadata": {},
   "outputs": [],
   "source": [
    "# While loop inside a for loop\n",
    "names = ['Peter', 'Emily', 'Bobby',\n",
    "         'Marie', 'Adrew', 'Agnes']\n",
    "\n",
    "for i in names:\n",
    "    count = 0\n",
    "    while count < 10:\n",
    "        print(i, end=' | ')\n",
    "        count = count + 1\n",
    "    print()"
   ]
  },
  {
   "cell_type": "code",
   "execution_count": null,
   "metadata": {},
   "outputs": [],
   "source": [
    "# While True example\n",
    "x=0\n",
    "while True:\n",
    "    x += 1\n",
    "    if x > 100:\n",
    "        break\n",
    "    print(x, end=\" \")"
   ]
  },
  {
   "cell_type": "markdown",
   "metadata": {},
   "source": [
    "### Nested loops"
   ]
  },
  {
   "cell_type": "code",
   "execution_count": null,
   "metadata": {},
   "outputs": [],
   "source": [
    "import time\n",
    "\n",
    "# Python program to illustrate nested for loop\n",
    "for i in range(0, 11):\n",
    "    for j in range(i):\n",
    "         print('*', end='|')\n",
    "         # Slow down to make the iterations visible\n",
    "         time.sleep(0.1)\n",
    "    print(i)\n",
    "    \n",
    "    # Slowed down to make the iterations visible\n",
    "    time.sleep(0.1)"
   ]
  },
  {
   "cell_type": "code",
   "execution_count": null,
   "metadata": {},
   "outputs": [],
   "source": [
    "import time\n",
    "\n",
    "# Python program to illustrate nested for-loops\n",
    "mylist = [1,2,3,4,5,6,7,8,9,10]\n",
    "for i in mylist:\n",
    "    for j in mylist:\n",
    "         print(j, end='|')\n",
    "         # Slow down to make the iterations visible\n",
    "         time.sleep(0.1)\n",
    "    print(' ->', i)\n",
    "    \n",
    "    # Slowed down to make the iterations visible\n",
    "    time.sleep(0.1)"
   ]
  },
  {
   "cell_type": "code",
   "execution_count": null,
   "metadata": {},
   "outputs": [],
   "source": [
    "# Python program to illustrate nested for-while loop\n",
    "mylist = [10,20,30]\n",
    "for i in mylist:\n",
    "    j = 1\n",
    "    while j <= 10:\n",
    "        num=i**j\n",
    "        print('i:', \n",
    "              i, '| j:', \n",
    "              j, \n",
    "              '| num:',\n",
    "              # replace the default \",\" by \"'\"\n",
    "              f\"{num:,}\".replace(\",\", \"'\"))\n",
    "        j +=1\n",
    "        \n",
    "    # Slowed down to make the iterations visible\n",
    "    time.sleep(1)"
   ]
  },
  {
   "cell_type": "markdown",
   "metadata": {},
   "source": [
    "## Loop control statements"
   ]
  },
  {
   "cell_type": "markdown",
   "metadata": {},
   "source": [
    "### continue"
   ]
  },
  {
   "cell_type": "code",
   "execution_count": null,
   "metadata": {},
   "outputs": [],
   "source": [
    "fruits = [\"apple\", \"banana\", \n",
    "          \"cherry\", \"strawberry\", \n",
    "          \"lemon\", \"orange\"]\n",
    "for i in fruits:\n",
    "    if i == \"banana\":\n",
    "        continue\n",
    "    print(i)"
   ]
  },
  {
   "cell_type": "code",
   "execution_count": null,
   "metadata": {},
   "outputs": [],
   "source": [
    "# Program to print all letters except 'e', 's'\n",
    "for i in 'Hallo darkness my old friend':\n",
    "    if i == 'e':\n",
    "         continue\n",
    "    print('Current letter :', i)"
   ]
  },
  {
   "cell_type": "code",
   "execution_count": null,
   "metadata": {},
   "outputs": [],
   "source": [
    "# Program to print all numbers from 0-9 except 5\n",
    "var = 10        \n",
    "while var > 0:\n",
    "    var = var -1\n",
    "    if var == 5:\n",
    "        continue \n",
    "    print('Current variable value :', var)\n",
    "print(\"Ciao!\")"
   ]
  },
  {
   "cell_type": "markdown",
   "metadata": {},
   "source": [
    "### pass"
   ]
  },
  {
   "cell_type": "code",
   "execution_count": null,
   "metadata": {},
   "outputs": [],
   "source": [
    "# Example: for, pass statement\n",
    "for num in range(1, 101):\n",
    "    if num == 4:\n",
    "        pass # do nothing\n",
    "    print(num, end=\" \")"
   ]
  },
  {
   "cell_type": "code",
   "execution_count": null,
   "metadata": {},
   "outputs": [],
   "source": [
    "# Example: while, pass statement\n",
    "num = 1\n",
    "while num <= 100:\n",
    "    if num == 6:\n",
    "        pass # do nothing\n",
    "    print(num, end=\" \")   \n",
    "    num += 1"
   ]
  },
  {
   "cell_type": "markdown",
   "metadata": {},
   "source": [
    "### break"
   ]
  },
  {
   "cell_type": "code",
   "execution_count": null,
   "metadata": {},
   "outputs": [],
   "source": [
    "# Create a list of odd numbers\n",
    "num = 1\n",
    "odd_nums = []\n",
    "while num:\n",
    "    if num %2 != 0:\n",
    "        odd_nums.append(num)\n",
    "    if num >=101:\n",
    "        break\n",
    "    num += 1\n",
    "print(\"Odd numbers:\", odd_nums)"
   ]
  },
  {
   "cell_type": "code",
   "execution_count": null,
   "metadata": {},
   "outputs": [],
   "source": [
    "# Create a list of even numbers\n",
    "num = 1\n",
    "even_nums = []\n",
    "while num:\n",
    "    if num %2 == 0:\n",
    "        even_nums.append(num)\n",
    "    if num >=101:\n",
    "        break\n",
    "    num += 1\n",
    "print(\"Even Numbers:\", even_nums)"
   ]
  },
  {
   "cell_type": "markdown",
   "metadata": {},
   "source": [
    "## Itertools"
   ]
  },
  {
   "cell_type": "code",
   "execution_count": null,
   "metadata": {},
   "outputs": [],
   "source": [
    "# Creating an iterable\n",
    "can_of_pringles = [1,2,3,4,5,6,7,8,9,10]\n",
    "print(dir(can_of_pringles))"
   ]
  },
  {
   "cell_type": "markdown",
   "metadata": {},
   "source": [
    "<table width=\"40%\" height=\"40%\" align=\"left\">\n",
    "    <tr>\n",
    "        <td width=\"25%\">\n",
    "        <img src=\"https://miro.medium.com/max/875/1*KvtRfgCUatDbJdgFEgWV4g.png\" width=\"100%\" height=\"40%\">\n",
    "        </td>\n",
    "    </tr>\n",
    "</table>"
   ]
  },
  {
   "cell_type": "code",
   "execution_count": null,
   "metadata": {},
   "outputs": [],
   "source": [
    "# Creating an iterator\n",
    "iterator_COP = iter([1,2,3,4,5,6,7,8,9,10])\n",
    "print(type(iterator_COP))\n",
    "\n",
    "# Checking for functions iter() and next()\n",
    "print(dir(iterator_COP))"
   ]
  },
  {
   "cell_type": "markdown",
   "metadata": {},
   "source": [
    "<table width=\"40%\" height=\"40%\" align=\"left\">\n",
    "    <tr>\n",
    "        <td width=\"25%\">\n",
    "        <img src=\"https://miro.medium.com/max/875/1*oj69WlBBpbQhPHRYtQxUFA.png\" width=\"100%\" height=\"40%\">\n",
    "        </td>\n",
    "    </tr>\n",
    "</table>"
   ]
  },
  {
   "cell_type": "code",
   "execution_count": null,
   "metadata": {},
   "outputs": [],
   "source": [
    "# Creating an iterable\n",
    "can_of_pringles = [1,2,3,4,5,6,7,8,9,10]\n",
    "\n",
    "# Creating an iterator\n",
    "iterator_COP = iter([1,2,3,4,5,6,7,8,9,10])\n",
    "\n",
    "# Can be executed as many times as we want\n",
    "print(\"Iterable:\")\n",
    "for i in range(3):\n",
    "    for chips in can_of_pringles: \n",
    "        print(chips,end=\" \")\n",
    "    print(\"\\n\")    \n",
    "\n",
    "# Can be executed only once\n",
    "print(\"Iterator:\")\n",
    "for j in range(3):\n",
    "    for chips in iterator_COP:        \n",
    "        print(chips,end=\" \")"
   ]
  },
  {
   "cell_type": "code",
   "execution_count": null,
   "metadata": {},
   "outputs": [],
   "source": [
    "# Using the Python zip() function for parallel iteration\n",
    "numbers = [1, 2, 3]\n",
    "letters = ['a', 'b', 'c']\n",
    "zipped = zip(numbers, letters)\n",
    "zipped  # Holds an iterator object\n",
    "\n",
    "type(zipped)\n",
    "list(zipped)"
   ]
  },
  {
   "cell_type": "markdown",
   "metadata": {},
   "source": [
    "### Performance comparision for loop vs map()"
   ]
  },
  {
   "cell_type": "code",
   "execution_count": null,
   "metadata": {},
   "outputs": [],
   "source": [
    "%%time\n",
    "\n",
    "# Function\n",
    "def square(x):\n",
    "    return x*x\n",
    "\n",
    "# Create lists with 1 Mio. elements\n",
    "numbers = list(range(1000000))\n",
    "squared = []\n",
    "\n",
    "# Normal for loop\n",
    "for num in numbers:\n",
    "    squared.append(num**2)\n",
    "\n",
    "# Using the map() function\n",
    "squared = map(square, numbers)"
   ]
  },
  {
   "cell_type": "code",
   "execution_count": null,
   "metadata": {},
   "outputs": [],
   "source": [
    "%%time\n",
    "\n",
    "# Function\n",
    "def square(x):\n",
    "    return x*x\n",
    "\n",
    "# Create lists with 1 Mio. elements\n",
    "numbers = list(range(1000000))\n",
    "squared = []\n",
    "\n",
    "# Using the map() function\n",
    "squared = map(square, numbers)"
   ]
  },
  {
   "cell_type": "code",
   "execution_count": null,
   "metadata": {},
   "outputs": [],
   "source": [
    "# Python's map() function for processing iterables without a Loop\n",
    "str_nums = [\"4\", \"8\", \"6\", \"5\", \"3\", \"2\", \"8\", \"9\", \"2\", \"5\"]\n",
    "\n",
    "int_nums = map(int, str_nums)\n",
    "int_nums\n",
    "\n",
    "list(int_nums)\n",
    "str_nums"
   ]
  },
  {
   "cell_type": "markdown",
   "metadata": {},
   "source": [
    "## Practical examples using the cars data set"
   ]
  },
  {
   "cell_type": "code",
   "execution_count": null,
   "metadata": {},
   "outputs": [],
   "source": [
    "# Import the cars data\n",
    "cars = pd.read_csv('autoscout24_data.csv', \n",
    "                   sep=\";\", \n",
    "                   encoding='utf-8')\n",
    "\n",
    "# Print type of cars\n",
    "print(type(cars))\n",
    "\n",
    "# Print head of the data frame\n",
    "cars[[\"Offer_Id\",\"Make\",\"Mileage\", \n",
    "      \"Price_Num\", \"PS_Num\", \n",
    "      \"Fuel_Type\"]].head(5)"
   ]
  },
  {
   "cell_type": "markdown",
   "metadata": {},
   "source": [
    "### Create a new variable in the data frame using conditional statements"
   ]
  },
  {
   "cell_type": "code",
   "execution_count": null,
   "metadata": {},
   "outputs": [],
   "source": [
    "# Create a function to define car-categories\n",
    "def power_car_identifier(ps):\n",
    "    if ps >= 350:\n",
    "        out = 'very powerful'\n",
    "    elif ps >= 250 and ps < 350:\n",
    "        out = 'powerful'\n",
    "    elif ps >= 100 and ps < 250:\n",
    "        out = 'normal'\n",
    "    else:\n",
    "        out = 'weak'\n",
    "    return(out)\n",
    "\n",
    "# Use the function above (via .apply) to create a new column \n",
    "cars['Power_cars'] = cars['PS_Num'].apply(power_car_identifier)\n",
    "print(cars[['Power_cars', 'PS_Num', 'Price_Num', 'Mileage']], '\\n')"
   ]
  },
  {
   "cell_type": "markdown",
   "metadata": {},
   "source": [
    "### Using a for-loop and conditional statement to extract infos from the data frame"
   ]
  },
  {
   "cell_type": "code",
   "execution_count": null,
   "metadata": {},
   "outputs": [],
   "source": [
    "# Note that this example is for illustration purposes and\n",
    "# that there are more efficient ways to do this tasks.\n",
    "\n",
    "# Create empty list to store values\n",
    "expensive_cars = []\n",
    "\n",
    "# Make sure indexes pair with number of rows\n",
    "df = cars.reset_index()  \n",
    "\n",
    "# Iterate over data frame rows as (index, Series) pairs\n",
    "for index, row in df.iterrows():\n",
    "    \"\"\"If the price is above a defined value print some infos \n",
    "       of the cars and write the infos to a list\n",
    "    \"\"\"\n",
    "    \n",
    "    if (row.Price_Num >= 150000 and row.Price_Num <= 250000):\n",
    "        \n",
    "        # Temporary list\n",
    "        tmp_list = [row['Make'], row['Price_Num'], row['Mileage']]\n",
    "        print(tmp_list)\n",
    "        \n",
    "        # Append cars to the expensive_cars list\n",
    "        expensive_cars.append(tmp_list)\n",
    "        \n",
    "        # Slow down to make the iterations visible\n",
    "        time.sleep(0.2)\n",
    "\n",
    "# Convert list to data frame\n",
    "df_new = pd.DataFrame (expensive_cars, columns = ['Make', \n",
    "                                                  'Price_Num', \n",
    "                                                  'Mileage'])\n",
    "print('---------------------------------------------------')\n",
    "print(df_new)"
   ]
  },
  {
   "attachments": {},
   "cell_type": "markdown",
   "metadata": {},
   "source": [
    "### Extracting numbers from mileage-strings using a for-loop"
   ]
  },
  {
   "cell_type": "code",
   "execution_count": null,
   "metadata": {},
   "outputs": [],
   "source": [
    "# Note that this example is for illustration purposes and\n",
    "# that there are more efficient ways to do this tasks.\n",
    "\n",
    "# Create empty list\n",
    "mileage = []\n",
    "\n",
    "# Make sure indexes pair with number of rows\n",
    "df = cars.reset_index()  \n",
    "\n",
    "# Iterate over DataFrame rows as (index, Series) pairs\n",
    "for index, row in df.iterrows():\n",
    "    if (row['Price_Num'] >= 10000):\n",
    "        \n",
    "        # Extract numbers from mileage-strings and change to integers\n",
    "        # (alternatively, a regular expression could be used)\n",
    "        my_list = int(re.sub('km', '', row['Mileage']).replace(\"'\", \"\"))\n",
    "        \n",
    "        # Append to the mileage-list \n",
    "        mileage.append(my_list)\n",
    "\n",
    "print('Original values:', list(cars['Mileage'])[:5]) \n",
    "print('Extracted values:', mileage[:5])\n",
    "\n",
    "# Plot histogram with the mileage\n",
    "plt.figure(figsize=(6,4))\n",
    "plt.hist(x=mileage, \n",
    "         bins='auto', \n",
    "         color='green',\n",
    "         alpha=0.7, \n",
    "         rwidth=0.85)\n",
    "plt.grid(linestyle='-', linewidth=0.1)\n",
    "plt.xlabel('Mileage (Km)')\n",
    "plt.ylabel('Number of cars')\n",
    "plt.title('Mileage of cars')\n",
    "plt.show()"
   ]
  },
  {
   "attachments": {},
   "cell_type": "markdown",
   "metadata": {},
   "source": [
    "### Extracting numbers from mileage-strings using a for-loop and break"
   ]
  },
  {
   "cell_type": "code",
   "execution_count": null,
   "metadata": {},
   "outputs": [],
   "source": [
    "# Note that this example is for illustration purposes and\n",
    "# that there are more efficient ways to do this tasks.\n",
    "\n",
    "# Get data type of variable 'mileage'\n",
    "print(cars['Mileage'], '\\n')\n",
    "print(cars['Mileage'].dtypes, '\\n')\n",
    "\n",
    "# Create empty list\n",
    "mileage = []\n",
    "\n",
    "# Make sure indexes pair with number of rows\n",
    "df = cars.reset_index()  \n",
    "\n",
    "# Iterate over DataFrame rows as (index, Series) pairs\n",
    "for index, row in df.iterrows():\n",
    "    if (row['Price_Num'] >= 10000):\n",
    "        \n",
    "        my_list = int(re.sub('km', '', row['Mileage']).replace(\"'\", \"\"))\n",
    "        mileage.append(my_list)\n",
    "        \n",
    "        if (my_list >= 300000):\n",
    "            break\n",
    "\n",
    "print('Extracted values:', mileage[:5])"
   ]
  },
  {
   "attachments": {},
   "cell_type": "markdown",
   "metadata": {},
   "source": [
    "## Practical examples using OpenStreetMap data"
   ]
  },
  {
   "attachments": {},
   "cell_type": "markdown",
   "metadata": {},
   "source": [
    "### Showing the nested structure of the OpenStreetMap data"
   ]
  },
  {
   "cell_type": "code",
   "execution_count": null,
   "metadata": {},
   "outputs": [],
   "source": [
    "# Read json-file\n",
    "with open('shops.geojson', encoding='utf-8') as fh:\n",
    "    data = json.load(fh)\n",
    "\n",
    "# Accessing elements of the dictionary\n",
    "print('Keys inside \"data\"')\n",
    "print(data.keys())\n",
    "print('\\n\"elements\" is a dictonary inside \"data\"')\n",
    "print(data['elements'][0])\n",
    "print('\\n\"tags\" is a distionary inside \"elements\"')\n",
    "print(data['elements'][0].keys())"
   ]
  },
  {
   "attachments": {},
   "cell_type": "markdown",
   "metadata": {},
   "source": [
    "### Accessing geo-coordinates"
   ]
  },
  {
   "cell_type": "code",
   "execution_count": null,
   "metadata": {},
   "outputs": [],
   "source": [
    "# Create empty list\n",
    "coords = []\n",
    "\n",
    "# Iterate through the list of elements\n",
    "for element in data[\"elements\"]:\n",
    "    # Check if the element has a \"lat\" key\n",
    "    if \"lat\" in element:\n",
    "          # Check if the element has a \"lon\" key\n",
    "          if \"lon\" in element:\n",
    "              coords.append([element['lat'], element['lon']])\n",
    "\n",
    "# Convert coords to data frame\n",
    "df_coords = pd.DataFrame(coords[1:], columns=['lat', 'lon'])\n",
    "df_coords"
   ]
  },
  {
   "attachments": {},
   "cell_type": "markdown",
   "metadata": {},
   "source": [
    "### Accessing values in the nested dictionary 'tags'"
   ]
  },
  {
   "cell_type": "code",
   "execution_count": null,
   "metadata": {},
   "outputs": [],
   "source": [
    "# Create empty list\n",
    "tags = []\n",
    "\n",
    "# Iterate through the list of elements\n",
    "for element in data[\"elements\"]:\n",
    "    # Check if the element has a \"tags\" dictionary\n",
    "    if \"tags\" in element:\n",
    "        # Check if the \"tags\" dictionary has an \"name\" key\n",
    "        if \"name\" in element[\"tags\"]:\n",
    "            # Append data to list\n",
    "            tags.append([element['id'],\n",
    "                         element['lat'],\n",
    "                         element['lon'],\n",
    "                         element['tags']['shop'],\n",
    "                         element['tags']['name']])\n",
    "\n",
    "# Convert operators to data frame\n",
    "df_operators = pd.DataFrame(tags[1:], columns=['id', \n",
    "                                               'lat', \n",
    "                                               'lon', \n",
    "                                               'shop', \n",
    "                                               'name'])\n",
    "df_operators"
   ]
  },
  {
   "attachments": {},
   "cell_type": "markdown",
   "metadata": {},
   "source": [
    "### Jupyter notebook --footer info-- (please always provide this at the end of each notebook)"
   ]
  },
  {
   "cell_type": "code",
   "execution_count": null,
   "metadata": {},
   "outputs": [],
   "source": [
    "import os\n",
    "import platform\n",
    "import socket\n",
    "from platform import python_version\n",
    "from datetime import datetime\n",
    "\n",
    "print('-----------------------------------')\n",
    "print(os.name.upper())\n",
    "print(platform.system(), '|', platform.release())\n",
    "print('Datetime:', datetime.now().strftime(\"%Y-%m-%d %H:%M:%S\"))\n",
    "print('Python Version:', python_version())\n",
    "print('-----------------------------------')"
   ]
  }
 ],
 "metadata": {
  "kernelspec": {
   "display_name": "spenv01",
   "language": "python",
   "name": "python3"
  },
  "language_info": {
   "codemirror_mode": {
    "name": "ipython",
    "version": 3
   },
   "file_extension": ".py",
   "mimetype": "text/x-python",
   "name": "python",
   "nbconvert_exporter": "python",
   "pygments_lexer": "ipython3",
   "version": "3.10.13"
  },
  "toc": {
   "base_numbering": 1,
   "nav_menu": {},
   "number_sections": true,
   "sideBar": true,
   "skip_h1_title": false,
   "title_cell": "Table of Contents",
   "title_sidebar": "Contents",
   "toc_cell": false,
   "toc_position": {},
   "toc_section_display": true,
   "toc_window_display": true
  },
  "vscode": {
   "interpreter": {
    "hash": "753606542562d4b4f861ef551497ea5847b855bb001d4992fcd57a87491f6a65"
   }
  }
 },
 "nbformat": 4,
 "nbformat_minor": 4
}
