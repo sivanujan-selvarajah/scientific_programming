{
 "cells": [
  {
   "attachments": {},
   "cell_type": "markdown",
   "metadata": {},
   "source": [
    "# Simulating the Monty Hall problem (germ. 'Das Ziegenproblem')"
   ]
  },
  {
   "attachments": {},
   "cell_type": "markdown",
   "metadata": {},
   "source": [
    "<img src=\"https://mathematicalmysteries.files.wordpress.com/2021/12/04615-0sxvwbnzvvnhuklug.png\" alt=\"\" width=\"25%\" align=\"left\">"
   ]
  },
  {
   "attachments": {},
   "cell_type": "markdown",
   "metadata": {},
   "source": [
    "## Libraries and settings"
   ]
  },
  {
   "cell_type": "code",
   "execution_count": 6,
   "metadata": {},
<<<<<<< HEAD
   "outputs": [
    {
     "name": "stdout",
     "output_type": "stream",
     "text": [
      "/Users/sivanujanselvarajah/Documents/zhaw/4.Semester/Scientific programming/scientific_programming/Week_06/exercises\n"
     ]
    }
   ],
=======
   "outputs": [],
>>>>>>> upstream/master
   "source": [
    "# Libraries\n",
    "import os\n",
    "import random\n",
    "import matplotlib.pyplot as plt\n",
    "\n",
    "# Background color of graphics\n",
    "# plt.style.use('dark_background')\n",
    "\n",
    "# Ignore warnings\n",
    "import warnings\n",
    "warnings.filterwarnings('ignore')\n",
    "\n",
    "# Show current working directory\n",
    "#print(os.getcwd())"
   ]
  },
  {
   "attachments": {},
   "cell_type": "markdown",
   "metadata": {},
   "source": [
    "## Python implementation of the simulation"
   ]
  },
  {
   "attachments": {},
   "cell_type": "markdown",
   "metadata": {},
   "source": [
    "### Functions for trials"
   ]
  },
  {
   "cell_type": "code",
   "execution_count": 7,
   "metadata": {},
   "outputs": [],
   "source": [
    "# Function for running single trial\n",
    "def run_trial(switch_doors, ndoors=3):\n",
    "    \"\"\"\n",
    "    Run a single trial of the Monty Hall problem, with or without switching\n",
    "    after the gameshow host reveals a goat behind one of the unchosen doors.\n",
    "    The value of switch_doors is True or False. The car is behind door number 1 \n",
    "    and the gameshow host knows that.\n",
    "    \"\"\"\n",
    "\n",
    "    # Pick a random door out of the ndoors available\n",
    "    chosen_door = random.randint(1, ndoors)\n",
    "\n",
    "    if switch_doors == True:\n",
    "\n",
    "        # Reveal a goat\n",
    "        revealed_door = 3 if chosen_door == 2 else 2\n",
    "\n",
    "        # Make the switch by choosing any other door than the initially-\n",
    "        # selected one and the one just opened to reveal a goat.\n",
    "        available_doors = [dnum for dnum in range(1, ndoors + 1)\n",
    "                           if dnum not in (chosen_door, revealed_door)]\n",
    "\n",
    "        chosen_door = random.choice(available_doors)\n",
    "\n",
    "    # You win if you picked door number 1\n",
    "    return chosen_door == 1\n",
    "\n",
    "# Function for running multiple trials\n",
    "\n",
    "\n",
    "def run_trials(ntrials, switch_doors, ndoors=3):\n",
    "    \"\"\"\n",
    "    Run ntrials iterations of the Monty Hall problem with ndoors doors, with\n",
    "    and without switching (switch_doors = True or False). Returns the number\n",
    "    of trials which resulted in winning the car by picking door number 1.\n",
    "    \"\"\"\n",
    "    nwins = 0\n",
    "    for i in range(ntrials):\n",
    "        if run_trial(switch_doors, ndoors):\n",
    "            nwins += 1\n",
    "    return nwins"
   ]
  },
  {
   "attachments": {},
   "cell_type": "markdown",
   "metadata": {},
   "source": [
    "### Simulation (single trial)"
   ]
  },
  {
   "cell_type": "code",
   "execution_count": 8,
   "metadata": {},
   "outputs": [
    {
     "name": "stdout",
     "output_type": "stream",
     "text": [
      "The car is behind door: 1\n",
      "Your original choice was door: 1\n",
      "The gameshow host reveals a goat behind door: 2\n",
      "You switched to door: 3\n",
      "\n",
      "Sorry, there is only a goat waiting for you!\n"
     ]
    }
   ],
   "source": [
    "# Total number of doors (fix)\n",
    "ndoors = 3\n",
    "\n",
    "# The door with the main price (car)\n",
    "car_door = 1\n",
    "print(f'The car is behind door: {car_door}')\n",
    "\n",
    "# You original choice of door\n",
    "chosen_door = random.randint(1, 3)\n",
    "print(f'Your original choice was door: {chosen_door}')\n",
    "\n",
    "# Your choice to switch the door (can be True or False)\n",
    "switch_doors = True\n",
    "\n",
    "################################################################################\n",
    "# Simulation\n",
    "if switch_doors:\n",
    "    \n",
    "    # Reveal a goat\n",
    "    revealed_door = 3 if chosen_door == 2 else 2\n",
    "    print(f'The gameshow host reveals a goat behind door: {revealed_door}')\n",
    "    \n",
    "    # Make the switch by choosing any other door than the initially-\n",
    "    # selected one and the one just opened to reveal a goat. \n",
    "    available_doors = [dnum for dnum in range(1, ndoors + 1)\n",
    "                            if dnum not in (chosen_door, revealed_door)]\n",
    "        \n",
    "    finally_chosen_door = random.choice(available_doors)\n",
    "    print(f'You switched to door: {finally_chosen_door}')\n",
    "    \n",
    "else:\n",
    "     \n",
    "    finally_chosen_door = chosen_door\n",
    "    print(f'You don\\'t switched and remain with door: {finally_chosen_door}')\n",
    "    \n",
    "################################################################################\n",
    "# Result\n",
    "if car_door == finally_chosen_door:\n",
    "    print('\\nCongratulations, you are the winner!!!')\n",
    "else:\n",
    "    print('\\nSorry, there is only a goat waiting for you!')\n"
   ]
  },
  {
   "attachments": {},
   "cell_type": "markdown",
   "metadata": {},
   "source": [
    "### Simulation (multiple trials)"
   ]
  },
  {
   "cell_type": "code",
   "execution_count": 11,
   "metadata": {},
   "outputs": [
    {
     "name": "stdout",
     "output_type": "stream",
     "text": [
      "Monty Hall Problem with 3 doors\n",
      "Proportion of wins without switching: 33.3%\n",
      "Proportion of wins with switching: 66.6%\n"
     ]
    },
    {
     "data": {
      "image/png": "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",
      "text/plain": [
       "<Figure size 400x400 with 1 Axes>"
      ]
     },
     "metadata": {},
     "output_type": "display_data"
    }
   ],
   "source": [
    "# Parameter settings\n",
    "ndoors, ntrials = 3, 1000000\n",
    "\n",
    "# Simulation\n",
    "nwins_without_switch = run_trials(ntrials, False, ndoors)\n",
    "nwins_with_switch = run_trials(ntrials, True, ndoors)\n",
    "\n",
    "# Print results\n",
    "print(f'Monty Hall Problem with {ndoors} doors')\n",
    "print(f'Proportion of wins without switching: {nwins_without_switch/ntrials*100:.1f}%')\n",
    "print(f'Proportion of wins with switching: {nwins_with_switch/ntrials*100:.1f}%')\n",
    "\n",
    "# Graphic\n",
    "labels = ['% lost', '% won']\n",
    "sizes = [round(nwins_without_switch/ntrials*100, 1), round(nwins_with_switch/ntrials*100, 1)]\n",
    "fig, ax = plt.subplots(figsize=(4,4))\n",
    "ax.pie(sizes, \n",
    "       labels=labels,\n",
    "       autopct='%1.1f%%', \n",
    "       startangle=90,\n",
    "       colors=['orange', 'green'])\n",
    "ax.set_title(f'% Won and Lost ({ntrials:,} trials)', fontsize=12)\n",
    "plt.show()"
   ]
  },
  {
   "attachments": {},
   "cell_type": "markdown",
   "metadata": {},
   "source": [
    "### Jupyter notebook --footer info-- (please always provide this at the end of each notebook)"
   ]
  },
  {
   "cell_type": "code",
   "execution_count": 10,
   "metadata": {},
   "outputs": [
    {
     "name": "stdout",
     "output_type": "stream",
     "text": [
      "-----------------------------------\n",
      "POSIX\n",
      "Darwin | 23.3.0\n",
      "Datetime: 2024-03-27 20:46:01\n",
      "Python Version: 3.10.13\n",
      "-----------------------------------\n"
     ]
    }
   ],
   "source": [
    "import os\n",
    "import platform\n",
    "import socket\n",
    "from platform import python_version\n",
    "from datetime import datetime\n",
    "\n",
    "print('-----------------------------------')\n",
    "print(os.name.upper())\n",
    "print(platform.system(), '|', platform.release())\n",
    "print('Datetime:', datetime.now().strftime(\"%Y-%m-%d %H:%M:%S\"))\n",
    "print('Python Version:', python_version())\n",
    "print('-----------------------------------')"
   ]
  }
 ],
 "metadata": {
  "kernelspec": {
   "display_name": "spenv01",
   "language": "python",
   "name": "python3"
  },
  "language_info": {
   "codemirror_mode": {
    "name": "ipython",
    "version": 3
   },
   "file_extension": ".py",
   "mimetype": "text/x-python",
   "name": "python",
   "nbconvert_exporter": "python",
   "pygments_lexer": "ipython3",
   "version": "3.10.13"
  },
  "orig_nbformat": 4,
  "vscode": {
   "interpreter": {
    "hash": "753606542562d4b4f861ef551497ea5847b855bb001d4992fcd57a87491f6a65"
   }
  }
 },
 "nbformat": 4,
 "nbformat_minor": 2
}
