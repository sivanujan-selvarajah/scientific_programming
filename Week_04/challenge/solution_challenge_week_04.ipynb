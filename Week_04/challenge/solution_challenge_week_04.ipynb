{
 "cells": [
  {
   "attachments": {},
   "cell_type": "markdown",
   "id": "7e6d1072",
   "metadata": {},
   "source": [
    "# Getting all available Swiss petrol stations using the overpass Web API"
   ]
  },
  {
   "attachments": {},
   "cell_type": "markdown",
   "id": "c960f3b3",
   "metadata": {},
   "source": [
    "## Libraries and settings"
   ]
  },
  {
   "cell_type": "code",
   "execution_count": null,
   "id": "e8d26669",
   "metadata": {},
   "outputs": [],
   "source": [
    "# Libraries\n",
    "import os\n",
    "import json\n",
    "import folium\n",
    "import requests\n",
    "import pandas as pd\n",
    "\n",
    "# Ignore warnings\n",
    "import warnings\n",
    "warnings.filterwarnings('ignore')\n",
    "\n",
    "# Show current working directory\n",
    "print(os.getcwd())"
   ]
  },
  {
   "attachments": {},
   "cell_type": "markdown",
   "id": "607822a3",
   "metadata": {},
   "source": [
    "## Overpass turbo query to get available petrol stations"
   ]
  },
  {
   "cell_type": "code",
   "execution_count": null,
   "id": "fe09d40b",
   "metadata": {},
   "outputs": [],
   "source": [
    "# Overpass API URL\n",
    "url = 'http://overpass-api.de/api/interpreter'\n",
    "\n",
    "# Overpass turbo query\n",
    "query = f\"\"\"\n",
    "        [out:json];\n",
    "        area[\"ISO3166-1\"=\"CH\"][admin_level=2];\n",
    "        node [\"amenity\"=\"fuel\"](area);\n",
    "        out;\"\"\"\n",
    "\n",
    "# Web API request\n",
    "r = requests.get(url, params={'data': query})\n",
    "data = r.json()['elements']\n",
    "\n",
    "# Save data to .json file\n",
    "with open('petrol_stations.json', 'w') as json_file:\n",
    "    json.dump(data, json_file)\n",
    "\n",
    "# Store data in data frame\n",
    "df = pd.json_normalize(data)\n",
    "df.head()"
   ]
  },
  {
   "attachments": {},
   "cell_type": "markdown",
   "id": "8a621be9",
   "metadata": {},
   "source": [
    "## Save data frame to a .csv file"
   ]
  },
  {
   "cell_type": "code",
   "execution_count": null,
   "id": "a469df99",
   "metadata": {},
   "outputs": [],
   "source": [
    "# Write data frame to .csv - file\n",
    "df.to_csv('petrol-stations.csv', index=False, sep=\";\", encoding='utf-8')"
   ]
  },
  {
   "attachments": {},
   "cell_type": "markdown",
   "id": "4e84dc5d",
   "metadata": {},
   "source": [
    "## Use a pivot table to count the number of petrol stations per operator"
   ]
  },
  {
   "cell_type": "code",
   "execution_count": null,
   "id": "af9edc3b",
   "metadata": {},
   "outputs": [],
   "source": [
    "# Create pivot table\n",
    "tab = pd.pivot_table(df[['id', 'tags.name']], \n",
    "                       values=['id'], \n",
    "                       index=['tags.name'],\n",
    "                       aggfunc='count')\n",
    "\n",
    "# Sort pivot table\n",
    "tab_sorted = tab.sort_values(by=['id'], ascending=False)\n",
    "tab_sorted"
   ]
  },
  {
   "attachments": {},
   "cell_type": "markdown",
   "id": "a7ea9b1e",
   "metadata": {},
   "source": [
    "## Plot petrol stations on map"
   ]
  },
  {
   "cell_type": "code",
   "execution_count": null,
   "id": "49e8cc9c",
   "metadata": {
    "scrolled": true
   },
   "outputs": [],
   "source": [
    "# Subset of petrol stations by brand\n",
    "locations = df[[\"lat\", \n",
    "                \"lon\", \n",
    "                \"tags.brand\", \n",
    "                \"tags.shop\"]].loc[df[\"tags.brand\"].isin(['Migrol', \n",
    "                                                         'Agip', \n",
    "                                                         'Shell'])]\n",
    "print(locations.head(5))\n",
    "\n",
    "# Create map\n",
    "map = folium.Map(location=[locations.lat.mean(), \n",
    "                           locations.lon.mean()], \n",
    "                 zoom_start=8, \n",
    "                 control_scale=True)\n",
    "\n",
    "# Add maker symbols\n",
    "for index, location_info in locations.iterrows():\n",
    "    folium.Marker([location_info[\"lat\"], \n",
    "                   location_info[\"lon\"]], \n",
    "                   popup=location_info[\"tags.brand\"]).add_to(map)\n",
    "\n",
    "# Plot map\n",
    "map"
   ]
  },
  {
   "attachments": {},
   "cell_type": "markdown",
   "id": "dd862d89",
   "metadata": {},
   "source": [
    "### Jupyter notebook --footer info-- (please always provide this at the end of each notebook)"
   ]
  },
  {
   "cell_type": "code",
   "execution_count": null,
   "id": "383ae0ff",
   "metadata": {},
   "outputs": [],
   "source": [
    "import os\n",
    "import platform\n",
    "import socket\n",
    "from platform import python_version\n",
    "from datetime import datetime\n",
    "\n",
    "print('-----------------------------------')\n",
    "print(os.name.upper())\n",
    "print(platform.system(), '|', platform.release())\n",
    "print('Datetime:', datetime.now().strftime(\"%Y-%m-%d %H:%M:%S\"))\n",
    "print('Python Version:', python_version())\n",
    "print('-----------------------------------')"
   ]
  }
 ],
 "metadata": {
  "kernelspec": {
   "display_name": "spenv",
   "language": "python",
   "name": "python3"
  },
  "language_info": {
   "codemirror_mode": {
    "name": "ipython",
    "version": 3
   },
   "file_extension": ".py",
   "mimetype": "text/x-python",
   "name": "python",
   "nbconvert_exporter": "python",
   "pygments_lexer": "ipython3",
   "version": "3.10.13"
  },
  "vscode": {
   "interpreter": {
    "hash": "e88d0147854d95637bfda66d71c1971db493e0eba7c923c8e835cc4382a02720"
   }
  }
 },
 "nbformat": 4,
 "nbformat_minor": 5
}
