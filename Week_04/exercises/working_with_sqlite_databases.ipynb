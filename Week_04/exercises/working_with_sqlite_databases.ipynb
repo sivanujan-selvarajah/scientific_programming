{
 "cells": [
  {
   "cell_type": "markdown",
   "metadata": {},
   "source": [
    "# Working with SQLite databases"
   ]
  },
  {
   "attachments": {},
   "cell_type": "markdown",
   "metadata": {},
   "source": [
    "## Libraries and settings"
   ]
  },
  {
   "cell_type": "code",
   "execution_count": 3,
   "metadata": {},
   "outputs": [
    {
     "name": "stdout",
     "output_type": "stream",
     "text": [
      "/Users/sivanujanselvarajah/Documents/zhaw/4.Semester/Scientific programming/scientific_programming/Week_04/exercises\n"
     ]
    }
   ],
   "source": [
    "# Libraries\n",
    "import os\n",
    "import sqlite3\n",
    "import pandas as pd\n",
    "\n",
    "# Ignore warnings\n",
    "import warnings\n",
    "warnings.filterwarnings('ignore')\n",
    "\n",
    "# Show current working directory\n",
    "print(os.getcwd())"
   ]
  },
  {
   "attachments": {},
   "cell_type": "markdown",
   "metadata": {},
   "source": [
    "## Create SQLite database"
   ]
  },
  {
   "cell_type": "code",
   "execution_count": 4,
   "metadata": {},
   "outputs": [],
   "source": [
    "# Create db\n",
    "conn = sqlite3.connect('data/online_store.db')\n",
    "\n",
    "# Close connection to db\n",
    "conn.close()"
   ]
  },
  {
   "attachments": {},
   "cell_type": "markdown",
   "metadata": {},
   "source": [
    "## Create table 'Customers' and include data"
   ]
  },
  {
   "cell_type": "code",
   "execution_count": 5,
   "metadata": {},
   "outputs": [],
   "source": [
    "# Open connection to db\n",
    "conn = sqlite3.connect('data/online_store.db')\n",
    "\n",
    "# Create table and define variables and data types\n",
    "conn.execute('''CREATE TABLE IF NOT EXISTS Customers\n",
    "             (CustomerID INT PRIMARY KEY     NOT NULL,\n",
    "              CustomerName           TEXT    NOT NULL,\n",
    "              ContactName            TEXT    NOT NULL,\n",
    "              Address            CHAR(100),\n",
    "              City               CHAR(100), \n",
    "              PostalCode         CHAR(50),\n",
    "              Country            CHAR(50));''')\n",
    "\n",
    "# Import data\n",
    "df_cust = pd.read_excel('customers.xlsx', sheet_name='sheet01')\n",
    "\n",
    "# Write data to the data base table named 'COMPANY'\n",
    "df_cust.to_sql('Customers', conn, if_exists='replace')\n",
    "\n",
    "# Commit the changes to the table\n",
    "conn.commit()\n",
    "\n",
    "# Close connection to db\n",
    "conn.close()\n"
   ]
  },
  {
   "attachments": {},
   "cell_type": "markdown",
   "metadata": {},
   "source": [
    "## Create table 'Orders' and include data"
   ]
  },
  {
   "cell_type": "code",
   "execution_count": 6,
   "metadata": {},
   "outputs": [],
   "source": [
    "# Open connection to db\n",
    "conn = sqlite3.connect('data/online_store.db')\n",
    "\n",
    "# Create table and define variables and data types\n",
    "conn.execute('''CREATE TABLE IF NOT EXISTS Orders\n",
    "             (OrderID INT PRIMARY KEY   NOT NULL,\n",
    "              CustomerID         INT    NOT NULL,\n",
    "              EmployeeID\t     INT    NOT NULL,\n",
    "              OrderDate\t         CHAR(100),\n",
    "              ShipperID          INT);''')\n",
    "\n",
    "# Import data\n",
    "df_cust = pd.read_excel('orders.xlsx', sheet_name='sheet01')\n",
    "\n",
    "# Write data to the data base table named 'COMPANY'\n",
    "df_cust.to_sql('Orders', conn, if_exists='replace')\n",
    "\n",
    "# Commit the changes to the table\n",
    "conn.commit()\n",
    "\n",
    "# Close connection to db\n",
    "conn.close()"
   ]
  },
  {
   "attachments": {},
   "cell_type": "markdown",
   "metadata": {},
   "source": [
    "### Query the database using SQL and write result to a pandas data frame"
   ]
  },
  {
   "cell_type": "code",
   "execution_count": 7,
   "metadata": {},
   "outputs": [
    {
     "data": {
      "text/html": [
       "<div>\n",
       "<style scoped>\n",
       "    .dataframe tbody tr th:only-of-type {\n",
       "        vertical-align: middle;\n",
       "    }\n",
       "\n",
       "    .dataframe tbody tr th {\n",
       "        vertical-align: top;\n",
       "    }\n",
       "\n",
       "    .dataframe thead th {\n",
       "        text-align: right;\n",
       "    }\n",
       "</style>\n",
       "<table border=\"1\" class=\"dataframe\">\n",
       "  <thead>\n",
       "    <tr style=\"text-align: right;\">\n",
       "      <th></th>\n",
       "      <th>CustomerID</th>\n",
       "      <th>ContactName</th>\n",
       "      <th>Address</th>\n",
       "      <th>City</th>\n",
       "      <th>PostalCode</th>\n",
       "      <th>Country</th>\n",
       "      <th>OrderID</th>\n",
       "      <th>OrderDate</th>\n",
       "    </tr>\n",
       "  </thead>\n",
       "  <tbody>\n",
       "    <tr>\n",
       "      <th>0</th>\n",
       "      <td>41</td>\n",
       "      <td>Annette Roulet</td>\n",
       "      <td>1 rue Alsace-Lorraine</td>\n",
       "      <td>Toulouse</td>\n",
       "      <td>31000</td>\n",
       "      <td>France</td>\n",
       "      <td>10350.0</td>\n",
       "      <td>1996-11-11 00:00:00</td>\n",
       "    </tr>\n",
       "    <tr>\n",
       "      <th>1</th>\n",
       "      <td>41</td>\n",
       "      <td>Annette Roulet</td>\n",
       "      <td>1 rue Alsace-Lorraine</td>\n",
       "      <td>Toulouse</td>\n",
       "      <td>31000</td>\n",
       "      <td>France</td>\n",
       "      <td>10358.0</td>\n",
       "      <td>1996-11-20 00:00:00</td>\n",
       "    </tr>\n",
       "    <tr>\n",
       "      <th>2</th>\n",
       "      <td>41</td>\n",
       "      <td>Annette Roulet</td>\n",
       "      <td>1 rue Alsace-Lorraine</td>\n",
       "      <td>Toulouse</td>\n",
       "      <td>31000</td>\n",
       "      <td>France</td>\n",
       "      <td>10371.0</td>\n",
       "      <td>1996-12-03 00:00:00</td>\n",
       "    </tr>\n",
       "    <tr>\n",
       "      <th>3</th>\n",
       "      <td>41</td>\n",
       "      <td>Annette Roulet</td>\n",
       "      <td>1 rue Alsace-Lorraine</td>\n",
       "      <td>Toulouse</td>\n",
       "      <td>31000</td>\n",
       "      <td>France</td>\n",
       "      <td>10413.0</td>\n",
       "      <td>1997-01-14 00:00:00</td>\n",
       "    </tr>\n",
       "    <tr>\n",
       "      <th>4</th>\n",
       "      <td>41</td>\n",
       "      <td>Annette Roulet</td>\n",
       "      <td>1 rue Alsace-Lorraine</td>\n",
       "      <td>Toulouse</td>\n",
       "      <td>31000</td>\n",
       "      <td>France</td>\n",
       "      <td>10425.0</td>\n",
       "      <td>1997-01-24 00:00:00</td>\n",
       "    </tr>\n",
       "    <tr>\n",
       "      <th>5</th>\n",
       "      <td>26</td>\n",
       "      <td>Carine Schmitt</td>\n",
       "      <td>54, rue Royale</td>\n",
       "      <td>Nantes</td>\n",
       "      <td>44000</td>\n",
       "      <td>France</td>\n",
       "      <td>NaN</td>\n",
       "      <td>None</td>\n",
       "    </tr>\n",
       "    <tr>\n",
       "      <th>6</th>\n",
       "      <td>74</td>\n",
       "      <td>Dominique Perrier</td>\n",
       "      <td>25, rue Lauriston</td>\n",
       "      <td>Paris</td>\n",
       "      <td>75016</td>\n",
       "      <td>France</td>\n",
       "      <td>NaN</td>\n",
       "      <td>None</td>\n",
       "    </tr>\n",
       "    <tr>\n",
       "      <th>7</th>\n",
       "      <td>18</td>\n",
       "      <td>Janine Labrune</td>\n",
       "      <td>67, rue des Cinquante Otages</td>\n",
       "      <td>Nantes</td>\n",
       "      <td>44000</td>\n",
       "      <td>France</td>\n",
       "      <td>10311.0</td>\n",
       "      <td>1996-09-20 00:00:00</td>\n",
       "    </tr>\n",
       "    <tr>\n",
       "      <th>8</th>\n",
       "      <td>57</td>\n",
       "      <td>Marie Bertrand</td>\n",
       "      <td>265, boulevard Charonne</td>\n",
       "      <td>Paris</td>\n",
       "      <td>75012</td>\n",
       "      <td>France</td>\n",
       "      <td>NaN</td>\n",
       "      <td>None</td>\n",
       "    </tr>\n",
       "  </tbody>\n",
       "</table>\n",
       "</div>"
      ],
      "text/plain": [
       "   CustomerID        ContactName                       Address      City  \\\n",
       "0          41     Annette Roulet         1 rue Alsace-Lorraine  Toulouse   \n",
       "1          41     Annette Roulet         1 rue Alsace-Lorraine  Toulouse   \n",
       "2          41     Annette Roulet         1 rue Alsace-Lorraine  Toulouse   \n",
       "3          41     Annette Roulet         1 rue Alsace-Lorraine  Toulouse   \n",
       "4          41     Annette Roulet         1 rue Alsace-Lorraine  Toulouse   \n",
       "5          26     Carine Schmitt                54, rue Royale    Nantes   \n",
       "6          74  Dominique Perrier             25, rue Lauriston     Paris   \n",
       "7          18     Janine Labrune  67, rue des Cinquante Otages    Nantes   \n",
       "8          57     Marie Bertrand       265, boulevard Charonne     Paris   \n",
       "\n",
       "  PostalCode Country  OrderID            OrderDate  \n",
       "0      31000  France  10350.0  1996-11-11 00:00:00  \n",
       "1      31000  France  10358.0  1996-11-20 00:00:00  \n",
       "2      31000  France  10371.0  1996-12-03 00:00:00  \n",
       "3      31000  France  10413.0  1997-01-14 00:00:00  \n",
       "4      31000  France  10425.0  1997-01-24 00:00:00  \n",
       "5      44000  France      NaN                 None  \n",
       "6      75016  France      NaN                 None  \n",
       "7      44000  France  10311.0  1996-09-20 00:00:00  \n",
       "8      75012  France      NaN                 None  "
      ]
     },
     "execution_count": 7,
     "metadata": {},
     "output_type": "execute_result"
    }
   ],
   "source": [
    "# Connection to db\n",
    "conn = sqlite3.connect(\"data/online_store.db\")\n",
    "\n",
    "# SQL query\n",
    "df_sub = pd.read_sql(\"\"\"SELECT\n",
    "                        T1.CustomerID, \n",
    "                        T1.ContactName, \n",
    "                        T1.Address, \n",
    "                        T1.City,\n",
    "                        T1.PostalCode, \n",
    "                        T1.Country, \n",
    "                        T2.OrderID, \n",
    "                        T2.OrderDate\n",
    "                        FROM Customers AS T1\n",
    "                        LEFT JOIN Orders AS T2\n",
    "                        ON T1.CustomerID = T2.CustomerID\n",
    "                        WHERE T1.Country = \"France\"\n",
    "                        AND T1.City IN (\"Nantes\", \"Paris\", \"Toulouse\")\n",
    "                        ORDER BY T1.ContactName\"\"\",\n",
    "                     con=conn)\n",
    " \n",
    "# Close connection to db\n",
    "conn.close()\n",
    "\n",
    "# Show result\n",
    "df_sub\n"
   ]
  },
  {
   "attachments": {},
   "cell_type": "markdown",
   "metadata": {},
   "source": [
    "### Jupyter notebook --footer info-- (please always provide this at the end of each notebook)"
   ]
  },
  {
   "cell_type": "code",
   "execution_count": 8,
   "metadata": {},
   "outputs": [
    {
     "name": "stdout",
     "output_type": "stream",
     "text": [
      "-----------------------------------\n",
      "POSIX\n",
      "Darwin | 23.3.0\n",
      "Datetime: 2024-03-19 17:45:57\n",
      "Python Version: 3.10.13\n",
      "-----------------------------------\n"
     ]
    }
   ],
   "source": [
    "import os\n",
    "import platform\n",
    "import socket\n",
    "from platform import python_version\n",
    "from datetime import datetime\n",
    "\n",
    "print('-----------------------------------')\n",
    "print(os.name.upper())\n",
    "print(platform.system(), '|', platform.release())\n",
    "print('Datetime:', datetime.now().strftime(\"%Y-%m-%d %H:%M:%S\"))\n",
    "print('Python Version:', python_version())\n",
    "print('-----------------------------------')"
   ]
  }
 ],
 "metadata": {
  "kernelspec": {
   "display_name": "spenv",
   "language": "python",
   "name": "python3"
  },
  "language_info": {
   "codemirror_mode": {
    "name": "ipython",
    "version": 3
   },
   "file_extension": ".py",
   "mimetype": "text/x-python",
   "name": "python",
   "nbconvert_exporter": "python",
   "pygments_lexer": "ipython3",
   "version": "3.10.13"
  },
  "orig_nbformat": 4
 },
 "nbformat": 4,
 "nbformat_minor": 2
}
