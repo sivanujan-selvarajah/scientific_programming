{
 "cells": [
  {
   "attachments": {},
   "cell_type": "markdown",
   "id": "d19f7ccf",
   "metadata": {},
   "source": [
    "<table width=\"100%\" height=\"50%\">\n",
    "    <tr>\n",
    "        <td width=\"20%\">\n",
    "        <img src=\"00_img_ipynb/python_quiz.jpeg\" alt=\"\" width=\"100%\"  align=\"left\">\n",
    "        </td>\n",
    "        <td style=\"text-align: left\">\n",
    "        <font size=\"6\"><b>Quiz: Input, Output & Formatting in Python</b></font>\n",
    "        </td>\n",
    "    </tr>\n",
    "</table>"
   ]
  },
  {
   "attachments": {},
   "cell_type": "markdown",
   "id": "815b3177",
   "metadata": {},
   "source": [
    "### 1.) What is the purpose of the following code?\n",
    "\n",
    "```python\n",
    "conn = sqlite3.connect('example_sqlite.db')\n",
    "conn.execute('''CREATE TABLE CUST\n",
    "             (ID INT PRIMARY KEY     NOT NULL,\n",
    "             NAME           TEXT    NOT NULL,\n",
    "             AGE            INT     NOT NULL,\n",
    "             ADDRESS        CHAR(50),\n",
    "             SALARY         REAL);''')\n",
    "```\n",
    "##### a) To create a new database and insert data into a table named CUST.\n",
    "##### b) To open a connection to an existing data base and change the data types of the existing table named CUST.\n",
    "##### c) To create a database or (if it exists) open a connection to the database and insert a table named CUST with it's respective data types.(Richtig )\n",
    "##### d) To fill up data in a database table named 'example_sqlite.db'."
   ]
  },
  {
   "attachments": {},
   "cell_type": "markdown",
   "id": "f3569802",
   "metadata": {},
   "source": [
    "### 2.) What is the purpose of the following code?\n",
    "\n",
    "```python\n",
    "data = pd.read_csv(\"example.csv\", sep=\";\")\n",
    "print(data.head(5))\n",
    "```\n",
    "##### a) To read data from a plain text file and print the first 5 rows. \n",
    "##### b) To read data from a .csv file with a semicolon as delimiter and print the first 5 rows. (richtig)\n",
    "##### c) To read data from an .xlsx file and print the header which is the first 5 rows.\n",
    "##### d) To read data from an .csv file to a pandas data frame and print the first 5 columns."
   ]
  },
  {
   "cell_type": "markdown",
   "id": "4475313a",
   "metadata": {},
   "source": [
    "### 3.) What is the purpose of the code line: encoding='utf-8' in the following code?\n",
    "\n",
    "```python\n",
    "text_file = open(\"example.txt\", \n",
    "                 \"r\", \n",
    "                 encoding='utf-8')\n",
    "```\n",
    "##### a) It has no special purpose, this is just one of the default parameters to read the data.\n",
    "##### b) The purpose is to correctly encode the characters when writing the text.\n",
    "##### c) This is the correct way in Python to decrypt encrypted files.\n",
    "##### d) The purpose is to correctly encode the characters when reading the text. (richtig)"
   ]
  },
  {
   "attachments": {},
   "cell_type": "markdown",
   "id": "a4914bdf",
   "metadata": {},
   "source": [
    "### 4.) What is the purpose of the following code?\n",
    "\n",
    "```python\n",
    "with open('example.json', 'r') as f:\n",
    "    data = json.load(f)\n",
    "print(data)\n",
    "```\n",
    "##### a) The code reads a json file and prints it's content on screen.\n",
    "##### b) The code writes a json file and prints the writing success on screen.\n",
    "##### c) The code reads a json file and prints it line by line on screen.\n",
    "##### d) The code opens a json file in an editor which allows to modify its content."
   ]
  },
  {
   "attachments": {},
   "cell_type": "markdown",
   "id": "10715a0c",
   "metadata": {},
   "source": [
    "### 5.) What is the purpose of the following code?\n",
    "\n",
    "```python\n",
    "data = pd.read_csv(\"archive.zip\", sep=\";\")\n",
    "```\n",
    "##### a) The code writes a csv-file to an existing zip archive named 'archive.zip'.\n",
    "##### b) The code reads a semicolon-separated csv-file contained in a zip archive named 'archive.zip' to a pandas data frame named 'data'.\n",
    "##### c) The code writes a csv-file named 'pd' to an existing zip archive named 'archive.zip'.\n",
    "##### d) The code reads a comma-separated csv-file contained in a zip archive named 'archive.zip' to a pandas data frame named 'data'."
   ]
  },
  {
   "cell_type": "markdown",
   "id": "28d662e6",
   "metadata": {},
   "source": [
    "### 6.) Which of the code lines s3 and s4 is correct to format the string?\n",
    "\n",
    "```python\n",
    "s1 = \"Peter\"\n",
    "s2 = \"Mary\"\n",
    "s3 = \"%s and %s are living together.\" % (s1, s2)\n",
    "s4 = \"{} and {} are living together.\".format(s1, s2)\n",
    "print(s3)\n",
    "print(s4)\n",
    "```\n",
    "##### a) Both are correct and return the same result. (richtig)\n",
    "##### b) Only s3 is correct.\n",
    "##### c) Both are incorrect and return an Error-Message\n",
    "##### d) Only s4 is correct."
   ]
  },
  {
   "attachments": {},
   "cell_type": "markdown",
   "id": "8f50828b",
   "metadata": {},
   "source": [
    "### 7.) Which of the print commands is correct to format the string?\n",
    "\n",
    "```python\n",
    "person = {'name': 'Peter', 'age': 25}\n",
    "print(\"Hello, {name}. You are {age} years old.\".format(name=person['name'], age=person['age']))\n",
    "print(\"Hello, {name}. You are {age} years old.\".format(**person))\n",
    "```\n",
    "##### a) Both are correct and return the same result.\n",
    "##### b) Only the first print command is correct.\n",
    "##### c) Both are incorrect and return an Error-Message\n",
    "##### d) Only the second print command is correct."
   ]
  },
  {
   "attachments": {},
   "cell_type": "markdown",
   "id": "f5a3c4a2",
   "metadata": {},
   "source": [
    "### 8.) What is the output of the following code?\n",
    "\n",
    "```python\n",
    "print(\"{:.2%}\".format(0.42356782))\n",
    "```\n",
    "##### a) 0.42\n",
    "##### b) 42.36%\n",
    "##### c) 42%\n",
    "##### d) 42.00%"
   ]
  },
  {
   "cell_type": "markdown",
   "id": "20dfa575",
   "metadata": {},
   "source": [
    "### 9.) What is the output of the following code?\n",
    "\n",
    "```python\n",
    "print(\"{:0>8d}\".format(42))\n",
    "```\n",
    "##### a) 00000042 (richtig)\n",
    "##### b) 0000000042\n",
    "##### c) 4200000000\n",
    "##### d) 42000000"
   ]
  },
  {
   "cell_type": "markdown",
   "id": "16e92263",
   "metadata": {},
   "source": [
    "### 10.) What is the output of the following code?\n",
    "\n",
    "```python\n",
    "x = 56.6578\n",
    "print(f'{x*100:.2f}')\n",
    "```\n",
    "##### a) 56.65\n",
    "##### b) 566578.00\n",
    "##### c) 5665.00\n",
    "##### d) 5665.78 (richtig)"
   ]
  },
  {
   "attachments": {},
   "cell_type": "markdown",
   "id": "8dbf0223",
   "metadata": {},
   "source": [
    "### 11.) What is the output of the following code?\n",
    "\n",
    "```python\n",
    "from datetime import datetime\n",
    "current_time = datetime(2023, 3, 31, 23, 59, 59)\n",
    "print(f'{current_time:%Y-%m-%d %H:%M:%S}')\n",
    "```\n",
    "##### a) 2023/03/31 23-59-59\n",
    "##### b) 2023:03:31 23:59:59\n",
    "##### c) 2023-03-31 23:59:59\n",
    "##### d) 2023-03-31 23-59-59"
   ]
  },
  {
   "cell_type": "markdown",
   "id": "be954d06",
   "metadata": {},
   "source": [
    "### 12.) What is the output of the following code?\n",
    "\n",
    "```python\n",
    "from datetime import datetime, date\n",
    "t1 = date(year = 1984, month = 12, day = 31)\n",
    "t2 = date(year = 2022, month = 12, day = 31)\n",
    "t3 = t2 - t1\n",
    "print(\"type of t3 =\", type(t3))\n",
    "```\n",
    "##### a) type of t3 = <class 'datetime.date'>\n",
    "##### b) type of t3 = <class 'datetime.datetime'>\n",
    "##### c) type of t3 = <class 'datetime.timedelta'> (richtig)\n",
    "##### d) type of t3 = <class 'datetime.time'>"
   ]
  },
  {
   "cell_type": "markdown",
   "id": "8e456edb",
   "metadata": {},
   "source": [
    "### 13.) What is the output of the following code?\n",
    "\n",
    "```python\n",
    "from datetime import datetime\n",
    "now = datetime(2022, 12, 31, 23, 59, 59)\n",
    "s1 = now.strftime(\"%m/%d/%Y, %H:%M:%S\")\n",
    "print(\"s1:\", s1)\n",
    "```\n",
    "##### a) s1: 2022-12-31 23:59:59\n",
    "##### b) s1: 2022/12/31 23:59:59\n",
    "##### c) s1: 12/31/2022, 23:59:59\n",
    "##### d) s1: 31/21/2022 23:59:59"
   ]
  },
  {
   "cell_type": "markdown",
   "id": "92a5af6e",
   "metadata": {},
   "source": [
    "### 14.) What is the output of the following code?\n",
    "\n",
    "```python\n",
    "a = 3000\n",
    "print(f\"{a:e}\")\n",
    "```\n",
    "##### a) 3000e+03\n",
    "##### b) 3.000000e+03\n",
    "##### c) 3.000000e+04\n",
    "##### d) 3000e+04"
   ]
  },
  {
   "cell_type": "markdown",
   "id": "06f309ca",
   "metadata": {},
   "source": [
    "### 15.) Which code line generates the output below?\n",
    "\n",
    "```python\n",
    " 1 |   1 |      1\n",
    " 2 |   4 |     32\n",
    " 3 |   9 |    243\n",
    " 4 |  16 |   1024\n",
    " 5 |  25 |   3125\n",
    " 6 |  36 |   7776\n",
    " 7 |  49 |  16807\n",
    " 8 |  64 |  32768\n",
    " 9 |  81 |  59049\n",
    "10 | 100 | 100000\n",
    "```\n",
    "##### a) for x in range(1, 10): print(f'{x:2} | {x**2:3} | {x**5:6}')\n",
    "##### b) for x in range(1, 11): print(f'{x:2} | {x**2:3} | {x**5:6}') (richtig)\n",
    "##### c) for x in range(1, 10): print(f'{x:2} {x**2:3} {x**5:6}')\n",
    "##### d) for x in range(1, 11): print(f'{x:2} {x**2:4} {x**5:8}')"
   ]
  }
 ],
 "metadata": {
  "kernelspec": {
   "display_name": "spenv",
   "language": "python",
   "name": "python3"
  },
  "language_info": {
   "codemirror_mode": {
    "name": "ipython",
    "version": 3
   },
   "file_extension": ".py",
   "mimetype": "text/x-python",
   "name": "python",
   "nbconvert_exporter": "python",
   "pygments_lexer": "ipython3",
   "version": "3.10.9"
  },
  "vscode": {
   "interpreter": {
    "hash": "e88d0147854d95637bfda66d71c1971db493e0eba7c923c8e835cc4382a02720"
   }
  }
 },
 "nbformat": 4,
 "nbformat_minor": 5
}
