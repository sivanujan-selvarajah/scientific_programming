{
 "cells": [
  {
   "attachments": {},
   "cell_type": "markdown",
   "metadata": {},
   "source": [
    "# Input and Output in Python"
   ]
  },
  {
   "attachments": {},
   "cell_type": "markdown",
   "metadata": {},
   "source": [
    "## Libraries and settings"
   ]
  },
  {
   "cell_type": "code",
   "execution_count": null,
   "metadata": {},
   "outputs": [],
   "source": [
    "# Libraries\n",
    "import os\n",
    "import re\n",
    "import json\n",
    "import folium\n",
    "import sqlite3\n",
    "import requests\n",
    "import pyautogui\n",
    "import pandas as pd\n",
    "import matplotlib.pyplot as plt\n",
    "\n",
    "from zipfile import ZipFile\n",
    "from bs4 import BeautifulSoup\n",
    "\n",
    "from PyPDF2 import PdfReader\n",
    "\n",
    "from reportlab.lib.units import inch\n",
    "from reportlab.lib.colors import blue\n",
    "from reportlab.lib.pagesizes import LETTER\n",
    "from reportlab.pdfgen.canvas import Canvas\n",
    "\n",
    "# Ignore warnings\n",
    "import warnings\n",
    "warnings.filterwarnings('ignore')\n",
    "\n",
    "# Show current working directory\n",
    "print(os.getcwd())"
   ]
  },
  {
   "attachments": {},
   "cell_type": "markdown",
   "metadata": {},
   "source": [
    "## Read & write data from/to a database\n",
    "Most data driven companies store their data in database management system. <b style=\"color:yellowgreen\">SQLite</b> is a lightweight relational database management system (RDBMS). With python you can connect to a SQLite DB and make requests using SQL."
   ]
  },
  {
   "cell_type": "markdown",
   "metadata": {},
   "source": [
    "### Write data to a database"
   ]
  },
  {
   "cell_type": "code",
   "execution_count": null,
   "metadata": {},
   "outputs": [],
   "source": [
    "# Create e new db\n",
    "conn = sqlite3.connect('data/example_sqlite.db')\n",
    "\n",
    "# Close connection to db\n",
    "conn.close()"
   ]
  },
  {
   "cell_type": "code",
   "execution_count": null,
   "metadata": {},
   "outputs": [],
   "source": [
    "# Open connection to db\n",
    "conn = sqlite3.connect('data/example_sqlite.db')\n",
    "\n",
    "# Define variables and data types for the (empty) table\n",
    "conn.execute('''CREATE TABLE IF NOT EXISTS COMPANY\n",
    "             (ID INT PRIMARY KEY     NOT NULL,\n",
    "             NAME           TEXT    NOT NULL,\n",
    "             AGE            INT     NOT NULL,\n",
    "             CITY        CHAR(50),\n",
    "             SALARY         REAL);''')\n",
    "\n",
    "# Read data from a file and write to data frame\n",
    "data = pd.read_excel(\"data/db_data.xlsx\", sheet_name = \"Sheet1\")\n",
    "print(data)\n",
    "\n",
    "# Write data to the data base table named 'COMPANY'\n",
    "data.to_sql('COMPANY', conn, if_exists='replace')\n",
    "\n",
    "# Commit the changes to the table\n",
    "conn.commit()\n",
    "\n",
    "# Close connection to db\n",
    "conn.close()"
   ]
  },
  {
   "attachments": {},
   "cell_type": "markdown",
   "metadata": {},
   "source": [
    "### Query the database using SQL and write result to a pandas data frame"
   ]
  },
  {
   "cell_type": "code",
   "execution_count": null,
   "metadata": {},
   "outputs": [],
   "source": [
    "# Connection to db\n",
    "conn = sqlite3.connect(\"data/example_sqlite.db\")\n",
    "\n",
    "# Read data\n",
    "df_sub = pd.read_sql('''SELECT * \n",
    "                        FROM COMPANY \n",
    "                        WHERE AGE <= 26''', \n",
    "                     con=conn,\n",
    "                     index_col=['index'])\n",
    "print(df_sub)\n",
    "    \n",
    "# Close connection to db\n",
    "conn.close()"
   ]
  },
  {
   "cell_type": "markdown",
   "metadata": {},
   "source": [
    "## Read & write data from/to files"
   ]
  },
  {
   "cell_type": "markdown",
   "metadata": {},
   "source": [
    "### Common data/file formats"
   ]
  },
  {
   "cell_type": "markdown",
   "metadata": {},
   "source": [
    "Data formats in information technology may refer to:\n",
    "\n",
    "- Data type, constraint placed upon the interpretation of data in a type system\n",
    "- Signal (electrical engineering), a format for signal data used in signal processing\n",
    "- Recording format, a format for encoding data for storage on a storage medium\n",
    "- <b style=\"color:yellowgreen\">File format, a format for encoding data for storage in a computer file</b>\n",
    "- Container format (digital), a format for encoding data for storage by means of a standardized audio/video codecs file format\n",
    "- Content format, a format for representing media content as data\n",
    "- Audio format, a format for encoded sound data\n",
    "- Video format, a format for encoded video data\n",
    "\n",
    "Wikipedia: https://en.wikipedia.org/wiki/Data_format\n",
    "\n",
    "This section provides common <b style=\"color:yellowgreen\">file formats</b> a data scientist or a data engineer must be aware of. Later, we’ll see how to read these file formats in Python.\n",
    "\n",
    "List with common file formats explained in this notebook:\n",
    "- CSV\n",
    "- TXT\n",
    "- JSON\n",
    "- XML\n",
    "- HTML\n",
    "- ZIP\n",
    "- XLSX\n",
    "- PDF\n",
    "- Image files (e.g. JPEG)"
   ]
  },
  {
   "attachments": {},
   "cell_type": "markdown",
   "metadata": {},
   "source": [
    "### CSV (comma separated value)\n",
    "\n",
    "- A comma-separated values (CSV) file is a delimited text file.\n",
    "- Each line of the file is a data record.\n",
    "- Each record consists of one or more fields, separated by a separator (default = comma).\n",
    "- The use of the comma as a field separator is the source of the name for this file format.\n",
    "- The seperator can also be user-defined, e.g. you can also use a semicolon instead of a comma.\n",
    "- A CSV file typically stores tabular data (numbers and text)."
   ]
  },
  {
   "cell_type": "code",
   "execution_count": null,
   "metadata": {},
   "outputs": [],
   "source": [
    "# Read data from .csv-file using pandas (here the separator is a semicolon)\n",
    "data = pd.read_csv(\"data/example.csv\", sep=\";\")\n",
    "\n",
    "# Print the header info of data (first five rows)\n",
    "print(data.head(5))\n",
    "\n",
    "# Write data to csv\n",
    "data.to_csv(\"data/example_write.csv\", sep=\";\")"
   ]
  },
  {
   "cell_type": "markdown",
   "metadata": {},
   "source": [
    "### TXT (plain text)\n",
    "\n",
    "- In Plain Text file format, everything is written in plain text\n",
    "- Usually, this text is in unstructured form and there is no meta-data associated with it\n",
    "- The TXT file format can easily be read by any program"
   ]
  },
  {
   "cell_type": "code",
   "execution_count": null,
   "metadata": {},
   "outputs": [],
   "source": [
    "# Open a connection to the text-file\n",
    "text_file = open(\"data/example.txt\", \n",
    "                 \"r\", \n",
    "                 encoding='utf-8')\n",
    "\n",
    "# Read data from .txt file\n",
    "lines = text_file.read()\n",
    "\n",
    "# Show type\n",
    "print(type(lines))\n",
    "\n",
    "# Print the data\n",
    "print(lines)"
   ]
  },
  {
   "cell_type": "code",
   "execution_count": null,
   "metadata": {},
   "outputs": [],
   "source": [
    "# Write data to a .txt file\n",
    "lines = ['Dorothy lived in the midst of the great Kansas prairies', \n",
    "         'with Uncle Henry, who was a farmer ...']\n",
    "\n",
    "with open('data/example_write.txt', 'w') as f:\n",
    "    f.writelines(lines)\n",
    "    \n",
    "# Check whether file exists\n",
    "files = [f for f in os.listdir('.') if re.match('data/example_write.txt', f)]\n",
    "print(files)"
   ]
  },
  {
   "cell_type": "markdown",
   "metadata": {},
   "source": [
    "### JSON (JavaScript Object Notation)\n",
    "\n",
    "- JSON is a syntax for storing and exchanging data\n",
    "- JSON is text, written with JavaScript object notation"
   ]
  },
  {
   "cell_type": "code",
   "execution_count": null,
   "metadata": {},
   "outputs": [],
   "source": [
    "# Read data\n",
    "with open('data/example.json', 'r') as f:\n",
    "    data = json.load(f)\n",
    "print(data)\n",
    "\n",
    "# Read data to a data frame using the pandas library\n",
    "data = pd.read_json(\"data/example.json\")\n",
    "\n",
    "# Print the data\n",
    "print('\\n',data)"
   ]
  },
  {
   "cell_type": "code",
   "execution_count": null,
   "metadata": {},
   "outputs": [],
   "source": [
    "# Write data to .json \n",
    "data.to_json('data/example_write.json')\n",
    "\n",
    "# Check whether the file exists\n",
    "files = [f for f in os.listdir('.') if re.match('data/example_write.json', f)]\n",
    "print(files)"
   ]
  },
  {
   "cell_type": "markdown",
   "metadata": {},
   "source": [
    "### XML (extensible markup language)\n",
    "\n",
    "- XML stands for extensible Markup Language\n",
    "- XML is a markup language much like HTML\n",
    "- XML was designed to store and transport data\n",
    "- XML was designed to be self-descriptive\n",
    "- XML is a W3C Recommendation"
   ]
  },
  {
   "cell_type": "code",
   "execution_count": null,
   "metadata": {},
   "outputs": [],
   "source": [
    "# First option: reading the xml file with BeautifulSoup\n",
    "bs = BeautifulSoup(open('data/example.xml'), 'html.parser')\n",
    "print(bs.prettify())\n",
    "\n",
    "# Write data to xml with BeautifulSoup\n",
    "f = open('data/example_write.xml', \"w\")\n",
    "f.write(bs.prettify())\n",
    "f.close()"
   ]
  },
  {
   "cell_type": "code",
   "execution_count": null,
   "metadata": {},
   "outputs": [],
   "source": [
    "# Second option: reading the xml file using .read_xml() from pandas\n",
    "data = pd.read_xml(\"data/example.xml\")\n",
    "\n",
    "# Write data to .xml\n",
    "data.to_xml('data/example_write.xml')\n",
    "\n",
    "# Check whether file exists\n",
    "files = [f for f in os.listdir('.') if re.match('data/example_write.xml', f)]\n",
    "print('\\n', data[['name', 'price', 'calories']])"
   ]
  },
  {
   "cell_type": "markdown",
   "metadata": {},
   "source": [
    "### HTML (hyper text markup language)\n",
    "\n",
    "- HTML stands for Hyper Text Markup Language\n",
    "- HTML is the standard markup language for creating Web pages\n",
    "- HTML describes the structure of a Web page\n",
    "- HTML consists of a series of elements\n",
    "- HTML elements tell the browser how to display the content\n",
    "- HTML elements label pieces of content such as \"this is a heading\", \"this is a paragraph\", \"this is a link\", etc."
   ]
  },
  {
   "cell_type": "code",
   "execution_count": null,
   "metadata": {},
   "outputs": [],
   "source": [
    "# Read data from .html\n",
    "filename = 'data/example.html'\n",
    "html = open(filename, \"r\").read()\n",
    "print(html)"
   ]
  },
  {
   "cell_type": "code",
   "execution_count": null,
   "metadata": {},
   "outputs": [],
   "source": [
    "# Write data to .html (taking the html-file from above)\n",
    "with open('data/example_write.html', 'w') as f:\n",
    "    f.writelines(html)\n",
    "    \n",
    "# Check whether file exists\n",
    "files = [f for f in os.listdir('.') if re.match('data/example_write.html', f)]\n",
    "print(files)"
   ]
  },
  {
   "cell_type": "markdown",
   "metadata": {},
   "source": [
    "### ZIP (archive file format)\n",
    "\n",
    "- ZIP is an archive file format that supports lossless data compression\n",
    "- A ZIP file may contain one or more files or directories that may have been compressed\n",
    "- The ZIP file format permits a number of compression algorithms, though DEFLATE is the most common\n",
    "- The name \"zip\" (meaning \"move at high speed\") was suggested by R. Mahoney\n",
    "- They wanted to imply that their product would be faster than ARC and other compression formats of the time"
   ]
  },
  {
   "cell_type": "code",
   "execution_count": null,
   "metadata": {},
   "outputs": [],
   "source": [
    "# Pandas supports zip file reads\n",
    "data = pd.read_csv(\"data/archive.zip\", sep=\";\")\n",
    "data.head(5)"
   ]
  },
  {
   "cell_type": "code",
   "execution_count": null,
   "metadata": {},
   "outputs": [],
   "source": [
    "# Create an empty Zip-archive\n",
    "zipObj = ZipFile('data/example_write.zip', 'w')\n",
    "\n",
    "# Add selected files to the zip archive\n",
    "zipObj.write('data/example.csv')\n",
    "zipObj.write('data/example.html')\n",
    "zipObj.write('data/example.json')\n",
    "\n",
    "# Close the Zip-archive\n",
    "zipObj.close()\n",
    "\n",
    "# Check whether zip-file exists\n",
    "files = [f for f in os.listdir('.') if re.match('data/example_write.zip', f)]\n",
    "print(files)"
   ]
  },
  {
   "cell_type": "markdown",
   "metadata": {},
   "source": [
    "### XLSX (Microsoft Excel Open XML file format)\n",
    "\n",
    "- It is an XML-based file format created by Microsoft Excel \n",
    "- The XLSX format was introduced with Microsoft Office 2007\n",
    "- In XLSX data is organized under the cells and columns in a sheet\n",
    "- Each XLSX file may contain one or more sheets\n",
    "- A single workbook can contain multiple sheets"
   ]
  },
  {
   "cell_type": "code",
   "execution_count": null,
   "metadata": {},
   "outputs": [],
   "source": [
    "# Read data from an example .xlsx-file\n",
    "data = pd.read_excel(\"data/example.xlsx\", sheet_name = \"sheet1\")\n",
    "\n",
    "# Print the data \n",
    "data.head(5)"
   ]
  },
  {
   "cell_type": "code",
   "execution_count": null,
   "metadata": {},
   "outputs": [],
   "source": [
    "# Write data to xlsx\n",
    "data.to_excel('data/example_write.xlsx', sheet_name = \"sheet1\")\n",
    "\n",
    "# Check whether file exists\n",
    "files = [f for f in os.listdir('.') if re.match('data/example_write.xlsx', f)]\n",
    "print(files)"
   ]
  },
  {
   "cell_type": "markdown",
   "metadata": {},
   "source": [
    "### PDF (portable document format)\n",
    "\n",
    "- PDF is a file format developed by Adobe in the 1990s to present documents, including text formatting and images, in a manner independent of application software, hardware, and operating systems\n",
    "- Based on the PostScript language, each PDF file encapsulates a complete description of a fixed-layout flat document, including the text, fonts, vector graphics, raster images and other information needed to display it"
   ]
  },
  {
   "cell_type": "code",
   "execution_count": null,
   "metadata": {},
   "outputs": [],
   "source": [
    "# Reading metadata\n",
    "reader = PdfReader(\"data/example.pdf\")\n",
    "meta = reader.metadata\n",
    "print(len(reader.pages))\n",
    "\n",
    "# All of the following could be None!\n",
    "print(meta.author)\n",
    "print(meta.creator)\n",
    "print(meta.producer)\n",
    "print(meta.subject)\n",
    "\n",
    "# Extract text\n",
    "page = reader.pages[0]\n",
    "print('\\n')\n",
    "print(page.extract_text())\n",
    "\n",
    "# Number of pages\n",
    "print('\\n')\n",
    "print(f'Number of pages in PDF: {len(reader.pages)}')\n"
   ]
  },
  {
   "cell_type": "code",
   "execution_count": null,
   "metadata": {},
   "outputs": [],
   "source": [
    "# Create a canvas\n",
    "canvas = Canvas(\"data/example_write.pdf\", pagesize = LETTER)\n",
    "\n",
    "# Set font to Times New Roman with 36-point size\n",
    "canvas.setFont(\"Times-Roman\", 36)\n",
    "\n",
    "# Draw blue text one inch from the left and ten inches from the bottom\n",
    "canvas.setFillColor(blue)\n",
    "canvas.drawString(1 * inch, 10 * inch, \"This is a PDF file ...\")\n",
    "\n",
    "# Save the PDF file\n",
    "canvas.save()\n",
    "\n",
    "# Check whether file exists\n",
    "files = [f for f in os.listdir('.') if re.match('data/example_write.pdf', f)]\n",
    "print(files)"
   ]
  },
  {
   "cell_type": "markdown",
   "metadata": {},
   "source": [
    "### Image file formats\n",
    "\n",
    "- Image files consists of pixels and meta-data associated with it\n",
    "- Usual image files are 3-dimensional, having RGB values\n",
    "- Image files can also be 2-dimensional (grayscale) or 4-dimensional (having intensity)\n",
    "- Each image consists one or more frames of pixels\n",
    "- Each frame is made up of two-dimensional array of pixel values\n",
    "- Pixel values can be of any intensity \n",
    "- Meta-data associated with an image, can be an image type (.png) or pixel dimensions\n",
    "- The different formats (JPEG, PNG, TIFF, GIF, ...) are used to organize and store digital images in a different way"
   ]
  },
  {
   "cell_type": "code",
   "execution_count": null,
   "metadata": {},
   "outputs": [],
   "source": [
    "# Read image\n",
    "image = plt.imread('data/example.jpeg')\n",
    "\n",
    "# Plot image\n",
    "plt.figure(figsize=(6,4))\n",
    "plt.imshow(image)"
   ]
  },
  {
   "cell_type": "code",
   "execution_count": null,
   "metadata": {},
   "outputs": [],
   "source": [
    "# Take a screenshot of your computer\n",
    "pic = pyautogui.screenshot()\n",
    "\n",
    "# Save the screenshot\n",
    "pic.save('data/example_write.jpeg')\n",
    "\n",
    "# Read the image\n",
    "image = plt.imread('data/example_write.jpeg')\n",
    "\n",
    "# Plot the image\n",
    "plt.figure(figsize=(6,4))\n",
    "plt.imshow(image)"
   ]
  },
  {
   "cell_type": "markdown",
   "metadata": {},
   "source": [
    "### Spatial data"
   ]
  },
  {
   "attachments": {},
   "cell_type": "markdown",
   "metadata": {},
   "source": [
    "#### Polygon map of municipalities in the canton of Zürich"
   ]
  },
  {
   "cell_type": "code",
   "execution_count": null,
   "metadata": {},
   "outputs": [],
   "source": [
    "# Read spatial data\n",
    "polys = 'data/GEN_A4_GEMEINDEN_2019_epsg4326.json'\n",
    "\n",
    "# Initialisierung der Map\n",
    "m = folium.Map(location=[47.44, 8.65], zoom_start=10)\n",
    "\n",
    "# Map settings\n",
    "folium.Choropleth(\n",
    "    geo_data=polys,\n",
    "    name='polys',\n",
    "    fill_color='greenyellow'\n",
    ").add_to(m)\n",
    "\n",
    "folium.LayerControl().add_to(m)\n",
    "\n",
    "# Plot map\n",
    "m"
   ]
  },
  {
   "attachments": {},
   "cell_type": "markdown",
   "metadata": {},
   "source": [
    "#### Overpass turbo query to get all available restaurants in a defined city"
   ]
  },
  {
   "cell_type": "code",
   "execution_count": null,
   "metadata": {},
   "outputs": [],
   "source": [
    "# Overpass API URL\n",
    "url = 'http://overpass-api.de/api/interpreter'\n",
    "\n",
    "# Overpass turbo query\n",
    "query = f\"\"\"\n",
    "        [out:json];\n",
    "        area[name=\"Winterthur\"];\n",
    "        node[\"amenity\"=\"restaurant\"](area);\n",
    "        out;\"\"\"\n",
    "\n",
    "# Web API request\n",
    "r = requests.get(url, params={'data': query})\n",
    "data = r.json()['elements']\n",
    "\n",
    "# Save data to file\n",
    "with open('data/restaurants.json', 'w') as json_file:\n",
    "    json.dump(data, json_file)\n",
    "\n",
    "# Store data in data frame\n",
    "df = pd.json_normalize(data)\n",
    "df.head()"
   ]
  },
  {
   "attachments": {},
   "cell_type": "markdown",
   "metadata": {},
   "source": [
    "#### Plot restaurants on map"
   ]
  },
  {
   "cell_type": "code",
   "execution_count": null,
   "metadata": {},
   "outputs": [],
   "source": [
    "# Subset of gas stations by brand\n",
    "locations = df[[\"lat\", \"lon\", \"tags.name\"]]\n",
    "print(locations.head(5))\n",
    "\n",
    "# Create map\n",
    "map = folium.Map(location=[locations.lat.mean(), \n",
    "                           locations.lon.mean()], \n",
    "                 zoom_start=14, \n",
    "                 control_scale=True)\n",
    "\n",
    "# Add maker symbols\n",
    "for index, location_info in locations.iterrows():\n",
    "    folium.Marker([location_info[\"lat\"], \n",
    "                   location_info[\"lon\"]], \n",
    "                  popup=location_info[\"tags.name\"]).add_to(map)\n",
    "\n",
    "# Plot map\n",
    "map"
   ]
  },
  {
   "attachments": {},
   "cell_type": "markdown",
   "metadata": {},
   "source": [
    "### Jupyter notebook --footer info-- (please always provide this at the end of each notebook)"
   ]
  },
  {
   "cell_type": "code",
   "execution_count": null,
   "metadata": {},
   "outputs": [],
   "source": [
    "import os\n",
    "import platform\n",
    "import socket\n",
    "from platform import python_version\n",
    "from datetime import datetime\n",
    "\n",
    "print('-----------------------------------')\n",
    "print(os.name.upper())\n",
    "print(platform.system(), '|', platform.release())\n",
    "print('Datetime:', datetime.now().strftime(\"%Y-%m-%d %H:%M:%S\"))\n",
    "print('Python Version:', python_version())\n",
    "print('-----------------------------------')"
   ]
  }
 ],
 "metadata": {
  "kernelspec": {
   "display_name": "spenv",
   "language": "python",
   "name": "python3"
  },
  "language_info": {
   "codemirror_mode": {
    "name": "ipython",
    "version": 3
   },
   "file_extension": ".py",
   "mimetype": "text/x-python",
   "name": "python",
   "nbconvert_exporter": "python",
   "pygments_lexer": "ipython3",
   "version": "3.10.13"
  },
  "toc": {
   "base_numbering": 1,
   "nav_menu": {},
   "number_sections": true,
   "sideBar": true,
   "skip_h1_title": false,
   "title_cell": "Table of Contents",
   "title_sidebar": "Contents",
   "toc_cell": false,
   "toc_position": {},
   "toc_section_display": true,
   "toc_window_display": true
  },
  "vscode": {
   "interpreter": {
    "hash": "e88d0147854d95637bfda66d71c1971db493e0eba7c923c8e835cc4382a02720"
   }
  }
 },
 "nbformat": 4,
 "nbformat_minor": 4
}
