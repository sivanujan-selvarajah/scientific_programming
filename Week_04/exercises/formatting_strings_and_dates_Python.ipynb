{
 "cells": [
  {
   "attachments": {},
   "cell_type": "markdown",
   "metadata": {},
   "source": [
    "# Formatting of Strings & Dates in Python"
   ]
  },
  {
   "attachments": {},
   "cell_type": "markdown",
   "metadata": {},
   "source": [
    "## Libraries and settings"
   ]
  },
  {
   "cell_type": "code",
   "execution_count": 1,
   "metadata": {},
   "outputs": [
    {
     "name": "stdout",
     "output_type": "stream",
     "text": [
      "/Users/sivanujanselvarajah/Documents/zhaw/4.Semester/Scientific programming/scientific_programming/Week_04/exercises\n"
     ]
    }
   ],
   "source": [
    "# Libraries\n",
    "import os\n",
    "import pytz\n",
    "from datetime import date\n",
    "from datetime import time\n",
    "from datetime import datetime\n",
    "\n",
    "# Ignore warnings\n",
    "import warnings\n",
    "warnings.filterwarnings('ignore')\n",
    "\n",
    "# Show current working directory\n",
    "print(os.getcwd())"
   ]
  },
  {
   "attachments": {},
   "cell_type": "markdown",
   "metadata": {},
   "source": [
    "## String formatting in Python"
   ]
  },
  {
   "attachments": {},
   "cell_type": "markdown",
   "metadata": {},
   "source": [
    "### %-formatting"
   ]
  },
  {
   "cell_type": "code",
   "execution_count": 5,
   "metadata": {},
   "outputs": [
    {
     "name": "stdout",
     "output_type": "stream",
     "text": [
      "Hello, Dwayne.\n",
      "Hello, Dwayne. You are 50 years old.\n",
      "Dwayne and Lauren are married and have two children.\n",
      "Dwayne and Lauren are married and have two children.\n",
      "Hello, Dwayne Johnson. You are 50 years old. You are an actor and former professional wrestler. You live in Hayward, California.\n"
     ]
    }
   ],
   "source": [
    "# Example (1):\n",
    "name = \"Dwayne\"\n",
    "print(\"Hello, %s.\" % name)\n",
    "\n",
    "# Example (2):\n",
    "name = \"Dwayne\"\n",
    "age = 50\n",
    "print(\"Hello, %s. You are %s years old.\" % (name, age))\n",
    "\n",
    "# Example (3):\n",
    "s1 = \"Dwayne\"\n",
    "s2 = \"Lauren\"\n",
    "s3 = \"%s and %s are married and have two children.\" % (s1, s2)\n",
    "s4 = \"{} and {} are married and have two children.\".format(s1, s2)\n",
    "print(s3)\n",
    "print(s4)\n",
    "\n",
    "# Example (4):\n",
    "first_name = \"Dwayne\"\n",
    "last_name = \"Johnson\"\n",
    "age = 50\n",
    "profession = \"actor and former professional wrestler\"\n",
    "address = \"Hayward, California\"\n",
    "print(\"Hello, %s %s. You are %s years old. You are an %s. You live in %s.\" %\n",
    "      (first_name, last_name, age, profession, address))"
   ]
  },
  {
   "attachments": {},
   "cell_type": "markdown",
   "metadata": {},
   "source": [
    "### str.format()"
   ]
  },
  {
   "cell_type": "code",
   "execution_count": 6,
   "metadata": {},
   "outputs": [
    {
     "name": "stdout",
     "output_type": "stream",
     "text": [
      "Hello, Dwayne. You are 50 years old.\n",
      "Hello, Dwayne. You are 50 years old.\n",
      "Hello, Dwayne. You are 50 years old.\n",
      "Hello, Dwayne. You are 50 years old.\n",
      "Hello, Dwayne Johnson. You are 50 years old. You are an actor and former professional wrestler. You live in Hayward, California.\n"
     ]
    }
   ],
   "source": [
    "# Example (1):\n",
    "name = 'Dwayne'\n",
    "age = 50\n",
    "print(\"Hello, {}. You are {} years old.\".format(name, age))\n",
    "\n",
    "# Example (2):\n",
    "print(\"Hello, {1}. You are {0} years old.\".format(age, name))\n",
    "\n",
    "# Example (3):\n",
    "person = {'name': 'Dwayne', 'age': age}\n",
    "print(\"Hello, {name}. You are {age} years old.\".format(\n",
    "    name=person['name'], age=person['age']))\n",
    "\n",
    "# Example (4):\n",
    "person = {'name': 'Dwayne', 'age': age}\n",
    "print(\"Hello, {name}. You are {age} years old.\".format(**person))\n",
    "\n",
    "# Example (5):\n",
    "first_name = \"Dwayne\"\n",
    "last_name = \"Johnson\"\n",
    "profession = \"actor and former professional wrestler\"\n",
    "address = \"Hayward, California\"\n",
    "print((\"Hello, {first_name} {last_name}. You are {age} years old. \" +\n",
    "       \"You are an {profession}. You live in {address}.\")\n",
    "      .format(first_name=first_name, last_name=last_name, age=age,\n",
    "              profession=profession, address=address))"
   ]
  },
  {
   "cell_type": "markdown",
   "metadata": {},
   "source": [
    "#### In order to print the format use the syntax: print(\"{:.2f}\".format(3.1415926))"
   ]
  },
  {
   "cell_type": "markdown",
   "metadata": {},
   "source": [
    "<table class=\"wp-block-table code\" align=\"left\">\n",
    "    <tbody>\n",
    "        <tr>\n",
    "            <th width=\"16%\">Number</th>\n",
    "            <th width=\"16%\">Format</th>\n",
    "            <th width=\"16%\">Output</th>\n",
    "            <th>Description</th>\n",
    "        </tr>\n",
    "        <tr>\n",
    "            <td>3.1415926</td>\n",
    "            <td>{:.2f}</td>\n",
    "            <td>3.14</td>\n",
    "            <td>Format float 2 decimal places</td>\n",
    "        </tr>\n",
    "        <tr>\n",
    "            <td>3.1415926</td>\n",
    "            <td>{:+.2f}</td>\n",
    "            <td>+3.14</td>\n",
    "            <td>Format float 2 decimal places with sign</td>\n",
    "        </tr>\n",
    "        <tr>\n",
    "            <td>-1</td>\n",
    "            <td>{:+.2f}</td>\n",
    "            <td>-1.00</td>\n",
    "            <td>Format float 2 decimal places with sign</td>\n",
    "        </tr>\n",
    "        <tr>\n",
    "            <td>2.71828</td>\n",
    "            <td>{:.0f}</td>\n",
    "            <td>3</td>\n",
    "            <td>Format float with no decimal places</td>\n",
    "        </tr>\n",
    "        <tr>\n",
    "            <td>5</td>\n",
    "            <td>{:0&gt;2d}</td>\n",
    "            <td>05</td>\n",
    "            <td>Pad number with zeros (left padding, width 2)</td>\n",
    "        </tr>\n",
    "        <tr>\n",
    "            <td>5</td>\n",
    "            <td>{:x&lt;4d}</td>\n",
    "            <td>5xxx</td>\n",
    "            <td>Pad number with x’s (right padding, width 4)</td>\n",
    "        </tr>\n",
    "        <tr>\n",
    "            <td>10</td>\n",
    "            <td>{:x&lt;4d}</td>\n",
    "            <td>10xx</td>\n",
    "            <td>Pad number with x’s (right padding, width 4)</td>\n",
    "        </tr>\n",
    "        <tr>\n",
    "            <td>1000000</td>\n",
    "            <td>{:,}</td>\n",
    "            <td>1,000,000</td>\n",
    "            <td>Number format with comma separator</td>\n",
    "        </tr>\n",
    "        <tr>\n",
    "            <td>0.25</td>\n",
    "            <td>{:.2%}</td>\n",
    "            <td>25.00%</td>\n",
    "            <td>Format percentage</td>\n",
    "        </tr>\n",
    "        <tr>\n",
    "            <td>1000000000</td>\n",
    "            <td>{:.2e}</td>\n",
    "            <td>1.00e+09</td>\n",
    "            <td>Exponent notation</td>\n",
    "        </tr>\n",
    "        <tr>\n",
    "            <td>13</td>\n",
    "            <td>{:10d}</td>\n",
    "            <td>&nbsp;&nbsp;&nbsp;&nbsp;&nbsp;&nbsp;&nbsp;&nbsp;13</td>\n",
    "            <td>Right aligned (default, width 10)</td>\n",
    "        </tr>\n",
    "        <tr>\n",
    "            <td>13</td>\n",
    "            <td>{:&lt;10d}</td>\n",
    "            <td>13</td>\n",
    "            <td>Left aligned (width 10)</td>\n",
    "        </tr>\n",
    "        <tr>\n",
    "            <td>13</td>\n",
    "            <td>{:^10d}</td>\n",
    "            <td>&nbsp;&nbsp;&nbsp;&nbsp;13</td>\n",
    "            <td>Center aligned (width 10)</td>\n",
    "        </tr>\n",
    "    </tbody>\n",
    "</table>"
   ]
  },
  {
   "cell_type": "code",
   "execution_count": 7,
   "metadata": {},
   "outputs": [
    {
     "name": "stdout",
     "output_type": "stream",
     "text": [
      "3.14\n",
      "25.00%\n",
      "00000042\n",
      "1,000,000,000\n",
      "1.00e+09\n"
     ]
    }
   ],
   "source": [
    "# Examples of number formatting with str.format()\n",
    "print(\"{:.2f}\".format(3.1415926))\n",
    "\n",
    "print(\"{:.2%}\".format(0.25))\n",
    "\n",
    "print(\"{:0>8d}\".format(42))\n",
    "\n",
    "print(\"{:,}\".format(1000000000))\n",
    "\n",
    "print(\"{:.2e}\".format(1000000000))"
   ]
  },
  {
   "attachments": {},
   "cell_type": "markdown",
   "metadata": {},
   "source": [
    "### f-strings"
   ]
  },
  {
   "cell_type": "code",
   "execution_count": 8,
   "metadata": {},
   "outputs": [
    {
     "name": "stdout",
     "output_type": "stream",
     "text": [
      "Hello, Dwayne. You are 50.\n",
      "Hello, Dwayne. You are 50.\n",
      "On May 2, 2023 Dwayne will be 51 years old.\n",
      "dwayne is 6ft 5in (196 cm) height.\n",
      "Hi Dwayne. You are an actor and former professional wrestler. You live in Hayward, California.\n"
     ]
    }
   ],
   "source": [
    "# Example (1):\n",
    "name = \"Dwayne\"\n",
    "age = 50\n",
    "print(f\"Hello, {name}. You are {age}.\")\n",
    "\n",
    "# Example (2):\n",
    "print(F\"Hello, {name}. You are {age}.\")\n",
    "\n",
    "# Example (3):\n",
    "print(f\"On May 2, 2023 {name} will be {2023 - 1972} years old.\")\n",
    "\n",
    "# Example (4):\n",
    "print(f\"{name.lower()} is 6ft 5in (196 cm) height.\")\n",
    "\n",
    "# Example 4:\n",
    "name = \"Dwayne\"\n",
    "profession = \"actor and former professional wrestler\"\n",
    "address = \"Hayward, California\"\n",
    "message = (f\"Hi {name}. \"\n",
    "           f\"You are an {profession}. \"\n",
    "           f\"You live in {address}.\")\n",
    "print(message)"
   ]
  },
  {
   "cell_type": "markdown",
   "metadata": {},
   "source": [
    "#### Floating point values have the f suffix. We can also specify the precision: the number of decimal places. The precision is a value that goes right after the dot character."
   ]
  },
  {
   "cell_type": "code",
   "execution_count": 9,
   "metadata": {},
   "outputs": [
    {
     "name": "stdout",
     "output_type": "stream",
     "text": [
      "3.141592653589793\n",
      "3\n",
      "3.14159265\n",
      "31415.93\n"
     ]
    }
   ],
   "source": [
    "# Format floats\n",
    "pi = 3.1415926535897932384626433832795028841971693993751058209749445923078164062\n",
    "\n",
    "# No specified format\n",
    "print(f'{pi}')\n",
    "\n",
    "# Zero decimal places\n",
    "print(f'{pi:.0f}')\n",
    "\n",
    "# Eight decimal places\n",
    "print(f'{pi:.8f}')\n",
    "\n",
    "# Two decimal places\n",
    "print(f'{pi*10000:.2f}')"
   ]
  },
  {
   "cell_type": "markdown",
   "metadata": {},
   "source": [
    "#### The width specifier sets the width of the value. The value may be filled with spaces or other characters if the value is shorter than the specified width."
   ]
  },
  {
   "cell_type": "code",
   "execution_count": 5,
   "metadata": {},
   "outputs": [
    {
     "name": "stdout",
     "output_type": "stream",
     "text": [
      " 1 |   1 |      1\n",
      " 2 |   4 |     32\n",
      " 3 |   9 |    243\n",
      " 4 |  16 |   1024\n",
      " 5 |  25 |   3125\n",
      " 6 |  36 |   7776\n",
      " 7 |  49 |  16807\n",
      " 8 |  64 |  32768\n",
      " 9 |  81 |  59049\n",
      "10 | 100 | 100000\n",
      "\n",
      "\n",
      " 1.00 |   1.00 |      1.00\n",
      " 2.00 |   4.00 |     32.00\n",
      " 3.00 |   9.00 |    243.00\n",
      " 4.00 |  16.00 |   1024.00\n",
      " 5.00 |  25.00 |   3125.00\n",
      " 6.00 |  36.00 |   7776.00\n",
      " 7.00 |  49.00 |  16807.00\n",
      " 8.00 |  64.00 |  32768.00\n",
      " 9.00 |  81.00 |  59049.00\n",
      "10.00 | 100.00 | 100000.00\n"
     ]
    }
   ],
   "source": [
    "# Format width\n",
    "for x in range(1, 11):\n",
    "    print(f'{x:2} | {x**2:3} | {x**5:6}')\n",
    "    \n",
    "# Format width and with and decimals\n",
    "print('\\n')\n",
    "for x in range(1, 11):\n",
    "    print(f'{x:5.2f} | {x**2:6.2f} | {x**5:9.2f}')"
   ]
  },
  {
   "cell_type": "markdown",
   "metadata": {},
   "source": [
    "#### By default, the strings are justified to the left. We can use the > character to justify the strings to the right. The > character follows the colon character."
   ]
  },
  {
   "cell_type": "code",
   "execution_count": 11,
   "metadata": {},
   "outputs": [
    {
     "name": "stdout",
     "output_type": "stream",
     "text": [
      "       123\n",
      "      1234\n",
      "     12345\n",
      "    123456\n"
     ]
    }
   ],
   "source": [
    "# Justify string\n",
    "s1 = '123'\n",
    "s2 = '1234'\n",
    "s3 = '12345'\n",
    "s4 = '123456'\n",
    "\n",
    "print(f'{s1:>10}')\n",
    "print(f'{s2:>10}')\n",
    "print(f'{s3:>10}')\n",
    "print(f'{s4:>10}')"
   ]
  },
  {
   "cell_type": "markdown",
   "metadata": {},
   "source": [
    "#### The example displays a formatted current datetime. The datetime format specifiers follow the : character."
   ]
  },
  {
   "cell_type": "code",
   "execution_count": 6,
   "metadata": {},
   "outputs": [
    {
     "name": "stdout",
     "output_type": "stream",
     "text": [
      "2024-06-01 19:24:59\n"
     ]
    }
   ],
   "source": [
    "# Format_datetime\n",
    "now = datetime.now()\n",
    "print(f'{now:%Y-%m-%d %H:%M:%S}')"
   ]
  },
  {
   "cell_type": "markdown",
   "metadata": {},
   "source": [
    "#### Numbers can have various numeric notations, such as decadic or hexadecimal."
   ]
  },
  {
   "cell_type": "code",
   "execution_count": 7,
   "metadata": {},
   "outputs": [
    {
     "name": "stdout",
     "output_type": "stream",
     "text": [
      "12c\n",
      "454\n",
      "3.000000e+02\n"
     ]
    }
   ],
   "source": [
    "# Numeric notations\n",
    "a = 300\n",
    "\n",
    "# hexadecimal\n",
    "print(f\"{a:x}\")\n",
    "\n",
    "# octal\n",
    "print(f\"{a:o}\")\n",
    "\n",
    "# scientific\n",
    "print(f\"{a:e}\")"
   ]
  },
  {
   "attachments": {},
   "cell_type": "markdown",
   "metadata": {},
   "source": [
    "## Basic date types in Python"
   ]
  },
  {
   "cell_type": "code",
   "execution_count": 14,
   "metadata": {},
   "outputs": [
    {
     "name": "stdout",
     "output_type": "stream",
     "text": [
      "['__add__', '__class__', '__delattr__', '__dir__', '__doc__', '__eq__', '__format__', '__ge__', '__getattribute__', '__gt__', '__hash__', '__init__', '__init_subclass__', '__le__', '__lt__', '__ne__', '__new__', '__radd__', '__reduce__', '__reduce_ex__', '__repr__', '__rsub__', '__setattr__', '__sizeof__', '__str__', '__sub__', '__subclasshook__', 'astimezone', 'combine', 'ctime', 'date', 'day', 'dst', 'fold', 'fromisocalendar', 'fromisoformat', 'fromordinal', 'fromtimestamp', 'hour', 'isocalendar', 'isoformat', 'isoweekday', 'max', 'microsecond', 'min', 'minute', 'month', 'now', 'replace', 'resolution', 'second', 'strftime', 'strptime', 'time', 'timestamp', 'timetuple', 'timetz', 'today', 'toordinal', 'tzinfo', 'tzname', 'utcfromtimestamp', 'utcnow', 'utcoffset', 'utctimetuple', 'weekday', 'year']\n"
     ]
    }
   ],
   "source": [
    "# Use the dir() function to get a list containing all objects of the module.\n",
    "print(dir(datetime))"
   ]
  },
  {
   "cell_type": "markdown",
   "metadata": {},
   "source": [
    "### Date object to represent a date"
   ]
  },
  {
   "cell_type": "code",
   "execution_count": 9,
   "metadata": {},
   "outputs": [
    {
     "name": "stdout",
     "output_type": "stream",
     "text": [
      "2022-03-07\n",
      "Current date = 2024-06-01\n"
     ]
    }
   ],
   "source": [
    "# Date object to represent a date\n",
    "a = date(2022, 3, 7)\n",
    "print(a)\n",
    "\n",
    "# Get current date\n",
    "today = date.today()\n",
    "print(\"Current date =\", today)"
   ]
  },
  {
   "cell_type": "markdown",
   "metadata": {},
   "source": [
    "### Time object to represent a time"
   ]
  },
  {
   "cell_type": "code",
   "execution_count": 10,
   "metadata": {},
   "outputs": [
    {
     "name": "stdout",
     "output_type": "stream",
     "text": [
      "a = 00:00:00\n",
      "c = 11:34:56\n",
      "b = 11:34:56\n"
     ]
    }
   ],
   "source": [
    "# time(hour = 0, minute = 0, second = 0)\n",
    "a = time()\n",
    "print(\"a =\", a)\n",
    "\n",
    "# time(hour, minute and second)\n",
    "c = time(hour = 11, minute = 34, second = 56)\n",
    "print(\"c =\", c)\n",
    "\n",
    "# time(hour, minute and second)\n",
    "b = time(11, 34, 56)\n",
    "print(\"b =\", b)"
   ]
  },
  {
   "cell_type": "markdown",
   "metadata": {},
   "source": [
    "### Datetime object to represent a datetime"
   ]
  },
  {
   "cell_type": "code",
   "execution_count": 11,
   "metadata": {},
   "outputs": [
    {
     "name": "stdout",
     "output_type": "stream",
     "text": [
      "2022-12-31 00:00:00\n",
      "2022-12-31 23:59:59\n"
     ]
    }
   ],
   "source": [
    "# datetime(year, month, day)\n",
    "a = datetime(2022, 12, 31)\n",
    "print(a)\n",
    "\n",
    "# datetime(year, month, day, hour, minute, second)\n",
    "b = datetime(2022, 12, 31, 23, 59, 59)\n",
    "print(b)"
   ]
  },
  {
   "cell_type": "markdown",
   "metadata": {},
   "source": [
    "### Timedelta object"
   ]
  },
  {
   "cell_type": "code",
   "execution_count": 18,
   "metadata": {},
   "outputs": [
    {
     "name": "stdout",
     "output_type": "stream",
     "text": [
      "13879 days, 0:00:00\n",
      "type of t3 = <class 'datetime.timedelta'>\n",
      "13878 days, 16:00:00\n",
      "type of t6 = <class 'datetime.timedelta'>\n"
     ]
    }
   ],
   "source": [
    "# Using date objects to calculate the time delta\n",
    "t1 = date(year = 1984, month = 12, day = 31)\n",
    "t2 = date(year = 2022, month = 12, day = 31)\n",
    "t3 = t2 - t1\n",
    "print(t3)\n",
    "print(\"type of t3 =\", type(t3))\n",
    "\n",
    "# Using datetime objects to calculate the time delta\n",
    "t4 = datetime(year = 1984, month = 12, day = 31, hour = 12)\n",
    "t5 = datetime(year = 2022, month = 12, day = 31, hour = 4)\n",
    "t6 = t5 - t4\n",
    "print(t6)\n",
    "print(\"type of t6 =\", type(t6))"
   ]
  },
  {
   "cell_type": "markdown",
   "metadata": {},
   "source": [
    "### Format datetime using strftime()"
   ]
  },
  {
   "cell_type": "code",
   "execution_count": 18,
   "metadata": {},
   "outputs": [
    {
     "name": "stdout",
     "output_type": "stream",
     "text": [
      "time: 19:27:23\n",
      "s1: 06/01/2024, 19:27:23\n",
      "s2: 01/06/2024, 19:27:23\n"
     ]
    }
   ],
   "source": [
    "# Current date and time\n",
    "now = datetime.now()\n",
    "\n",
    "# H:M:S format\n",
    "t = now.strftime(\"%H:%M:%S\")\n",
    "print(\"time:\", t)\n",
    "\n",
    "# mm/dd/YY H:M:S format\n",
    "s1 = now.strftime(\"%m/%d/%Y, %H:%M:%S\")\n",
    "print(\"s1:\", s1)\n",
    "\n",
    "# dd/mm/YY H:M:S format\n",
    "s2 = now.strftime(\"%d/%m/%Y, %H:%M:%S\")\n",
    "print(\"s2:\", s2)"
   ]
  },
  {
   "cell_type": "markdown",
   "metadata": {},
   "source": [
    "### Handling time zone"
   ]
  },
  {
   "cell_type": "code",
   "execution_count": 19,
   "metadata": {},
   "outputs": [
    {
     "name": "stdout",
     "output_type": "stream",
     "text": [
      "Local: 06/01/2024, 19:27:40\n",
      "New York: 06/01/2024, 13:27:40\n"
     ]
    }
   ],
   "source": [
    "# Local time\n",
    "local = datetime.now()\n",
    "print(\"Local:\", local.strftime(\"%m/%d/%Y, %H:%M:%S\"))\n",
    "\n",
    "# NY time\n",
    "tz_NY = pytz.timezone('America/New_York')\n",
    "datetime_NY = datetime.now(tz_NY)\n",
    "print(\"New York:\", datetime_NY.strftime(\"%m/%d/%Y, %H:%M:%S\"))"
   ]
  },
  {
   "attachments": {},
   "cell_type": "markdown",
   "metadata": {},
   "source": [
    "### Jupyter notebook --footer info-- (please always provide this at the end of each notebook)"
   ]
  },
  {
   "cell_type": "code",
   "execution_count": 21,
   "metadata": {},
   "outputs": [
    {
     "name": "stdout",
     "output_type": "stream",
     "text": [
      "-----------------------------------\n",
      "POSIX\n",
      "Darwin | 23.3.0\n",
      "Datetime: 2024-06-01 19:28:24\n",
      "Python Version: 3.10.13\n",
      "-----------------------------------\n"
     ]
    }
   ],
   "source": [
    "import os\n",
    "import platform\n",
    "import socket\n",
    "from platform import python_version\n",
    "from datetime import datetime\n",
    "\n",
    "print('-----------------------------------')\n",
    "print(os.name.upper())\n",
    "print(platform.system(), '|', platform.release())\n",
    "print('Datetime:', datetime.now().strftime(\"%Y-%m-%d %H:%M:%S\"))\n",
    "print('Python Version:', python_version())\n",
    "print('-----------------------------------')"
   ]
  }
 ],
 "metadata": {
  "kernelspec": {
   "display_name": "spenv",
   "language": "python",
   "name": "python3"
  },
  "language_info": {
   "codemirror_mode": {
    "name": "ipython",
    "version": 3
   },
   "file_extension": ".py",
   "mimetype": "text/x-python",
   "name": "python",
   "nbconvert_exporter": "python",
   "pygments_lexer": "ipython3",
   "version": "3.10.13"
  },
  "toc": {
   "base_numbering": 1,
   "nav_menu": {},
   "number_sections": true,
   "sideBar": true,
   "skip_h1_title": false,
   "title_cell": "Table of Contents",
   "title_sidebar": "Contents",
   "toc_cell": false,
   "toc_position": {},
   "toc_section_display": true,
   "toc_window_display": true
  },
  "vscode": {
   "interpreter": {
    "hash": "e88d0147854d95637bfda66d71c1971db493e0eba7c923c8e835cc4382a02720"
   }
  }
 },
 "nbformat": 4,
 "nbformat_minor": 4
}
